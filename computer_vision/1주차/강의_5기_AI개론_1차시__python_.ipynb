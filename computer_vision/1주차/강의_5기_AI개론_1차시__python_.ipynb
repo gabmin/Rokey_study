{
 "cells": [
  {
   "cell_type": "markdown",
   "metadata": {
    "id": "yoLOS2ohPSo-"
   },
   "source": [
    "# 1장 파이썬 입문\n",
    "파이토치를 사용한 딥러닝 프로그래밍에서 중요한 개념을 위주로 설명한다."
   ]
  },
  {
   "cell_type": "markdown",
   "metadata": {
    "id": "4NPAfuTlGuhY"
   },
   "source": [
    "* \"부록3 매트플롯립 입문\"에서 한글 폰트를 올바르게 출력하기 위한 설치 방법을 설명했다. 설치 방법은 다음과 같다."
   ]
  },
  {
   "cell_type": "code",
   "execution_count": null,
   "metadata": {
    "colab": {
     "base_uri": "https://localhost:8080/"
    },
    "executionInfo": {
     "elapsed": 18459,
     "status": "ok",
     "timestamp": 1648782355029,
     "user": {
      "displayName": "Seungmin Ha",
      "userId": "04860775544158746732"
     },
     "user_tz": -540
    },
    "id": "yKW4iAf9E27k",
    "outputId": "d3e89fe5-e239-405b-bd5a-7e8b8e5b285f"
   },
   "outputs": [
    {
     "name": "stdout",
     "output_type": "stream",
     "text": [
      "debconf: unable to initialize frontend: Dialog\n",
      "debconf: (No usable dialog-like program is installed, so the dialog based frontend cannot be used. at /usr/share/perl5/Debconf/FrontEnd/Dialog.pm line 76, <> line 4.)\n",
      "debconf: falling back to frontend: Readline\n",
      "debconf: unable to initialize frontend: Readline\n",
      "debconf: (This frontend requires a controlling tty.)\n",
      "debconf: falling back to frontend: Teletype\n",
      "dpkg-preconfigure: unable to re-open stdin: \n",
      "Processing triggers for fontconfig (2.12.6-0ubuntu2) ...\n",
      "/usr/share/fonts: caching, new cache contents: 0 fonts, 1 dirs\n",
      "/usr/share/fonts/truetype: caching, new cache contents: 0 fonts, 3 dirs\n",
      "/usr/share/fonts/truetype/humor-sans: caching, new cache contents: 1 fonts, 0 dirs\n",
      "/usr/share/fonts/truetype/liberation: caching, new cache contents: 16 fonts, 0 dirs\n",
      "/usr/share/fonts/truetype/nanum: caching, new cache contents: 31 fonts, 0 dirs\n",
      "/usr/local/share/fonts: caching, new cache contents: 0 fonts, 0 dirs\n",
      "/root/.local/share/fonts: skipping, no such directory\n",
      "/root/.fonts: skipping, no such directory\n",
      "/var/cache/fontconfig: cleaning cache directory\n",
      "/root/.cache/fontconfig: not cleaning non-existent cache directory\n",
      "/root/.fontconfig: not cleaning non-existent cache directory\n",
      "fc-cache: succeeded\n"
     ]
    }
   ],
   "source": [
    "!sudo apt-get install -y fonts-nanum* | tail -n 1\n",
    "!sudo fc-cache -fv\n",
    "!rm -rf ~/.cache/matplotlib"
   ]
  },
  {
   "cell_type": "markdown",
   "metadata": {
    "id": "hCaiKZNeF9cm"
   },
   "source": [
    "* 모든 설치가 끝나면 한글 폰트를 바르게 출력하기 위해 **[런타임]** -> **[런타임 다시시작]**을 클릭한 다음, 아래 셀부터 코드를 실행해 주십시오."
   ]
  },
  {
   "cell_type": "code",
   "execution_count": 1,
   "metadata": {
    "id": "zR8TJdQQPSpD"
   },
   "outputs": [],
   "source": [
    "# 라이브러리 임포트\n",
    "\n",
    "%matplotlib inline\n",
    "import numpy as np\n",
    "import matplotlib.pyplot as plt\n",
    "from IPython.display import display\n",
    "\n",
    "# 폰트 관련 용도\n",
    "import matplotlib.font_manager as fm\n",
    "\n",
    "\n",
    "# Colab, Linux\n",
    "# 나눔 고딕 폰트의 경로 명시\n",
    "# path = '/usr/share/fonts/truetype/nanum/NanumGothic.ttf'\n",
    "# font_name = fm.FontProperties(fname=path, size=10).get_name()\n",
    "\n",
    "# Window \n",
    "# font_name = \"NanumBarunGothic\"\n",
    "\n",
    "# Mac\n",
    "# font_name = \"AppleGothic\""
   ]
  },
  {
   "cell_type": "code",
   "execution_count": null,
   "metadata": {
    "id": "ysxb8LzbPSpD"
   },
   "outputs": [],
   "source": [
    "# 기본 폰트 설정\n",
    "plt.rcParams['font.family'] = font_name\n",
    "\n",
    "# 기본 폰트 사이즈 변경\n",
    "plt.rcParams['font.size'] = 14\n",
    "\n",
    "# 기본 그래프 사이즈 변경\n",
    "plt.rcParams['figure.figsize'] = (4,4)\n",
    "\n",
    "# 기본 그리드 표시\n",
    "# 필요에 따라 설정할 때는, plt.grid()\n",
    "plt.rcParams['axes.grid'] = True\n",
    "plt.rcParams[\"grid.linestyle\"] = \":\"\n",
    "\n",
    "# 마이너스 기호 정상 출력\n",
    "plt.rcParams['axes.unicode_minus'] = False\n",
    "\n",
    "# 넘파이 부동소수점 자릿수 표시\n",
    "np.set_printoptions(suppress=True, precision=4)"
   ]
  },
  {
   "cell_type": "markdown",
   "metadata": {
    "id": "zvXRG-ruPSpE"
   },
   "source": [
    "## 컨테이너 타입 변수에 주의\n",
    "파이썬에서 변수는 단지 실제 데이터 구조로 향하는 포인터에 지나지 않는다.\n",
    "넘파이 배열 등에서는 이 점을 의식하지 않으면 생각지도 못한 결과를 초래하는 경우가 있다."
   ]
  },
  {
   "cell_type": "markdown",
   "metadata": {
    "id": "UvPbw0jYPSpE"
   },
   "source": [
    "### 넘파이 변수 "
   ]
  },
  {
   "cell_type": "code",
   "execution_count": 14,
   "metadata": {
    "colab": {
     "base_uri": "https://localhost:8080/"
    },
    "executionInfo": {
     "elapsed": 229,
     "status": "ok",
     "timestamp": 1648782580593,
     "user": {
      "displayName": "Seungmin Ha",
      "userId": "04860775544158746732"
     },
     "user_tz": -540
    },
    "id": "mE8yGhNqPSpE",
    "outputId": "1b652ddb-7388-4dd4-cb84-136f0b2e9227"
   },
   "outputs": [
    {
     "name": "stdout",
     "output_type": "stream",
     "text": [
      "[5 7 9]\n",
      "[5 7 9]\n"
     ]
    }
   ],
   "source": [
    "# 넘파이 배열 x를 정의\n",
    "x = np.array([5, 7, 9])\n",
    "\n",
    "# 변수 y에 x를 대입\n",
    "y = x\n",
    "\n",
    "# 결과 확인\n",
    "print(x)\n",
    "print(y)"
   ]
  },
  {
   "cell_type": "code",
   "execution_count": 15,
   "metadata": {
    "colab": {
     "base_uri": "https://localhost:8080/"
    },
    "executionInfo": {
     "elapsed": 220,
     "status": "ok",
     "timestamp": 1648782582212,
     "user": {
      "displayName": "Seungmin Ha",
      "userId": "04860775544158746732"
     },
     "user_tz": -540
    },
    "id": "hdmNhQOZPSpE",
    "outputId": "cd558247-4b1c-48e9-f026-0de3527c1e23"
   },
   "outputs": [
    {
     "name": "stdout",
     "output_type": "stream",
     "text": [
      "[ 5 -1  9]\n",
      "[ 5 -1  9]\n"
     ]
    }
   ],
   "source": [
    "# x의 특정 요소를 변경\n",
    "x[1] = -1\n",
    "\n",
    "# y도 따라서 값이 바뀜\n",
    "print(x)\n",
    "print(y)"
   ]
  },
  {
   "cell_type": "code",
   "execution_count": null,
   "metadata": {
    "colab": {
     "base_uri": "https://localhost:8080/"
    },
    "executionInfo": {
     "elapsed": 260,
     "status": "ok",
     "timestamp": 1648782587755,
     "user": {
      "displayName": "Seungmin Ha",
      "userId": "04860775544158746732"
     },
     "user_tz": -540
    },
    "id": "l9H3CjJtPSpE",
    "outputId": "5b2da3dd-d522-4719-bf11-ece26139e8b3"
   },
   "outputs": [
    {
     "name": "stdout",
     "output_type": "stream",
     "text": [
      "[ 5 -1  9]\n",
      "[5 7 9]\n"
     ]
    }
   ],
   "source": [
    "# y도 동시에 변하면 안되는 경우는, 대입 시 copy 함수를 이용함\n",
    "x = np.array([5, 7, 9])\n",
    "y = x.copy()\n",
    "\n",
    "# x의 특정 요소 값이 변해도, y에는 영향이 없음\n",
    "x[1] = -1\n",
    "print(x)\n",
    "print(y)"
   ]
  },
  {
   "cell_type": "markdown",
   "metadata": {
    "id": "6Xm1XIpBPSpE"
   },
   "source": [
    "### 텐서와 넘파이 변수 간 변경"
   ]
  },
  {
   "cell_type": "code",
   "execution_count": 25,
   "metadata": {
    "colab": {
     "base_uri": "https://localhost:8080/"
    },
    "executionInfo": {
     "elapsed": 260,
     "status": "ok",
     "timestamp": 1648783014389,
     "user": {
      "displayName": "Seungmin Ha",
      "userId": "04860775544158746732"
     },
     "user_tz": -540
    },
    "id": "fLRAG-SLPSpF",
    "outputId": "e2f8dfde-7b17-47a0-9b5a-853f566acdbd"
   },
   "outputs": [
    {
     "name": "stdout",
     "output_type": "stream",
     "text": [
      "tensor([ 1., -1.,  1.,  1.,  1.])\n",
      "[1. 1. 1. 1. 1.]\n"
     ]
    }
   ],
   "source": [
    "# 안전한 방법\n",
    "\n",
    "# x1: 텐서\n",
    "x1 = torch.ones(5)\n",
    "\n",
    "# x2: x1를 copy한 넘파이\n",
    "x2 = x1.data.numpy().copy()\n",
    "\n",
    "x1[1] = -1\n",
    "\n",
    "# 결과 확인\n",
    "print(x1)\n",
    "print(x2)"
   ]
  },
  {
   "cell_type": "markdown",
   "metadata": {},
   "source": [
    "## 파이썬 연산자"
   ]
  },
  {
   "cell_type": "code",
   "execution_count": 26,
   "metadata": {},
   "outputs": [
    {
     "name": "stdout",
     "output_type": "stream",
     "text": [
      "7\n",
      "6\n",
      "9\n",
      "1.5\n",
      "1\n",
      "1\n",
      "Welcome to the python world!!\n",
      "True False\n"
     ]
    }
   ],
   "source": [
    "# Print arithmetic result\n",
    "print(3 + 4)\n",
    "print(3*2)\n",
    "print(3**2)\n",
    "print(3/2)\n",
    "print(3//2) # 정수 part\n",
    "print(3%2) # 나머지\n",
    "print(\"Welcome to the python world!!\")\n",
    "#  print(\"Welcome to the python world!!\")\n",
    "print(True, False)"
   ]
  },
  {
   "cell_type": "markdown",
   "metadata": {},
   "source": [
    "## 파이썬 자료의 구조 (Container Objects)\n",
    "* 리스트(list), 튜플(tuple), 사전(dict)"
   ]
  },
  {
   "cell_type": "code",
   "execution_count": 29,
   "metadata": {},
   "outputs": [
    {
     "name": "stdout",
     "output_type": "stream",
     "text": [
      "type(a) =  <class 'int'>\n",
      "type(b) =  <class 'float'>\n",
      "twitter = \n",
      " <class 'str'>\n"
     ]
    }
   ],
   "source": [
    "a = 12\n",
    "b = 12.55\n",
    "twitter = \"The movie is not worth the price\"\n",
    "\n",
    "\n",
    "print(\"type(a) = \", type(a)) # 32 bit/ 4 Byte\n",
    "print(\"type(b) = \", type(b)) # 64 bit/ 8 Byte\n",
    "print('twitter = \\n', type(twitter))"
   ]
  },
  {
   "cell_type": "code",
   "execution_count": 28,
   "metadata": {},
   "outputs": [
    {
     "name": "stdout",
     "output_type": "stream",
     "text": [
      "price[0] =  10000\n",
      "price[0:2] =  [10000, 3000]\n"
     ]
    }
   ],
   "source": [
    "## 리스트\n",
    "price = [10000, 3000, 12000]\n",
    "\n",
    "#list indexing\n",
    "print(\"price[0] = \", price[0])\n",
    "\n",
    "#list slicing\n",
    "print(\"price[0:2] = \", price[0:2])"
   ]
  },
  {
   "cell_type": "code",
   "execution_count": 30,
   "metadata": {},
   "outputs": [
    {
     "name": "stdout",
     "output_type": "stream",
     "text": [
      "type(fruit) =  <class 'list'>\n",
      "fruit[0] =  banana\n",
      "fruit[1:2] =  ['banana']\n"
     ]
    }
   ],
   "source": [
    "fruit = ['apple', 'banana', 'orange']\n",
    "\n",
    "print(\"type(fruit) = \", type(fruit))\n",
    "#list indexing\n",
    "print(\"fruit[0] = \", fruit[1])\n",
    "\n",
    "#list slicing\n",
    "print(\"fruit[1:2] = \", fruit[1:2])"
   ]
  },
  {
   "cell_type": "code",
   "execution_count": null,
   "metadata": {},
   "outputs": [],
   "source": [
    "## 튜플 (Tuple)\n",
    "tup = ('apple', 'banana', 'watermelon', 'cucumber')\n",
    "print(\"type(tup) = \", type(tup))\n",
    "\n",
    "print(tup)\n",
    "\n",
    "tup[0] = \"mango\" # TypeError: 'tuple' object does not support item assignment"
   ]
  },
  {
   "cell_type": "code",
   "execution_count": null,
   "metadata": {},
   "outputs": [
    {
     "name": "stdout",
     "output_type": "stream",
     "text": [
      "{'rose': 10000, 'iris': 3000, 'stargauge': 12000, 'lily': 9000, 'daffodil': 3000} \n",
      "\n",
      "dict_items([('rose', 10000), ('iris', 3000), ('stargauge', 12000), ('lily', 9000), ('daffodil', 3000)]) \n",
      "\n",
      "dict_keys(['rose', 'iris', 'stargauge', 'lily', 'daffodil']) \n",
      "\n",
      "dict_values([10000, 3000, 12000, 9000, 3000]) \n",
      "\n"
     ]
    },
    {
     "data": {
      "text/plain": [
       "{'rose': 10000,\n",
       " 'stargauge': 12000,\n",
       " 'lily': 9000,\n",
       " 'daffodil': 3000,\n",
       " 'daisy': 3000}"
      ]
     },
     "execution_count": 44,
     "metadata": {},
     "output_type": "execute_result"
    }
   ],
   "source": [
    "## 딕셔너리 (Dictionary)\n",
    "# * 자료에 접근할 때 'key' 값을 이용해서 접근\n",
    "\n",
    "flower_price ={\n",
    "    'rose': 10000,\n",
    "    'iris': 3000,\n",
    "    'stargauge': 12000,\n",
    "    'lily': 9000,\n",
    "    'daffodil': 3000\n",
    "}\n",
    "\n",
    "print(flower_price, '\\n')\n",
    "\n",
    "## 딕셔너리 접근하기\n",
    "print(flower_price.items(), '\\n') # tuple로 반환\n",
    "print(flower_price.keys(), '\\n')\n",
    "print(flower_price.values(), '\\n')\n",
    "\n",
    "flower_price['daisy'] = flower_price.pop('iris')\n",
    "flower_price"
   ]
  },
  {
   "cell_type": "code",
   "execution_count": 2,
   "metadata": {},
   "outputs": [
    {
     "name": "stdout",
     "output_type": "stream",
     "text": [
      "<class 'dict'>\n",
      "{'apple': 1000}\n",
      "fruit_price['apple'] = \n",
      " 1000\n"
     ]
    }
   ],
   "source": [
    "fruit_price={}\n",
    "print(type(fruit_price))\n",
    "\n",
    "fruit_price['apple'] = 1000\n",
    "\n",
    "print(fruit_price)\n",
    "\n",
    "## access dictionary data\n",
    "print(\"fruit_price['apple'] = \\n\", fruit_price['apple'])"
   ]
  },
  {
   "cell_type": "markdown",
   "metadata": {},
   "source": [
    "##  if 조건문"
   ]
  },
  {
   "cell_type": "code",
   "execution_count": 77,
   "metadata": {},
   "outputs": [
    {
     "name": "stdout",
     "output_type": "stream",
     "text": [
      "나리꽃을 구매합니다\n"
     ]
    }
   ],
   "source": [
    "# 만약 condition 이 True 이면 code 1 을 수행, False 이면 code 2를 수행\n",
    "# if condition: \n",
    "#      code 1\n",
    "#  else:\n",
    "#      code 2\n",
    "# \n",
    "\n",
    "rose = 1500\n",
    "\n",
    "if rose < 1000: #Boolean index:\n",
    "    print('장미꽃을 구매합니다')\n",
    "else:    \n",
    "    print('나리꽃을 구매합니다')     "
   ]
  },
  {
   "cell_type": "code",
   "execution_count": 80,
   "metadata": {},
   "outputs": [
    {
     "name": "stdout",
     "output_type": "stream",
     "text": [
      "꽃구매를 기다립니다\n"
     ]
    }
   ],
   "source": [
    "rose = 1500\n",
    "\n",
    "if rose < 1000: #Boolean index:\n",
    "    print('장미꽃을 구매합니다')\n",
    "elif rose < 2000: #\n",
    "    print('꽃구매를 기다립니다')\n",
    "else:   \n",
    "    print('나리꽃을 구매합니다')"
   ]
  },
  {
   "cell_type": "markdown",
   "metadata": {},
   "source": [
    "## for 구문"
   ]
  },
  {
   "cell_type": "code",
   "execution_count": 81,
   "metadata": {},
   "outputs": [
    {
     "name": "stdout",
     "output_type": "stream",
     "text": [
      "0\n",
      "1\n",
      "2\n",
      "3\n",
      "4\n",
      "5\n",
      "6\n",
      "7\n",
      "8\n",
      "9\n"
     ]
    }
   ],
   "source": [
    "# for 변수 in 리스트(또는 튜플, 문자열):\n",
    "#     수행할_문장1\n",
    "#     수행할_문장2\n",
    "#     ...\n",
    "\n",
    "for i in range(10):\n",
    "    print(i)"
   ]
  },
  {
   "cell_type": "code",
   "execution_count": 3,
   "metadata": {},
   "outputs": [
    {
     "name": "stdout",
     "output_type": "stream",
     "text": [
      "장미\n",
      "백합\n",
      "붓꽃\n",
      "해바라기\n"
     ]
    }
   ],
   "source": [
    "## Using string \n",
    "flowers = ['장미', '백합', '붓꽃', '해바라기']\n",
    "\n",
    "for i in flowers:\n",
    "    print(i)"
   ]
  },
  {
   "cell_type": "code",
   "execution_count": 83,
   "metadata": {},
   "outputs": [
    {
     "name": "stdout",
     "output_type": "stream",
     "text": [
      "장미\n",
      "백합\n",
      "붓꽃\n",
      "해바라기\n"
     ]
    }
   ],
   "source": [
    "## Using index\n",
    "\n",
    "flowers = ['장미', '백합', '붓꽃', '해바라기', '후리지아']\n",
    "\n",
    "for i in [0,1,2,3]:\n",
    "    print(flowers[i])"
   ]
  },
  {
   "cell_type": "markdown",
   "metadata": {},
   "source": [
    "## while 반복문"
   ]
  },
  {
   "cell_type": "code",
   "execution_count": 4,
   "metadata": {},
   "outputs": [
    {
     "name": "stdout",
     "output_type": "stream",
     "text": [
      "0\n",
      "1\n",
      "2\n",
      "3\n",
      "4\n",
      "5\n",
      "6\n",
      "7\n",
      "8\n",
      "9\n",
      "10\n"
     ]
    }
   ],
   "source": [
    "# 초기식                  \n",
    "# while 조건식:          \n",
    "#      반복할 코드   \n",
    "#      변화식                   \n",
    "\n",
    "i = 0\n",
    "while i <= 10:\n",
    "    print(i)\n",
    "    i += 1"
   ]
  },
  {
   "cell_type": "code",
   "execution_count": 5,
   "metadata": {},
   "outputs": [
    {
     "name": "stdout",
     "output_type": "stream",
     "text": [
      "1100.0 , day =  0\n",
      "1210.0 , day =  1\n",
      "1331.0 , day =  2\n",
      "1464.1 , day =  3\n",
      "1610.51 , day =  4\n",
      "1771.561 , day =  5\n",
      "1948.717 , day =  6\n",
      "2143.589 , day =  7\n",
      "2357.948 , day =  8\n",
      "2593.742 , day =  9\n",
      "2853.117 , day =  10\n"
     ]
    }
   ],
   "source": [
    "rose = 1000\n",
    "day = 0\n",
    "\n",
    "while day <= 10:\n",
    "    rose = rose + rose*0.1\n",
    "    print(round(rose, 3), \", day = \", day)\n",
    "    day += 1"
   ]
  },
  {
   "cell_type": "markdown",
   "metadata": {},
   "source": [
    "## 파이썬 함수만들기"
   ]
  },
  {
   "cell_type": "code",
   "execution_count": 5,
   "metadata": {},
   "outputs": [
    {
     "name": "stdout",
     "output_type": "stream",
     "text": [
      "Hello World\n"
     ]
    }
   ],
   "source": [
    "# 함수정의 기본 문법\n",
    "# def 함수 이름: \n",
    "#     함수 내용 \n",
    "\n",
    "# 함수 호출 \n",
    "def myfunction(): # 함수 이름\n",
    "    print(\"Hello World\") # 함수 내용\n",
    "\n",
    "myfunction() # 함수 호출\n"
   ]
  },
  {
   "cell_type": "code",
   "execution_count": 7,
   "metadata": {},
   "outputs": [
    {
     "name": "stdout",
     "output_type": "stream",
     "text": [
      "result =  12.0\n",
      "result =  <class 'float'>\n"
     ]
    }
   ],
   "source": [
    "# 합을 구하는 함수\n",
    "def addNum(num1: int, num2: int) -> float:\n",
    "    sum = num1 + num2\n",
    "    return float(sum)\n",
    "\n",
    "result = addNum(10, 2)\n",
    "print(\"result = \", result)\n",
    "print(\"result = \", type(result))"
   ]
  },
  {
   "cell_type": "code",
   "execution_count": 8,
   "metadata": {},
   "outputs": [
    {
     "name": "stdout",
     "output_type": "stream",
     "text": [
      "x =  (7, -1)\n",
      "add = 7, sub = -1\n"
     ]
    }
   ],
   "source": [
    "## 여러 개의 값 반환하기\n",
    "def add_sub(num1, num2):\n",
    "    add = num1 + num2\n",
    "    sub = num1 - num2\n",
    "    return add, sub\n",
    "\n",
    "add_sub(1, 2) # tuple로 반환\n",
    "x = add_sub(3, 4)  # tuple로 반환\n",
    "print('x = ', x)\n",
    "\n",
    "add, sub = add_sub(3, 4)\n",
    "print(\"add = {}, sub = {}\".format(add, sub))"
   ]
  },
  {
   "cell_type": "code",
   "execution_count": 10,
   "metadata": {},
   "outputs": [
    {
     "name": "stdout",
     "output_type": "stream",
     "text": [
      "result =  (2, 2.0)\n"
     ]
    }
   ],
   "source": [
    "## 함수내 함수호출, stack 구조\n",
    "def mul(a, b):\n",
    "    return a*b\n",
    "\n",
    "def divide(a, b):\n",
    "    return a/b\n",
    "\n",
    "def mul_div(x, y):\n",
    "    num1 = mul(x, y)\n",
    "    num2 = divide(x, y)\n",
    "    return num1, num2\n",
    "\n",
    "result = mul_div(2, 1)\n",
    "print('result = ', result)"
   ]
  },
  {
   "cell_type": "markdown",
   "metadata": {
    "id": "jAwsog3qPSpF"
   },
   "source": [
    "## 합성 함수를 파이썬으로 구현하기\n",
    "수학에서 합성함수가 파이썬에서 어떻게 구현되는지 확인한다."
   ]
  },
  {
   "cell_type": "markdown",
   "metadata": {
    "id": "LYchZiipPSpF"
   },
   "source": [
    "$f(x) = 2x^2 + 2$를 함수로 정의한다."
   ]
  },
  {
   "cell_type": "code",
   "execution_count": 7,
   "metadata": {
    "id": "3CqF27_GPSpF"
   },
   "outputs": [],
   "source": [
    "def f(x):\n",
    "    return (2 * x**2 + 2)"
   ]
  },
  {
   "cell_type": "code",
   "execution_count": 8,
   "metadata": {
    "colab": {
     "base_uri": "https://localhost:8080/"
    },
    "executionInfo": {
     "elapsed": 272,
     "status": "ok",
     "timestamp": 1648783088367,
     "user": {
      "displayName": "Seungmin Ha",
      "userId": "04860775544158746732"
     },
     "user_tz": -540
    },
    "id": "OiJN2YuVPSpF",
    "outputId": "f21bc74b-0be1-4a8e-9efb-078a671f92f5"
   },
   "outputs": [
    {
     "name": "stdout",
     "output_type": "stream",
     "text": [
      "[-2.   -1.75 -1.5  -1.25 -1.   -0.75 -0.5  -0.25  0.    0.25  0.5   0.75\n",
      "  1.    1.25  1.5   1.75  2.  ]\n"
     ]
    }
   ],
   "source": [
    "# 넘파이 배열로 x를 정의\n",
    "\n",
    "x = np.arange(-2, 2.1, 0.25)\n",
    "print(x)"
   ]
  },
  {
   "cell_type": "code",
   "execution_count": 9,
   "metadata": {
    "colab": {
     "base_uri": "https://localhost:8080/"
    },
    "executionInfo": {
     "elapsed": 2,
     "status": "ok",
     "timestamp": 1648783098684,
     "user": {
      "displayName": "Seungmin Ha",
      "userId": "04860775544158746732"
     },
     "user_tz": -540
    },
    "id": "WXTDLngzPSpG",
    "outputId": "181f09f9-4d17-472e-b5a9-4f23a6811b1d"
   },
   "outputs": [
    {
     "name": "stdout",
     "output_type": "stream",
     "text": [
      "[10.     8.125  6.5    5.125  4.     3.125  2.5    2.125  2.     2.125\n",
      "  2.5    3.125  4.     5.125  6.5    8.125 10.   ]\n"
     ]
    }
   ],
   "source": [
    "# f(x)의 결과를 y에 대입\n",
    "\n",
    "y = f(x)\n",
    "print(y)"
   ]
  },
  {
   "cell_type": "code",
   "execution_count": 17,
   "metadata": {
    "colab": {
     "base_uri": "https://localhost:8080/",
     "height": 377
    },
    "executionInfo": {
     "elapsed": 655,
     "status": "ok",
     "timestamp": 1648783134504,
     "user": {
      "displayName": "Seungmin Ha",
      "userId": "04860775544158746732"
     },
     "user_tz": -540
    },
    "id": "XzsseR8QPSpG",
    "outputId": "8f4aae03-dc08-4887-9f29-403307a48bf7"
   },
   "outputs": [
    {
     "data": {
      "image/png": "[encoded data removed]",
      "text/plain": [
       "<Figure size 400x400 with 1 Axes>"
      ]
     },
     "metadata": {},
     "output_type": "display_data"
    }
   ],
   "source": [
    "# 함수를 그래프로 그리기\n",
    "\n",
    "plt.plot(x, y)\n",
    "plt.show()"
   ]
  },
  {
   "cell_type": "code",
   "execution_count": 15,
   "metadata": {
    "id": "hwdDvlSKUa8W"
   },
   "outputs": [
    {
     "name": "stdout",
     "output_type": "stream",
     "text": [
      "y = n [10.     8.125  6.5    5.125  4.     3.125  2.5    2.125  2.     2.125\n",
      "  2.5    3.125  4.     5.125  6.5    8.125 10.   ]\n"
     ]
    }
   ],
   "source": [
    "# 세 가지 기본 함수의 정의\n",
    "\n",
    "def f1(x):\n",
    "    return(x**2)\n",
    "\n",
    "def f2(x):\n",
    "    return(x*2)\n",
    "\n",
    "def f3(x):\n",
    "    return(x+2)\n",
    "\n",
    "# 합성 함수 만들기\n",
    "\n",
    "x1 = f1(x)\n",
    "x2 = f2(x1)\n",
    "y = f3(x2)\n",
    "\n",
    "print(\"y = n\", y)"
   ]
  },
  {
   "cell_type": "code",
   "execution_count": 16,
   "metadata": {
    "colab": {
     "base_uri": "https://localhost:8080/",
     "height": 377
    },
    "executionInfo": {
     "elapsed": 420,
     "status": "ok",
     "timestamp": 1648783442734,
     "user": {
      "displayName": "Seungmin Ha",
      "userId": "04860775544158746732"
     },
     "user_tz": -540
    },
    "id": "hqVCcelaUbKq",
    "outputId": "e6b2311e-8d00-4e7d-c4f8-851465354f6a"
   },
   "outputs": [
    {
     "data": {
      "image/png": "[encoded data removed]",
      "text/plain": [
       "<Figure size 400x400 with 1 Axes>"
      ]
     },
     "metadata": {},
     "output_type": "display_data"
    }
   ],
   "source": [
    "# 합성 함수 그래프 그리기\n",
    "\n",
    "plt.plot(x, y)\n",
    "plt.show()"
   ]
  },
  {
   "cell_type": "markdown",
   "metadata": {
    "id": "Jp1YdzDvPSpH"
   },
   "source": [
    "## 커스텀 클래스 정의하기"
   ]
  },
  {
   "cell_type": "code",
   "execution_count": 25,
   "metadata": {},
   "outputs": [
    {
     "name": "stdout",
     "output_type": "stream",
     "text": [
      "a + b =  3\n",
      "a - b =  -1\n"
     ]
    }
   ],
   "source": [
    "## 합, 차 함수\n",
    "def add(a, b):\n",
    "    return a + b\n",
    "\n",
    "def sub(a, b):\n",
    "    return a - b\n",
    "\n",
    "a, b = 1, 2\n",
    "print(\"a + b = \", add(a, b))\n",
    "print(\"a - b = \", sub(a, b))"
   ]
  },
  {
   "cell_type": "code",
   "execution_count": 18,
   "metadata": {},
   "outputs": [
    {
     "name": "stdout",
     "output_type": "stream",
     "text": [
      "add =  5\n",
      "sub =  1\n"
     ]
    }
   ],
   "source": [
    "## class 만들기 : 비슷한 기능들을 한 번에 관리\n",
    "class Calculator:\n",
    "    def __init__(self, a:int, b:int):\n",
    "        self.result = 0\n",
    "        self.a = a\n",
    "        self.b = b\n",
    "\n",
    "    def add(self):\n",
    "        self.result = self.a + self.b\n",
    "        return self.result\n",
    "    \n",
    "    def sub(self):\n",
    "        self.result = self.a - self.b\n",
    "        return self.result\n",
    "    \n",
    "\n",
    "calculator = Calculator(3, 2)\n",
    "print(\"add = \", calculator.add())\n",
    "print(\"sub = \", calculator.sub())"
   ]
  },
  {
   "cell_type": "code",
   "execution_count": null,
   "metadata": {},
   "outputs": [],
   "source": [
    "calculator = Calculator(3, 2)\n",
    "print(\"add = \", calculator.add())\n",
    "print(\"sub = \", calculator.sub())"
   ]
  },
  {
   "cell_type": "code",
   "execution_count": 19,
   "metadata": {},
   "outputs": [],
   "source": [
    "## 상속\n",
    "class CalculatorV2(Calculator):\n",
    "    def __init__(self, x, y, c):\n",
    "        super().__init__(x, y)\n",
    "        self.c = c\n",
    "\n",
    "    def mul(self):\n",
    "        self.result = self.a * self.b\n",
    "        return self.result\n",
    "    \n",
    "    def div(self):\n",
    "        self.result = self.a / self.b\n",
    "        return self.result\n",
    "    \n",
    "    # def __str__(self):\n",
    "    #     return str(self.c)\n",
    "    \n"
   ]
  },
  {
   "cell_type": "code",
   "execution_count": 20,
   "metadata": {},
   "outputs": [
    {
     "name": "stdout",
     "output_type": "stream",
     "text": [
      "12\n",
      "8\n",
      "20\n",
      "5.0\n"
     ]
    }
   ],
   "source": [
    "calculator2 = CalculatorV2(10, 2, 1)\n",
    "\n",
    "print(calculator2.add())\n",
    "print(calculator2.sub())\n",
    "print(calculator2.mul())\n",
    "print(calculator2.div())"
   ]
  },
  {
   "cell_type": "code",
   "execution_count": 21,
   "metadata": {
    "id": "Ab0LDmO6PSpH"
   },
   "outputs": [],
   "source": [
    "# 그래프 출력을 위한 라이브러리\n",
    "import matplotlib.pyplot as plt\n",
    "\n",
    "# 원을 그리기 위해 필요한 라이브러리\n",
    "import matplotlib.patches as patches"
   ]
  },
  {
   "cell_type": "code",
   "execution_count": 22,
   "metadata": {
    "id": "ipJlePaSPSpI"
   },
   "outputs": [],
   "source": [
    "# Point 클래스 정의\n",
    "class Point:\n",
    "    # 인스턴스 생성 시에 두 개의 인수 x와 y를 가짐\n",
    "    def __init__(self, x, y):\n",
    "        # 인스턴스 속성 x에 첫 번째 인수를 할당\n",
    "        self.x = x\n",
    "        # 인스턴스 속성 y에 두 번째 인수를 할당\n",
    "        self.y = y\n",
    "\n",
    "    # draw 함수 정의(인수 없음)\n",
    "    def draw(self):\n",
    "        # (x, y)에 점을 그림\n",
    "        plt.plot(self.x, self.y, marker='o', markersize=10, c='k')"
   ]
  },
  {
   "cell_type": "code",
   "execution_count": 23,
   "metadata": {
    "id": "DAtC1ASWPSpI"
   },
   "outputs": [],
   "source": [
    "# Point 클래스로 인스턴스 변수 p1과 p2 생성\n",
    "\n",
    "p1 = Point(2,3)\n",
    "p2 = Point(-1, -2)"
   ]
  },
  {
   "cell_type": "code",
   "execution_count": 24,
   "metadata": {
    "colab": {
     "base_uri": "https://localhost:8080/"
    },
    "executionInfo": {
     "elapsed": 248,
     "status": "ok",
     "timestamp": 1648785156653,
     "user": {
      "displayName": "Seungmin Ha",
      "userId": "04860775544158746732"
     },
     "user_tz": -540
    },
    "id": "nuPBuQQyPSpI",
    "outputId": "f8fc1c7e-aa03-4859-e56d-d2e5d86ddacc"
   },
   "outputs": [
    {
     "name": "stdout",
     "output_type": "stream",
     "text": [
      "2 3\n",
      "-1 -2\n"
     ]
    }
   ],
   "source": [
    "# p1과 p2의 속성x, y\n",
    "\n",
    "print(p1.x, p1.y)\n",
    "print(p2.x, p2.y)"
   ]
  },
  {
   "cell_type": "code",
   "execution_count": 37,
   "metadata": {
    "colab": {
     "base_uri": "https://localhost:8080/",
     "height": 382
    },
    "executionInfo": {
     "elapsed": 537,
     "status": "ok",
     "timestamp": 1648785675156,
     "user": {
      "displayName": "Seungmin Ha",
      "userId": "04860775544158746732"
     },
     "user_tz": -540
    },
    "id": "P1RcK4uhPSpI",
    "outputId": "fef75886-456b-45b2-ef26-64f416e67178"
   },
   "outputs": [
    {
     "data": {
      "image/png": "[encoded data removed]",
      "text/plain": [
       "<Figure size 600x600 with 1 Axes>"
      ]
     },
     "metadata": {},
     "output_type": "display_data"
    }
   ],
   "source": [
    "# p1과 p2의 draw 함수를 호출하고, 두 개의 점을 출력함\n",
    "p1.draw()\n",
    "p2.draw()\n",
    "plt.xlim(-4, 4)\n",
    "plt.ylim(-4, 4)\n",
    "plt.show()"
   ]
  },
  {
   "cell_type": "code",
   "execution_count": 38,
   "metadata": {
    "id": "EuESwqVcPSpI"
   },
   "outputs": [],
   "source": [
    "# Point의 자식 클래스 Circle 정의 1\n",
    "\n",
    "class Circle1(Point):\n",
    "    # Circle은 인스턴스 생성 시에 인수 x, y, r을 가짐\n",
    "    def __init__(self, x, y, r):\n",
    "        # x와 y는 부모 클래스의 속성으로 설정\n",
    "        super().__init__(x, y)\n",
    "        # r은 Circle의 속성으로 설정\n",
    "        self.r = r\n",
    "     \n",
    "    # 이 단계에서 draw 함수는 정의하지 않음"
   ]
  },
  {
   "cell_type": "code",
   "execution_count": 39,
   "metadata": {
    "id": "eIDjNrTaPSpI"
   },
   "outputs": [],
   "source": [
    "# Circle1 클래스에서 인스턴스 변수 c1_1을 생성\n",
    "c1_1 = Circle1(1, 0, 2)"
   ]
  },
  {
   "cell_type": "code",
   "execution_count": 40,
   "metadata": {
    "colab": {
     "base_uri": "https://localhost:8080/"
    },
    "executionInfo": {
     "elapsed": 2,
     "status": "ok",
     "timestamp": 1648785792596,
     "user": {
      "displayName": "Seungmin Ha",
      "userId": "04860775544158746732"
     },
     "user_tz": -540
    },
    "id": "BEHIwmDzPSpI",
    "outputId": "4243b81a-d4cd-4230-e5e3-98aa7288a3ec"
   },
   "outputs": [
    {
     "name": "stdout",
     "output_type": "stream",
     "text": [
      "1 0 2\n"
     ]
    }
   ],
   "source": [
    "# c1_1의 속성 확인\n",
    "print(c1_1.x, c1_1.y, c1_1.r)"
   ]
  },
  {
   "cell_type": "code",
   "execution_count": 41,
   "metadata": {
    "colab": {
     "base_uri": "https://localhost:8080/",
     "height": 382
    },
    "executionInfo": {
     "elapsed": 341,
     "status": "ok",
     "timestamp": 1648785818043,
     "user": {
      "displayName": "Seungmin Ha",
      "userId": "04860775544158746732"
     },
     "user_tz": -540
    },
    "id": "BLkCbcCiPSpI",
    "outputId": "80c7a852-563e-4f22-b484-d08119e730fa"
   },
   "outputs": [
    {
     "data": {
      "image/png": "[encoded data removed]",
      "text/plain": [
       "<Figure size 600x600 with 1 Axes>"
      ]
     },
     "metadata": {},
     "output_type": "display_data"
    }
   ],
   "source": [
    "# p1, p2, c1_1의 각 draw 함수를 호출\n",
    "\n",
    "ax = plt.subplot()\n",
    "p1.draw()\n",
    "p2.draw()\n",
    "c1_1.draw()\n",
    "plt.xlim(-4, 4)\n",
    "plt.ylim(-4, 4)\n",
    "plt.show()"
   ]
  },
  {
   "cell_type": "markdown",
   "metadata": {
    "id": "obg1_EqDPSpJ"
   },
   "source": [
    "이 단계에서 draw 함수는 부모쪽에서 정의한 함수가 호출되고 있음을 알 수 있다."
   ]
  },
  {
   "cell_type": "code",
   "execution_count": 42,
   "metadata": {
    "id": "5qXE1-RCPSpJ"
   },
   "outputs": [],
   "source": [
    "# Point의 자식 클래스 Circle의 정의 2\n",
    "\n",
    "class Circle2(Point):\n",
    "    # Circle은 인스턴스 생성 시에 인수x, y, r을 가짐\n",
    "    def __init__(self, x, y, r):\n",
    "        # x와 y는 부모 클래스의 속성으로 설정\n",
    "        super().__init__(x, y)\n",
    "        # r은 Circle의 속성으로 설정\n",
    "        self.r = r\n",
    "     \n",
    "    # draw 함수는 자식 클래스만 따로 원을 그림\n",
    "    def draw(self):\n",
    "        # 원 그리기\n",
    "        c = patches.Circle(xy=(self.x, self.y), radius=self.r, fc='b', ec='k')\n",
    "        ax.add_patch(c)"
   ]
  },
  {
   "cell_type": "code",
   "execution_count": 43,
   "metadata": {
    "id": "8-XPnRryPSpJ"
   },
   "outputs": [],
   "source": [
    "# Circle2 클래스로부터 인스턴스 변수 c2_1을 생성\n",
    "c2_1 = Circle2(1, 0, 2)"
   ]
  },
  {
   "cell_type": "code",
   "execution_count": 46,
   "metadata": {
    "colab": {
     "base_uri": "https://localhost:8080/",
     "height": 382
    },
    "executionInfo": {
     "elapsed": 4,
     "status": "ok",
     "timestamp": 1648786011446,
     "user": {
      "displayName": "Seungmin Ha",
      "userId": "04860775544158746732"
     },
     "user_tz": -540
    },
    "id": "DKmZfGcMPSpJ",
    "outputId": "1c637f8d-6555-4b87-8235-d14208b64749"
   },
   "outputs": [
    {
     "data": {
      "image/png": "[encoded data removed]",
      "text/plain": [
       "<Figure size 600x600 with 1 Axes>"
      ]
     },
     "metadata": {},
     "output_type": "display_data"
    }
   ],
   "source": [
    "# p1, p2, c2_1의 각 draw 함수를 호출\n",
    "\n",
    "ax = plt.subplot()\n",
    "p1.draw()\n",
    "p2.draw()\n",
    "c2_1.draw()\n",
    "plt.xlim(-4, 4)\n",
    "plt.ylim(-4, 4)\n",
    "plt.show()"
   ]
  },
  {
   "cell_type": "markdown",
   "metadata": {
    "id": "4i0C8PMqPSpJ"
   },
   "source": [
    "부모의 draw 함수 대신 자식의 draw 함수가 호출되었음을 알 수 있다.\n",
    "그럼, 이 함수와 부모 함수를 모두 호출하고 싶을 때는 어떻게 해야 하는가."
   ]
  },
  {
   "cell_type": "code",
   "execution_count": 35,
   "metadata": {
    "id": "6IEbSPH8PSpJ"
   },
   "outputs": [],
   "source": [
    "# Point의 자식 클래스 Circle의 정의 3\n",
    "\n",
    "class Circle3(Point):\n",
    "    # Circle은 인스턴스 생성 시에 인수 x, y, r을 가짐\n",
    "    def __init__(self, x, y, r):\n",
    "        # x와 y는 부모 클래스의 속성으로 설정\n",
    "        super().__init__(x, y)\n",
    "        # r은 Circle의 속성으로 설정\n",
    "        self.r = r\n",
    "     \n",
    "    # Circle의 draw 함수는 부모의 함수를 호출한 다음, 원 그리기를 독자적으로 수행함\n",
    "    def draw(self):\n",
    "        # 부모 클래스의 draw 함수 호출\n",
    "        super().draw()\n",
    "        \n",
    "        # 원 그리기\n",
    "        c = patches.Circle(xy=(self.x, self.y), radius=self.r, fc='b', ec='k')\n",
    "        ax.add_patch(c)"
   ]
  },
  {
   "cell_type": "code",
   "execution_count": 36,
   "metadata": {
    "id": "rmFwn3pCPSpJ"
   },
   "outputs": [],
   "source": [
    "# Circle3 클래스로부터 인스턴스 변수 c3_1를 생성\n",
    "c3_1 = Circle3(1, 0, 2)"
   ]
  },
  {
   "cell_type": "code",
   "execution_count": 37,
   "metadata": {
    "colab": {
     "base_uri": "https://localhost:8080/",
     "height": 382
    },
    "executionInfo": {
     "elapsed": 6,
     "status": "ok",
     "timestamp": 1648786241717,
     "user": {
      "displayName": "Seungmin Ha",
      "userId": "04860775544158746732"
     },
     "user_tz": -540
    },
    "id": "AzhTYVYYPSpJ",
    "outputId": "68a55401-4ab2-4b04-9341-02bcfcabde17"
   },
   "outputs": [
    {
     "data": {
      "image/png": "[encoded data removed]",
      "text/plain": [
       "<Figure size 400x400 with 1 Axes>"
      ]
     },
     "metadata": {},
     "output_type": "display_data"
    }
   ],
   "source": [
    "# p1, p2, c3_1의 각 draw 함수를 호출\n",
    "\n",
    "ax = plt.subplot()\n",
    "p1.draw()\n",
    "p2.draw()\n",
    "c3_1.draw()\n",
    "plt.xlim(-4, 4)\n",
    "plt.ylim(-4, 4)\n",
    "plt.show()"
   ]
  },
  {
   "cell_type": "markdown",
   "metadata": {
    "id": "eTmbHTnQPSpK"
   },
   "source": [
    "## 인스턴스를 함수로 사용하는 방법"
   ]
  },
  {
   "cell_type": "code",
   "execution_count": 51,
   "metadata": {
    "id": "rx8DIFfzPSpK"
   },
   "outputs": [],
   "source": [
    "# 함수 클래스 H의 정의\n",
    "\n",
    "class H:\n",
    "    def __call__(self, x):\n",
    "        return 2*x**2 + 2"
   ]
  },
  {
   "cell_type": "code",
   "execution_count": 52,
   "metadata": {
    "colab": {
     "base_uri": "https://localhost:8080/"
    },
    "executionInfo": {
     "elapsed": 5,
     "status": "ok",
     "timestamp": 1648786331729,
     "user": {
      "displayName": "Seungmin Ha",
      "userId": "04860775544158746732"
     },
     "user_tz": -540
    },
    "id": "PmLLY2RwPSpK",
    "outputId": "7a8b0779-9bc2-4a32-e55c-e788fb8b1cd9"
   },
   "outputs": [
    {
     "name": "stdout",
     "output_type": "stream",
     "text": [
      "[-2.   -1.75 -1.5  -1.25 -1.   -0.75 -0.5  -0.25  0.    0.25  0.5   0.75\n",
      "  1.    1.25  1.5   1.75  2.  ]\n",
      "[10.     8.125  6.5    5.125  4.     3.125  2.5    2.125  2.     2.125\n",
      "  2.5    3.125  4.     5.125  6.5    8.125 10.   ]\n"
     ]
    }
   ],
   "source": [
    "# h가 함수로 동작하는지 확인\n",
    "\n",
    "# 넘파이 배열 x를 정의\n",
    "x = np.arange(-2, 2.1, 0.25)\n",
    "print(x)\n",
    "\n",
    "# H 클래스의 인스턴스로 h를 생성\n",
    "h = H() \n",
    "\n",
    "# 함수 h 호출\n",
    "y = h(x)\n",
    "print(y)"
   ]
  },
  {
   "cell_type": "code",
   "execution_count": 53,
   "metadata": {
    "colab": {
     "base_uri": "https://localhost:8080/",
     "height": 377
    },
    "executionInfo": {
     "elapsed": 484,
     "status": "ok",
     "timestamp": 1648786341503,
     "user": {
      "displayName": "Seungmin Ha",
      "userId": "04860775544158746732"
     },
     "user_tz": -540
    },
    "id": "aLJPaaFmPSpK",
    "outputId": "e5fc56f1-775e-43c2-90ba-35a9002d1781"
   },
   "outputs": [
    {
     "data": {
      "image/png": "[encoded data removed]",
      "text/plain": [
       "<Figure size 600x600 with 1 Axes>"
      ]
     },
     "metadata": {},
     "output_type": "display_data"
    }
   ],
   "source": [
    "# 그래프 출력\n",
    "\n",
    "plt.plot(x, y)\n",
    "plt.show()"
   ]
  }
 ],
 "metadata": {
  "colab": {
   "collapsed_sections": [],
   "name": "ch01_python.ipynb",
   "provenance": [],
   "toc_visible": true
  },
  "kernelspec": {
   "display_name": "pytorch_py312",
   "language": "python",
   "name": "python3"
  },
  "language_info": {
   "codemirror_mode": {
    "name": "ipython",
    "version": 3
   },
   "file_extension": ".py",
   "mimetype": "text/x-python",
   "name": "python",
   "nbconvert_exporter": "python",
   "pygments_lexer": "ipython3",
   "version": "3.12.11"
  }
 },
 "nbformat": 4,
 "nbformat_minor": 0
}
