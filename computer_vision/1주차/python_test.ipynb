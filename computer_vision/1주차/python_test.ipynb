{
 "cells": [
  {
   "cell_type": "code",
   "execution_count": null,
   "id": "0dbd9fd0",
   "metadata": {},
   "outputs": [],
   "source": [
    "print(\"hello CV\")"
   ]
  }
 ],
 "metadata": {
  "kernelspec": {
   "display_name": "sparkx_5_py312",
   "language": "python",
   "name": "python3"
  },
  "language_info": {
   "name": "python",
   "version": "3.12.11"
  }
 },
 "nbformat": 4,
 "nbformat_minor": 5
}
