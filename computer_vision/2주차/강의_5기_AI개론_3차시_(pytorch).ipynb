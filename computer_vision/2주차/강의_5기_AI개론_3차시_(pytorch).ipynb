{
 "cells": [
  {
   "cell_type": "markdown",
   "metadata": {
    "id": "y-enheccNr_a"
   },
   "source": [
    "# 3장 파이토치의 기본 기능"
   ]
  },
  {
   "cell_type": "markdown",
   "metadata": {
    "id": "KyIr2-GLU-4J"
   },
   "source": [
    "* \"부록3 매트플롯립 입문\"에서 한글 폰트를 올바르게 출력하기 위한 설치 방법을 설명했다. 설치 방법은 다음과 같다."
   ]
  },
  {
   "cell_type": "code",
   "execution_count": null,
   "metadata": {
    "colab": {
     "base_uri": "https://localhost:8080/"
    },
    "executionInfo": {
     "elapsed": 23394,
     "status": "ok",
     "timestamp": 1648786453318,
     "user": {
      "displayName": "Seungmin Ha",
      "userId": "04860775544158746732"
     },
     "user_tz": -540
    },
    "id": "AjjR34BbU7oL",
    "outputId": "1ff5da76-744c-438b-8858-c47f59bf0119"
   },
   "outputs": [
    {
     "name": "stdout",
     "output_type": "stream",
     "text": [
      "debconf: unable to initialize frontend: Dialog\n",
      "debconf: (No usable dialog-like program is installed, so the dialog based frontend cannot be used. at /usr/share/perl5/Debconf/FrontEnd/Dialog.pm line 76, <> line 4.)\n",
      "debconf: falling back to frontend: Readline\n",
      "debconf: unable to initialize frontend: Readline\n",
      "debconf: (This frontend requires a controlling tty.)\n",
      "debconf: falling back to frontend: Teletype\n",
      "dpkg-preconfigure: unable to re-open stdin: \n",
      "Processing triggers for fontconfig (2.12.6-0ubuntu2) ...\n",
      "/usr/share/fonts: caching, new cache contents: 0 fonts, 1 dirs\n",
      "/usr/share/fonts/truetype: caching, new cache contents: 0 fonts, 3 dirs\n",
      "/usr/share/fonts/truetype/humor-sans: caching, new cache contents: 1 fonts, 0 dirs\n",
      "/usr/share/fonts/truetype/liberation: caching, new cache contents: 16 fonts, 0 dirs\n",
      "/usr/share/fonts/truetype/nanum: caching, new cache contents: 31 fonts, 0 dirs\n",
      "/usr/local/share/fonts: caching, new cache contents: 0 fonts, 0 dirs\n",
      "/root/.local/share/fonts: skipping, no such directory\n",
      "/root/.fonts: skipping, no such directory\n",
      "/var/cache/fontconfig: cleaning cache directory\n",
      "/root/.cache/fontconfig: not cleaning non-existent cache directory\n",
      "/root/.fontconfig: not cleaning non-existent cache directory\n",
      "fc-cache: succeeded\n"
     ]
    }
   ],
   "source": [
    "!sudo apt-get install -y fonts-nanum* | tail -n 1\n",
    "!sudo fc-cache -fv\n",
    "!rm -rf ~/.cache/matplotlib"
   ]
  },
  {
   "cell_type": "code",
   "execution_count": null,
   "metadata": {
    "colab": {
     "base_uri": "https://localhost:8080/"
    },
    "executionInfo": {
     "elapsed": 5474,
     "status": "ok",
     "timestamp": 1648786465293,
     "user": {
      "displayName": "Seungmin Ha",
      "userId": "04860775544158746732"
     },
     "user_tz": -540
    },
    "id": "vViOXOAVNr_d",
    "outputId": "7ddd815e-7e42-4a51-ba3f-83f08524a661"
   },
   "outputs": [
    {
     "name": "stdout",
     "output_type": "stream",
     "text": [
      "Successfully installed torchviz-0.0.2\n"
     ]
    }
   ],
   "source": [
    "# 필요 라이브러리 설치\n",
    "\n",
    "!pip install torchviz | tail -n 1"
   ]
  },
  {
   "cell_type": "markdown",
   "metadata": {
    "id": "V1FQCXPBVPLk"
   },
   "source": [
    "* 모든 설치가 끝나면 한글 폰트를 바르게 출력하기 위해 **[런타임]** -> **[런타임 다시시작]**을 클릭한 다음, 아래 셀부터 코드를 실행해 주십시오."
   ]
  },
  {
   "cell_type": "code",
   "execution_count": 3,
   "metadata": {
    "id": "jfMls7nCNr_e"
   },
   "outputs": [],
   "source": [
    "# 라이브러리 임포트\n",
    "\n",
    "%matplotlib inline\n",
    "import numpy as np\n",
    "import matplotlib.pyplot as plt\n",
    "from IPython.display import display\n",
    "\n",
    "# 폰트 관련 용도\n",
    "import matplotlib.font_manager as fm\n",
    "\n",
    "# Colab, Linux\n",
    "# 나눔 고딕 폰트의 경로 명시\n",
    "path = '/usr/share/fonts/truetype/nanum/NanumGothic.ttf'\n",
    "font_name = fm.FontProperties(fname=path, size=10).get_name()\n",
    "\n",
    "# Window \n",
    "# font_name = \"NanumBarunGothic\"\n",
    "\n",
    "# Mac\n",
    "# font_name = \"AppleGothic\""
   ]
  },
  {
   "cell_type": "code",
   "execution_count": 4,
   "metadata": {
    "id": "pU48DdrNNr_e"
   },
   "outputs": [],
   "source": [
    "# 기본 폰트 설정\n",
    "plt.rcParams['font.family'] = font_name\n",
    "\n",
    "# 기본 폰트 사이즈 변경\n",
    "plt.rcParams['font.size'] = 14\n",
    "\n",
    "# 기본 그래프 사이즈 변경\n",
    "plt.rcParams['figure.figsize'] = (6,6)\n",
    "\n",
    "# 기본 그리드 표시\n",
    "# 필요에 따라 설정할 때는, plt.grid()\n",
    "plt.rcParams['axes.grid'] = True\n",
    "plt.rcParams[\"grid.linestyle\"] = \":\"\n",
    "\n",
    "# 마이너스 기호 정상 출력\n",
    "plt.rcParams['axes.unicode_minus'] = False\n",
    "\n",
    "# 넘파이 부동소수점 자릿수 표시\n",
    "np.set_printoptions(suppress=True, precision=4)"
   ]
  },
  {
   "cell_type": "markdown",
   "metadata": {
    "id": "9rmD_Xk2Nr_f"
   },
   "source": [
    "## 텐서"
   ]
  },
  {
   "cell_type": "markdown",
   "metadata": {
    "id": "IB73VStvNr_f"
   },
   "source": [
    "### 라이브러리 임포트"
   ]
  },
  {
   "cell_type": "code",
   "execution_count": 5,
   "metadata": {
    "id": "VO_-PyPRNr_f",
    "scrolled": true
   },
   "outputs": [],
   "source": [
    "# 파이토치 라이브러리\n",
    "\n",
    "import torch"
   ]
  },
  {
   "cell_type": "markdown",
   "metadata": {
    "id": "vc5dvrZgNr_f"
   },
   "source": [
    "### 다양한 계수의 텐서 만들기"
   ]
  },
  {
   "cell_type": "code",
   "execution_count": 19,
   "metadata": {},
   "outputs": [
    {
     "name": "stdout",
     "output_type": "stream",
     "text": [
      "r0 = \n",
      " tensor(10)\n",
      "torch.int64\n",
      "r1 = \n",
      " tensor([1., 2., 3.])\n",
      "torch.float32\n",
      "r2 = \n",
      " tensor([[1, 2, 3],\n",
      "        [3, 4, 5]])\n",
      "r3 = \n",
      " tensor([[[1, 2],\n",
      "         [3, 4]],\n",
      "\n",
      "        [[5, 6],\n",
      "         [7, 8]]])\n"
     ]
    }
   ],
   "source": [
    "## Tensor 만들기\n",
    "r0 = torch.tensor(10) # rank 0\n",
    "print(\"r0 = \\n\", r0)\n",
    "# print(\"r0.shape = \\n\", r0.shape)\n",
    "print(r0.dtype)\n",
    "\n",
    "r1 = torch.tensor([1, 2 ,3]) # rank 1\n",
    "print(\"r1 = \\n\",r1)\n",
    "# print(\"r1.shape = \\n\", r1.shape)\n",
    "\n",
    "r2 = torch.tensor([[1, 2, 3], [3, 4, 5]]) # rank 2\n",
    "print(\"r2 = \\n\",r2)\n",
    "# print(\"r2.shape = \\n\", r2.shape)\n",
    "\n",
    "r3 = torch.tensor([[[1, 2], [3, 4]], # rank 3\n",
    "                 [[5, 6], [7, 8]]])\n",
    "print(\"r3 = \\n\",r3)\n",
    "# print(\"r3.shape = \\n\", r3.shape)\n"
   ]
  },
  {
   "cell_type": "code",
   "execution_count": 26,
   "metadata": {
    "colab": {
     "base_uri": "https://localhost:8080/"
    },
    "executionInfo": {
     "elapsed": 3,
     "status": "ok",
     "timestamp": 1648786618488,
     "user": {
      "displayName": "Seungmin Ha",
      "userId": "04860775544158746732"
     },
     "user_tz": -540
    },
    "id": "4I1RggAmNr_g",
    "outputId": "08a10890-9b9a-47ea-f87b-1f49a9fba865"
   },
   "outputs": [
    {
     "name": "stdout",
     "output_type": "stream",
     "text": [
      "<class 'torch.Tensor'>\n",
      "torch.float32\n"
     ]
    }
   ],
   "source": [
    "# 0계 텐서(스칼라)\n",
    "r0 = torch.tensor(1.0).float()\n",
    "# r0 = torch.tensor(1.0).float()\n",
    "\n",
    "# type 확인\n",
    "print(type(r0))\n",
    "\n",
    "# dtype 확인\n",
    "print(r0.dtype)"
   ]
  },
  {
   "cell_type": "code",
   "execution_count": 27,
   "metadata": {
    "colab": {
     "base_uri": "https://localhost:8080/"
    },
    "executionInfo": {
     "elapsed": 2,
     "status": "ok",
     "timestamp": 1648786634087,
     "user": {
      "displayName": "Seungmin Ha",
      "userId": "04860775544158746732"
     },
     "user_tz": -540
    },
    "id": "-VgfrubLNr_g",
    "outputId": "3b7c07ad-c721-4680-ffd5-748d066f81ce"
   },
   "outputs": [
    {
     "name": "stdout",
     "output_type": "stream",
     "text": [
      "torch.Size([])\n",
      "tensor(1.)\n"
     ]
    }
   ],
   "source": [
    "# shape 확인\n",
    "print(r0.shape)\n",
    "\n",
    "# 데이터 확인\n",
    "print(r0.data)"
   ]
  },
  {
   "cell_type": "code",
   "execution_count": 29,
   "metadata": {},
   "outputs": [
    {
     "name": "stdout",
     "output_type": "stream",
     "text": [
      "int attribute:\n",
      "tensor([1, 2, 3])\n",
      "torch.Size([3])\n",
      "torch.int64\n",
      "cpu\n",
      "\n",
      "float attribute:\n",
      "tensor([[1., 2., 3., 4.],\n",
      "        [5., 6., 7., 8.]])\n",
      "torch.Size([2, 4])\n",
      "torch.float32\n",
      "cpu\n"
     ]
    }
   ],
   "source": [
    "## tensor attribute\n",
    "print(\"int attribute:\")\n",
    "int_atr = torch.tensor([1, 2, 3])\n",
    "print(int_atr)\n",
    "print(int_atr.shape)\n",
    "print(int_atr.dtype)\n",
    "print(int_atr.device)\n",
    "print()\n",
    "\n",
    "print(\"float attribute:\")\n",
    "float_atr = torch.tensor([[1, 2, 3, 4],\n",
    "                          [5, 6, 7, 8]], dtype=torch.float32)\n",
    "print(float_atr)\n",
    "print(float_atr.shape)\n",
    "print(float_atr.dtype)\n",
    "print(float_atr.device)"
   ]
  },
  {
   "cell_type": "code",
   "execution_count": 30,
   "metadata": {},
   "outputs": [
    {
     "name": "stdout",
     "output_type": "stream",
     "text": [
      "torch.cuda.is_available():\n",
      "True\n",
      "\n",
      "torch.cuda.current_device():\n",
      "0\n",
      "\n",
      "torch.cuda.get_device_name():\n",
      "NVIDIA GeForce GTX 1070\n",
      "\n",
      "torch.cuda.device_count():\n",
      "1\n"
     ]
    }
   ],
   "source": [
    "## gpu 사용확인\n",
    "print(\"torch.cuda.is_available():\")\n",
    "print(torch.cuda.is_available())\n",
    "print()\n",
    "print(\"torch.cuda.current_device():\")\n",
    "print(torch.cuda.current_device())\n",
    "print()\n",
    "print(\"torch.cuda.get_device_name():\")\n",
    "print(torch.cuda.get_device_name(0))\n",
    "print()\n",
    "print(\"torch.cuda.device_count():\")\n",
    "print(torch.cuda.device_count())"
   ]
  },
  {
   "cell_type": "code",
   "execution_count": 31,
   "metadata": {
    "colab": {
     "base_uri": "https://localhost:8080/"
    },
    "executionInfo": {
     "elapsed": 2,
     "status": "ok",
     "timestamp": 1648786764262,
     "user": {
      "displayName": "Seungmin Ha",
      "userId": "04860775544158746732"
     },
     "user_tz": -540
    },
    "id": "X0D_1LNKNr_g",
    "outputId": "814ab530-5ed5-4cec-a9bf-2fb75e90e8f9"
   },
   "outputs": [
    {
     "name": "stdout",
     "output_type": "stream",
     "text": [
      "(5,)\n",
      "torch.float32\n",
      "torch.Size([5])\n",
      "tensor([1., 2., 3., 4., 5.])\n"
     ]
    }
   ],
   "source": [
    "# 1계 텐서(벡터)\n",
    "\n",
    "# 1계 넘파이 변수 작성\n",
    "r1_np = np.array([1, 2, 3, 4, 5])\n",
    "print(r1_np.shape)\n",
    "\n",
    "# 넘파이에서 텐서로 변환\n",
    "r1 = torch.tensor(r1_np).float()\n",
    "\n",
    "# dtype 확인\n",
    "print(r1.dtype)\n",
    "\n",
    "# shape 확인\n",
    "print(r1.shape)\n",
    "\n",
    "# 데이터 확인\n",
    "print(r1.data)"
   ]
  },
  {
   "cell_type": "code",
   "execution_count": 32,
   "metadata": {
    "colab": {
     "base_uri": "https://localhost:8080/"
    },
    "executionInfo": {
     "elapsed": 2,
     "status": "ok",
     "timestamp": 1648786803506,
     "user": {
      "displayName": "Seungmin Ha",
      "userId": "04860775544158746732"
     },
     "user_tz": -540
    },
    "id": "VamMmZJYNr_h",
    "outputId": "c7007057-2331-4841-ef56-906cc7f01f58"
   },
   "outputs": [
    {
     "name": "stdout",
     "output_type": "stream",
     "text": [
      "(2, 3)\n",
      "torch.Size([2, 3])\n",
      "tensor([[1., 5., 6.],\n",
      "        [4., 3., 2.]])\n"
     ]
    }
   ],
   "source": [
    "# 2계 텐서(행렬)\n",
    "\n",
    "# 2계 넘파이 변수 작성\n",
    "r2_np = np.array([[1, 5, 6], [4, 3, 2]])\n",
    "print(r2_np.shape)\n",
    "\n",
    "# 넘파이에서 텐서로 변환\n",
    "r2 = torch.tensor(r2_np).float()\n",
    "\n",
    "# shape 확인\n",
    "print(r2.shape)\n",
    "\n",
    "# 데이터 확인\n",
    "print(r2.data)"
   ]
  },
  {
   "cell_type": "code",
   "execution_count": 50,
   "metadata": {
    "colab": {
     "base_uri": "https://localhost:8080/"
    },
    "executionInfo": {
     "elapsed": 2,
     "status": "ok",
     "timestamp": 1648786844340,
     "user": {
      "displayName": "Seungmin Ha",
      "userId": "04860775544158746732"
     },
     "user_tz": -540
    },
    "id": "2X7xX5adNr_h",
    "outputId": "14ca8fe5-76af-41be-cd70-967b70f75cec"
   },
   "outputs": [
    {
     "name": "stdout",
     "output_type": "stream",
     "text": [
      "torch.Size([3, 2, 2])\n",
      "tensor([[[-0.1115,  0.1204],\n",
      "         [-0.3696, -0.2404]],\n",
      "\n",
      "        [[-1.1969,  0.2093],\n",
      "         [-0.9724, -0.7550]],\n",
      "\n",
      "        [[ 0.3239, -0.1085],\n",
      "         [ 0.2103, -0.3908]]])\n"
     ]
    }
   ],
   "source": [
    "# ３계 텐서\n",
    "\n",
    "# 난수 seed 초기화\n",
    "torch.manual_seed(123)\n",
    "\n",
    "# shape=[3,2,2]의 정규분포 텐서 작성\n",
    "r3 = torch.randn((3, 2, 2))\n",
    "\n",
    "# shape 확인\n",
    "print(r3.shape)\n",
    "\n",
    "# 데이터 확인\n",
    "print(r3.data)"
   ]
  },
  {
   "cell_type": "code",
   "execution_count": null,
   "metadata": {
    "colab": {
     "base_uri": "https://localhost:8080/"
    },
    "executionInfo": {
     "elapsed": 4,
     "status": "ok",
     "timestamp": 1648786878513,
     "user": {
      "displayName": "Seungmin Ha",
      "userId": "04860775544158746732"
     },
     "user_tz": -540
    },
    "id": "bUB69bIeNr_h",
    "outputId": "7682a576-7130-4e58-b6eb-6dbd231dcf2f"
   },
   "outputs": [
    {
     "name": "stdout",
     "output_type": "stream",
     "text": [
      "torch.Size([2, 3, 2, 2])\n",
      "tensor([[[[1., 1.],\n",
      "          [1., 1.]],\n",
      "\n",
      "         [[1., 1.],\n",
      "          [1., 1.]],\n",
      "\n",
      "         [[1., 1.],\n",
      "          [1., 1.]]],\n",
      "\n",
      "\n",
      "        [[[1., 1.],\n",
      "          [1., 1.]],\n",
      "\n",
      "         [[1., 1.],\n",
      "          [1., 1.]],\n",
      "\n",
      "         [[1., 1.],\n",
      "          [1., 1.]]]])\n"
     ]
    }
   ],
   "source": [
    "# 4계 텐서\n",
    "\n",
    "# 요소가 모두 1인 shape=[2,3,2,2] 텐서 작성\n",
    "r4 = torch.ones((2, 3, 2, 2))\n",
    "\n",
    "# shape 확인\n",
    "print(r4.shape)\n",
    "\n",
    "# 데이터 확인\n",
    "print(r4.data)"
   ]
  },
  {
   "cell_type": "code",
   "execution_count": 39,
   "metadata": {},
   "outputs": [
    {
     "name": "stdout",
     "output_type": "stream",
     "text": [
      "tensor([1, 2, 3])\n",
      "tensor([1, 2, 3], dtype=torch.int32)\n"
     ]
    }
   ],
   "source": [
    "## list, numpy to Tensor\n",
    "x = [1, 2, 3]\n",
    "y = torch.tensor(x)\n",
    "print(y)\n",
    "\n",
    "x1 = np.array([1, 2, 3])\n",
    "# y1 = torch.tensor(x1) # 복사\n",
    "y1 = torch.from_numpy(x1) # memory 공유\n",
    "\n",
    "print(y1)\n"
   ]
  },
  {
   "cell_type": "code",
   "execution_count": 42,
   "metadata": {},
   "outputs": [
    {
     "name": "stdout",
     "output_type": "stream",
     "text": [
      "torch.ones:\n",
      "tensor([1., 1.])\n",
      "\n",
      "tensor([[1., 1., 1.],\n",
      "        [1., 1., 1.]])\n",
      "\n",
      "tensor([[[1., 1.],\n",
      "         [1., 1.],\n",
      "         [1., 1.]],\n",
      "\n",
      "        [[1., 1.],\n",
      "         [1., 1.],\n",
      "         [1., 1.]]])\n",
      "torch.zeros:\n",
      "tensor([0., 0.])\n",
      "\n",
      "tensor([[0., 0., 0.],\n",
      "        [0., 0., 0.]])\n",
      "\n",
      "tensor([[[0., 0.],\n",
      "         [0., 0.],\n",
      "         [0., 0.]],\n",
      "\n",
      "        [[0., 0.],\n",
      "         [0., 0.],\n",
      "         [0., 0.]]])\n"
     ]
    }
   ],
   "source": [
    "## ones, zeros tensor\n",
    "print(\"torch.ones:\")\n",
    "print(torch.ones(2))\n",
    "print()\n",
    "print(torch.ones(2, 3))\n",
    "print()\n",
    "print(torch.ones(2, 3, 2))\n",
    "\n",
    "print(\"torch.zeros:\")\n",
    "print(torch.zeros(2))\n",
    "print()\n",
    "print(torch.zeros(2, 3))\n",
    "print()\n",
    "print(torch.zeros(2, 3, 2))"
   ]
  },
  {
   "cell_type": "markdown",
   "metadata": {},
   "source": [
    "### Random 텐서 만들기"
   ]
  },
  {
   "cell_type": "code",
   "execution_count": 44,
   "metadata": {},
   "outputs": [
    {
     "name": "stdout",
     "output_type": "stream",
     "text": [
      "torch.rand: uniform distribution\n",
      "tensor([[0.1910, 0.4581, 0.7872],\n",
      "        [0.5728, 0.8589, 0.1287]])\n",
      "\n",
      "torch.randn: standard normal distribution\n",
      "tensor([[-0.8008,  0.5338,  0.5878],\n",
      "        [ 0.8059,  0.7775,  3.2054]])\n",
      "\n",
      "torch.randint: random integer\n",
      "tensor([[6, 3, 5],\n",
      "        [5, 5, 4]])\n",
      "torch.normal: normal distribution\n",
      "tensor([[10.6074,  9.4492, 10.1964],\n",
      "        [10.5041,  9.2450, 11.6037]])\n",
      "torch.randperm: random permutation\n",
      "tensor([2, 6, 0, 7, 1, 5, 4, 3, 8, 9])\n",
      "torch.int64\n"
     ]
    }
   ],
   "source": [
    "## tensor random\n",
    "print(\"torch.rand: uniform distribution\")\n",
    "print(torch.rand(2, 3))\n",
    "\n",
    "print()\n",
    "\n",
    "print(\"torch.randn: standard normal distribution\")\n",
    "print(torch.randn(2, 3)) #standard normal distribution\n",
    "\n",
    "print()\n",
    "\n",
    "print(\"torch.randint: random integer\")\n",
    "print(torch.randint(1, 10, (2, 3)))\n",
    "\n",
    "print(\"torch.normal: normal distribution\")\n",
    "print(torch.normal(10, 1, (2, 3)))\n",
    "\n",
    "print(\"torch.randperm: random permutation\")\n",
    "print(torch.randperm(10))\n",
    "print(torch.randperm(10).dtype)"
   ]
  },
  {
   "cell_type": "markdown",
   "metadata": {
    "id": "f9-sP0S1Nr_i"
   },
   "source": [
    "### 정숫값을 갖는 텐서 만들기"
   ]
  },
  {
   "cell_type": "code",
   "execution_count": 45,
   "metadata": {
    "colab": {
     "base_uri": "https://localhost:8080/"
    },
    "executionInfo": {
     "elapsed": 3,
     "status": "ok",
     "timestamp": 1648786923795,
     "user": {
      "displayName": "Seungmin Ha",
      "userId": "04860775544158746732"
     },
     "user_tz": -540
    },
    "id": "R-0ZFcwrNr_i",
    "outputId": "73c58a02-410f-4cda-f436-059ed244130f"
   },
   "outputs": [
    {
     "name": "stdout",
     "output_type": "stream",
     "text": [
      "torch.int64\n",
      "tensor([1, 2, 3, 4, 5])\n"
     ]
    }
   ],
   "source": [
    "# # 1계 넘파이 변수 작성\n",
    "# r1_np = np.array([1, 2, 3, 4, 5])\n",
    "# print(r1_np.shape)\n",
    "\n",
    "# # 넘파이에서 텐서로 변환\n",
    "# r1 = torch.tensor(r1_np).float()\n",
    "\n",
    "r5 = r1.long()\n",
    "\n",
    "# dtype 확인\n",
    "print(r5.dtype)\n",
    "\n",
    "# 값 확인\n",
    "print(r5)"
   ]
  },
  {
   "cell_type": "markdown",
   "metadata": {
    "id": "xBG7lLjANr_i"
   },
   "source": [
    "### view 함수"
   ]
  },
  {
   "cell_type": "code",
   "execution_count": 52,
   "metadata": {},
   "outputs": [
    {
     "data": {
      "text/plain": [
       "tensor([[[-0.1115,  0.1204],\n",
       "         [-0.3696, -0.2404]],\n",
       "\n",
       "        [[-1.1969,  0.2093],\n",
       "         [-0.9724, -0.7550]],\n",
       "\n",
       "        [[ 0.3239, -0.1085],\n",
       "         [ 0.2103, -0.3908]]])"
      ]
     },
     "execution_count": 52,
     "metadata": {},
     "output_type": "execute_result"
    }
   ],
   "source": [
    "r3\n",
    "# r3.shape"
   ]
  },
  {
   "cell_type": "code",
   "execution_count": 55,
   "metadata": {
    "colab": {
     "base_uri": "https://localhost:8080/"
    },
    "executionInfo": {
     "elapsed": 403,
     "status": "ok",
     "timestamp": 1648786959277,
     "user": {
      "displayName": "Seungmin Ha",
      "userId": "04860775544158746732"
     },
     "user_tz": -540
    },
    "id": "LPPH3l5sNr_i",
    "outputId": "0adf1b8e-a385-4cbd-9474-4d0a295bd889"
   },
   "outputs": [
    {
     "name": "stdout",
     "output_type": "stream",
     "text": [
      "torch.Size([3, 4])\n",
      "tensor([[-0.1115,  0.1204, -0.3696, -0.2404],\n",
      "        [-1.1969,  0.2093, -0.9724, -0.7550],\n",
      "        [ 0.3239, -0.1085,  0.2103, -0.3908]])\n"
     ]
    }
   ],
   "source": [
    "# 2계화\n",
    "# 남은 자리에 -1을 지정하면 이 수를 자동으로 조정함\n",
    "\n",
    "r6 = r3.view(3, -1) # r3.shape = (3, 2, 2)\n",
    "\n",
    "# shape 확인\n",
    "print(r6.shape)\n",
    "\n",
    "# 값 확인\n",
    "print(r6.data)"
   ]
  },
  {
   "cell_type": "code",
   "execution_count": 56,
   "metadata": {
    "colab": {
     "base_uri": "https://localhost:8080/"
    },
    "executionInfo": {
     "elapsed": 2,
     "status": "ok",
     "timestamp": 1648786995395,
     "user": {
      "displayName": "Seungmin Ha",
      "userId": "04860775544158746732"
     },
     "user_tz": -540
    },
    "id": "BXeVtrWVNr_i",
    "outputId": "c2c92cb5-a394-44de-9363-4d81db7da0b0",
    "scrolled": false
   },
   "outputs": [
    {
     "name": "stdout",
     "output_type": "stream",
     "text": [
      "torch.Size([12])\n",
      "tensor([-0.1115,  0.1204, -0.3696, -0.2404, -1.1969,  0.2093, -0.9724, -0.7550,\n",
      "         0.3239, -0.1085,  0.2103, -0.3908])\n"
     ]
    }
   ],
   "source": [
    "# 1계화\n",
    "# 남은 자리에 -1을 지정하면 이 수를 자동으로 조정함\n",
    "\n",
    "r7 = r3.view(-1)\n",
    "\n",
    "# shape 확인\n",
    "print(r7.shape)\n",
    "\n",
    "# 값 확인\n",
    "print(r7.data)"
   ]
  },
  {
   "cell_type": "markdown",
   "metadata": {},
   "source": [
    "### Tensor reshape"
   ]
  },
  {
   "cell_type": "code",
   "execution_count": 61,
   "metadata": {},
   "outputs": [
    {
     "name": "stdout",
     "output_type": "stream",
     "text": [
      "tensor_reshape:\n",
      "tensor([[1, 2, 3, 4],\n",
      "        [5, 6, 7, 8]])\n",
      "torch.Size([2, 4])\n",
      "\n",
      "tensor_reshape.reshape(4, 2):\n",
      "tensor([[1, 2],\n",
      "        [3, 4],\n",
      "        [5, 6],\n",
      "        [7, 8]])\n",
      "torch.Size([4, 2])\n",
      "\n",
      "tensor_reshape.reshape(4, -1):\n",
      "tensor([[1, 2],\n",
      "        [3, 4],\n",
      "        [5, 6],\n",
      "        [7, 8]])\n",
      "torch.Size([4, 2])\n",
      "\n",
      "tensor_reshape.reshape(-1):\n",
      "tensor([1, 2, 3, 4, 5, 6, 7, 8])\n",
      "torch.Size([8])\n",
      "\n",
      "tensor_reshape.reshape(-1, 2):\n",
      "tensor([[1, 2],\n",
      "        [3, 4],\n",
      "        [5, 6],\n",
      "        [7, 8]])\n",
      "torch.Size([4, 2])\n",
      "\n",
      "tensor_reshape.reshape(1, 2, -1)\n",
      "tensor([[[1, 2, 3, 4],\n",
      "         [5, 6, 7, 8]]])\n",
      "\n",
      "tensor_reshape.reshape(-1, 2, 2)\n",
      "tensor([[[1, 2],\n",
      "         [3, 4]],\n",
      "\n",
      "        [[5, 6],\n",
      "         [7, 8]]])\n",
      "torch.Size([2, 2, 2])\n"
     ]
    }
   ],
   "source": [
    "## tensor reshape\n",
    "tensor_reshape_list=  [[1, 2, 3, 4], [5, 6, 7, 8]]\n",
    "tensor_reshape = torch.tensor(tensor_reshape_list)\n",
    "\n",
    "print(\"tensor_reshape:\")\n",
    "print(tensor_reshape)\n",
    "print(tensor_reshape.shape)\n",
    "\n",
    "print()\n",
    "\n",
    "print(\"tensor_reshape.reshape(4, 2):\")\n",
    "print(tensor_reshape.reshape(4, 2))\n",
    "print(tensor_reshape.reshape(4, 2).shape)\n",
    "\n",
    "print()\n",
    "\n",
    "print(\"tensor_reshape.reshape(4, -1):\")\n",
    "print(tensor_reshape.reshape(4, -1))\n",
    "print(tensor_reshape.reshape(4, -1).shape)\n",
    "\n",
    "print()\n",
    "\n",
    "print(\"tensor_reshape.reshape(-1):\")\n",
    "print(tensor_reshape.reshape(-1))\n",
    "print(tensor_reshape.reshape(-1).shape)\n",
    "\n",
    "print()\n",
    "\n",
    "print(\"tensor_reshape.reshape(-1, 2):\")\n",
    "print(tensor_reshape.reshape(-1, 2))\n",
    "print(tensor_reshape.reshape(-1, 2).shape)\n",
    "\n",
    "print()\n",
    "\n",
    "print(\"tensor_reshape.reshape(1, 2, -1)\")\n",
    "print(tensor_reshape.reshape(1, 2, -1))\n",
    "\n",
    "print()\n",
    "\n",
    "print(\"tensor_reshape.reshape(-1, 2, 2)\")\n",
    "print(tensor_reshape.reshape(-1, 2, 2))\n",
    "print(tensor_reshape.reshape(-1, 2, 2).shape)\n"
   ]
  },
  {
   "cell_type": "markdown",
   "metadata": {},
   "source": [
    "### Tensor squeeze"
   ]
  },
  {
   "cell_type": "code",
   "execution_count": 63,
   "metadata": {},
   "outputs": [
    {
     "name": "stdout",
     "output_type": "stream",
     "text": [
      "tensor_squeeze:\n",
      "tensor([[1],\n",
      "        [2],\n",
      "        [3]])\n",
      "torch.Size([3, 1])\n",
      "\n",
      "tensor_squeeze.squeeze():\n",
      "tensor([1, 2, 3])\n",
      "torch.Size([3])\n",
      "\n",
      "tensor_squeeze2:\n",
      "tensor([[[[1., 1., 1., 1.]],\n",
      "\n",
      "         [[1., 1., 1., 1.]]]])\n",
      "torch.Size([1, 2, 1, 4])\n"
     ]
    }
   ],
   "source": [
    "tensor_squeeze = torch.tensor([[1], [2], [3]])\n",
    "\n",
    "print(\"tensor_squeeze:\")\n",
    "print(tensor_squeeze)\n",
    "print(tensor_squeeze.shape)\n",
    "\n",
    "\n",
    "print()\n",
    "\n",
    "print(\"tensor_squeeze.squeeze():\")\n",
    "print(tensor_squeeze.squeeze())\n",
    "print(tensor_squeeze.squeeze().shape)\n",
    "\n",
    "tensor_squeeze2 = torch.ones(1,2,1,4)\n",
    "print()\n",
    "\n",
    "print(\"tensor_squeeze2:\")\n",
    "print(tensor_squeeze2)\n",
    "print(tensor_squeeze2.shape )"
   ]
  },
  {
   "cell_type": "code",
   "execution_count": 58,
   "metadata": {},
   "outputs": [
    {
     "name": "stdout",
     "output_type": "stream",
     "text": [
      "tensor([1, 2, 3, 4, 5, 6, 7, 8, 9])\n",
      "tensor([1, 3, 5, 7, 9])\n",
      "tensor([1.0000, 1.5000, 2.0000, 2.5000])\n",
      "tensor([0, 1, 2, 3, 4, 5, 6, 7, 8, 9])\n",
      "tensor([ 1.0000,  3.2500,  5.5000,  7.7500, 10.0000])\n"
     ]
    }
   ],
   "source": [
    "## tensor arange\n",
    "print(torch.arange(1, 10))\n",
    "print(torch.arange(1, 10, 2))\n",
    "print(torch.arange(1, 3, 0.5))\n",
    "print(torch.arange(10))\n",
    "print(torch.linspace(1, 10, 5))"
   ]
  },
  {
   "cell_type": "markdown",
   "metadata": {
    "id": "Xv5pRJK1Nr_j"
   },
   "source": [
    "### 그 밖의 속성"
   ]
  },
  {
   "cell_type": "code",
   "execution_count": 145,
   "metadata": {
    "colab": {
     "base_uri": "https://localhost:8080/"
    },
    "executionInfo": {
     "elapsed": 2,
     "status": "ok",
     "timestamp": 1648787191339,
     "user": {
      "displayName": "Seungmin Ha",
      "userId": "04860775544158746732"
     },
     "user_tz": -540
    },
    "id": "5ZYg-dcENr_j",
    "outputId": "25b34391-a00a-4fb1-829c-e52aa4364ca0"
   },
   "outputs": [
    {
     "name": "stdout",
     "output_type": "stream",
     "text": [
      "requires_grad:  False\n",
      "device:  cpu\n"
     ]
    }
   ],
   "source": [
    "# requires_grad 속성\n",
    "print('requires_grad: ', r1.requires_grad)\n",
    "\n",
    "# device 속성\n",
    "print('device: ', r1.device)"
   ]
  },
  {
   "cell_type": "markdown",
   "metadata": {
    "id": "0g-6LRsnNr_j"
   },
   "source": [
    "### item 함수"
   ]
  },
  {
   "cell_type": "code",
   "execution_count": 59,
   "metadata": {
    "colab": {
     "base_uri": "https://localhost:8080/"
    },
    "executionInfo": {
     "elapsed": 394,
     "status": "ok",
     "timestamp": 1648787258243,
     "user": {
      "displayName": "Seungmin Ha",
      "userId": "04860775544158746732"
     },
     "user_tz": -540
    },
    "id": "Tu3wXoDFNr_j",
    "outputId": "ab2d0dd0-7526-4052-c7ed-0b67d19afd92",
    "scrolled": false
   },
   "outputs": [
    {
     "name": "stdout",
     "output_type": "stream",
     "text": [
      "<class 'float'>\n",
      "1.0\n"
     ]
    }
   ],
   "source": [
    "# 스칼라 텐서(0계 텐서)는 item 함수로 값을 꺼낼 수 있음\n",
    "\n",
    "item = r0.item()\n",
    "\n",
    "print(type(item))\n",
    "print(item)"
   ]
  },
  {
   "cell_type": "code",
   "execution_count": null,
   "metadata": {
    "colab": {
     "base_uri": "https://localhost:8080/",
     "height": 209
    },
    "executionInfo": {
     "elapsed": 3,
     "status": "error",
     "timestamp": 1648787278102,
     "user": {
      "displayName": "Seungmin Ha",
      "userId": "04860775544158746732"
     },
     "user_tz": -540
    },
    "id": "zwi8v5C0Nr_j",
    "outputId": "ee0f607f-d1ec-4732-ca92-1241b7abd981"
   },
   "outputs": [
    {
     "ename": "ValueError",
     "evalue": "ignored",
     "output_type": "error",
     "traceback": [
      "\u001b[0;31m---------------------------------------------------------------------------\u001b[0m",
      "\u001b[0;31mValueError\u001b[0m                                Traceback (most recent call last)",
      "\u001b[0;32m<ipython-input-16-19b2fc013c51>\u001b[0m in \u001b[0;36m<module>\u001b[0;34m()\u001b[0m\n\u001b[1;32m      1\u001b[0m \u001b[0;31m# 스칼라 이외의 텐서에 item 함수는 무효함\u001b[0m\u001b[0;34m\u001b[0m\u001b[0;34m\u001b[0m\u001b[0;34m\u001b[0m\u001b[0m\n\u001b[1;32m      2\u001b[0m \u001b[0;34m\u001b[0m\u001b[0m\n\u001b[0;32m----> 3\u001b[0;31m \u001b[0mprint\u001b[0m\u001b[0;34m(\u001b[0m\u001b[0mr1\u001b[0m\u001b[0;34m.\u001b[0m\u001b[0mitem\u001b[0m\u001b[0;34m(\u001b[0m\u001b[0;34m)\u001b[0m\u001b[0;34m)\u001b[0m\u001b[0;34m\u001b[0m\u001b[0;34m\u001b[0m\u001b[0m\n\u001b[0m",
      "\u001b[0;31mValueError\u001b[0m: only one element tensors can be converted to Python scalars"
     ]
    }
   ],
   "source": [
    "# 스칼라 이외의 텐서에 item 함수는 무효함\n",
    "\n",
    "print(r1.item())"
   ]
  },
  {
   "cell_type": "code",
   "execution_count": null,
   "metadata": {
    "colab": {
     "base_uri": "https://localhost:8080/"
    },
    "executionInfo": {
     "elapsed": 3,
     "status": "ok",
     "timestamp": 1648787384590,
     "user": {
      "displayName": "Seungmin Ha",
      "userId": "04860775544158746732"
     },
     "user_tz": -540
    },
    "id": "dvE5Cy3iNr_k",
    "outputId": "cb98b2a9-c478-4604-87ad-500c8b11199c"
   },
   "outputs": [
    {
     "name": "stdout",
     "output_type": "stream",
     "text": [
      "torch.Size([1])\n",
      "1.0\n"
     ]
    }
   ],
   "source": [
    "# 요소 수가 하나뿐인 1계 텐서는 OK\n",
    "# (2계 이상에서도 마찬가지)\n",
    "t1 = torch.ones(1)\n",
    "\n",
    "# shape 확인\n",
    "print(t1.shape)\n",
    "\n",
    "# item 함수 호출\n",
    "print(t1.item())"
   ]
  },
  {
   "cell_type": "markdown",
   "metadata": {
    "id": "JnrnIuI-Nr_k"
   },
   "source": [
    "### max 함수"
   ]
  },
  {
   "cell_type": "code",
   "execution_count": null,
   "metadata": {
    "colab": {
     "base_uri": "https://localhost:8080/"
    },
    "executionInfo": {
     "elapsed": 3,
     "status": "ok",
     "timestamp": 1648787420899,
     "user": {
      "displayName": "Seungmin Ha",
      "userId": "04860775544158746732"
     },
     "user_tz": -540
    },
    "id": "bwyLGh_SNr_k",
    "outputId": "35eb6bb2-cdc7-411c-e1ef-856dcca421ab"
   },
   "outputs": [
    {
     "name": "stdout",
     "output_type": "stream",
     "text": [
      "tensor([[1., 5., 6.],\n",
      "        [4., 3., 2.]])\n",
      "tensor(6.)\n"
     ]
    }
   ],
   "source": [
    "# 텐서 r2 확인\n",
    "print(r2)\n",
    "\n",
    "# max 함수를 인수 없이 호출하면, 최댓값을 얻음\n",
    "print(r2.max())"
   ]
  },
  {
   "cell_type": "code",
   "execution_count": null,
   "metadata": {
    "colab": {
     "base_uri": "https://localhost:8080/"
    },
    "executionInfo": {
     "elapsed": 397,
     "status": "ok",
     "timestamp": 1648787625575,
     "user": {
      "displayName": "Seungmin Ha",
      "userId": "04860775544158746732"
     },
     "user_tz": -540
    },
    "id": "kLkNmIS9Nr_k",
    "outputId": "56a697e2-8273-4c4b-bac7-58ed31f82f02"
   },
   "outputs": [
    {
     "name": "stdout",
     "output_type": "stream",
     "text": [
      "torch.return_types.max(\n",
      "values=tensor([6., 4.]),\n",
      "indices=tensor([2, 0]))\n"
     ]
    }
   ],
   "source": [
    "# torch.max 함수\n",
    "# 두번째 인수는 기준이 되는 축을 의미함\n",
    "print(torch.max(r2, 1))"
   ]
  },
  {
   "cell_type": "code",
   "execution_count": null,
   "metadata": {
    "colab": {
     "base_uri": "https://localhost:8080/"
    },
    "executionInfo": {
     "elapsed": 383,
     "status": "ok",
     "timestamp": 1648787654828,
     "user": {
      "displayName": "Seungmin Ha",
      "userId": "04860775544158746732"
     },
     "user_tz": -540
    },
    "id": "lwiblU1vNr_l",
    "outputId": "64ca1504-e7ca-48c2-84dd-54c7bff60868"
   },
   "outputs": [
    {
     "name": "stdout",
     "output_type": "stream",
     "text": [
      "tensor([2, 0])\n"
     ]
    }
   ],
   "source": [
    "# 몇 번째 요소가 최댓값인지 indices 확인을 통해 알 수 있음\n",
    "# 아래 계산은 다중 분류에서 예측 라벨을 구할 때 자주 사용되는 패턴임\n",
    "print(torch.max(r2, 1)[1])"
   ]
  },
  {
   "cell_type": "markdown",
   "metadata": {},
   "source": [
    "### tensor statistic"
   ]
  },
  {
   "cell_type": "code",
   "execution_count": 60,
   "metadata": {},
   "outputs": [
    {
     "name": "stdout",
     "output_type": "stream",
     "text": [
      "tensor_stat:\n",
      "tensor([[1., 3., 5.],\n",
      "        [2., 4., 8.]])\n",
      "\n",
      "tensor_stat.sum():\n",
      "tensor(23.)\n",
      "tensor(3.)\n",
      "\n",
      "tensor_stat.sum(dim = 0):\n",
      "tensor([ 3.,  7., 13.])\n",
      "torch.return_types.median(\n",
      "values=tensor([1., 3., 5.]),\n",
      "indices=tensor([0, 0, 0]))\n",
      "\n",
      "tensor_stat.sum(dim = 1):\n",
      "tensor([ 9., 14.])\n",
      "\n",
      "tensor_stat.sum(dim = -1):\n",
      "tensor([ 9., 14.])\n",
      "\n",
      "tensor_stat.mean():\n",
      "tensor(3.8333)\n",
      "\n",
      "tensor_stat.mean(dim = 1):\n",
      "tensor([3.0000, 4.6667])\n",
      "\n",
      "tensor_stat.std():\n",
      "tensor(2.4833)\n",
      "\n",
      "tensor_stat.max():\n",
      "tensor(8.)\n",
      "\n",
      "tensor_stat.min():\n",
      "tensor(1.)\n",
      "tensor_stat.argmax()\n",
      "tensor([2, 2])\n"
     ]
    }
   ],
   "source": [
    "## tensor statistic\n",
    "tensor_stat_list = [[1, 3, 5], [2, 4, 8]]\n",
    "tensor_stat = torch.tensor(tensor_stat_list, dtype=torch.float)\n",
    "\n",
    "print(\"tensor_stat:\")\n",
    "print(tensor_stat)\n",
    "\n",
    "print()\n",
    "\n",
    "print(  \"tensor_stat.sum():\")\n",
    "print(tensor_stat.sum())\n",
    "print(tensor_stat.median())\n",
    "\n",
    "print()\n",
    "\n",
    "print(\"tensor_stat.sum(dim = 0):\")\n",
    "print(tensor_stat.sum(dim = 0))\n",
    "print(tensor_stat.median(dim = 0))\n",
    "print()\n",
    "\n",
    "print(\"tensor_stat.sum(dim = 1):\")\n",
    "print(tensor_stat.sum(dim = 1))\n",
    "\n",
    "print()\n",
    "\n",
    "print(\"tensor_stat.sum(dim = -1):\")\n",
    "print(tensor_stat.sum(dim = -1))\n",
    "\n",
    "print()\n",
    "\n",
    "print(\"tensor_stat.mean():\")\n",
    "print(tensor_stat.mean())\n",
    "\n",
    "print()\n",
    "\n",
    "print(\"tensor_stat.mean(dim = 1):\")\n",
    "print(tensor_stat.mean(dim = 1))\n",
    "\n",
    "print()\n",
    "\n",
    "print(\"tensor_stat.std():\")\n",
    "print(tensor_stat.std())\n",
    "\n",
    "print()\n",
    "\n",
    "print(\"tensor_stat.max():\")\n",
    "print(tensor_stat.max())\n",
    "\n",
    "print()\n",
    "\n",
    "print(\"tensor_stat.min():\")\n",
    "print(tensor_stat.min())\n",
    "\n",
    "print(\"tensor_stat.argmax()\")\n",
    "print(tensor_stat.argmax(dim = 1))"
   ]
  },
  {
   "cell_type": "markdown",
   "metadata": {
    "id": "W-CE04b7Nr_l"
   },
   "source": [
    "### 넘파이 변수로 변환"
   ]
  },
  {
   "cell_type": "code",
   "execution_count": 88,
   "metadata": {
    "colab": {
     "base_uri": "https://localhost:8080/"
    },
    "executionInfo": {
     "elapsed": 3,
     "status": "ok",
     "timestamp": 1648787682916,
     "user": {
      "displayName": "Seungmin Ha",
      "userId": "04860775544158746732"
     },
     "user_tz": -540
    },
    "id": "WPimA-EMNr_l",
    "outputId": "2415cff0-6c06-423f-dcb9-c14fcd17deac"
   },
   "outputs": [
    {
     "name": "stdout",
     "output_type": "stream",
     "text": [
      "<class 'numpy.ndarray'>\n",
      "[[1. 5. 6.]\n",
      " [4. 3. 2.]]\n"
     ]
    }
   ],
   "source": [
    "# 넘파이로 변환\n",
    "r2_np = r2.data.numpy()\n",
    "\n",
    "# type 확인\n",
    "print(type(r2_np))\n",
    "\n",
    "# 값 확인\n",
    "print(r2_np)"
   ]
  },
  {
   "cell_type": "markdown",
   "metadata": {
    "id": "85on1hQ4Nr_l"
   },
   "source": [
    "## ２차 함수의 경사 계산"
   ]
  },
  {
   "cell_type": "markdown",
   "metadata": {
    "id": "YiUz1baKNr_l"
   },
   "source": [
    " ### 데이터 준비"
   ]
  },
  {
   "cell_type": "code",
   "execution_count": 121,
   "metadata": {
    "colab": {
     "base_uri": "https://localhost:8080/"
    },
    "executionInfo": {
     "elapsed": 2,
     "status": "ok",
     "timestamp": 1648787744000,
     "user": {
      "displayName": "Seungmin Ha",
      "userId": "04860775544158746732"
     },
     "user_tz": -540
    },
    "id": "2K1rvdhiNr_l",
    "outputId": "94153f2b-d8a0-449e-dd72-208ae7c0967e"
   },
   "outputs": [
    {
     "name": "stdout",
     "output_type": "stream",
     "text": [
      "[-2.   -1.75 -1.5  -1.25 -1.   -0.75 -0.5  -0.25  0.    0.25  0.5   0.75\n",
      "  1.    1.25  1.5   1.75  2.  ]\n"
     ]
    }
   ],
   "source": [
    "# x를 넘파이 배열로 정의\n",
    "x_np = np.arange(-2, 2.1, 0.25)\n",
    "\n",
    "# x값 표시\n",
    "print(x_np)"
   ]
  },
  {
   "cell_type": "code",
   "execution_count": 122,
   "metadata": {
    "colab": {
     "base_uri": "https://localhost:8080/"
    },
    "executionInfo": {
     "elapsed": 2,
     "status": "ok",
     "timestamp": 1648787758873,
     "user": {
      "displayName": "Seungmin Ha",
      "userId": "04860775544158746732"
     },
     "user_tz": -540
    },
    "id": "H_YBx-t9Nr_m",
    "outputId": "86b4a286-f6a4-4e07-8beb-91eb714fdf16"
   },
   "outputs": [
    {
     "name": "stdout",
     "output_type": "stream",
     "text": [
      "tensor([-2.0000, -1.7500, -1.5000, -1.2500, -1.0000, -0.7500, -0.5000, -0.2500,\n",
      "         0.0000,  0.2500,  0.5000,  0.7500,  1.0000,  1.2500,  1.5000,  1.7500,\n",
      "         2.0000], requires_grad=True)\n"
     ]
    }
   ],
   "source": [
    "# (1) 경사 계산용 변수 정의\n",
    "\n",
    "x = torch.tensor(x_np, requires_grad=True, \n",
    "    dtype=torch.float32)\n",
    "\n",
    "# 결과 확인\n",
    "print(x)"
   ]
  },
  {
   "cell_type": "markdown",
   "metadata": {
    "id": "oos9Q69GNr_m"
   },
   "source": [
    "### ２차 함수 계산"
   ]
  },
  {
   "cell_type": "code",
   "execution_count": 123,
   "metadata": {
    "id": "ky1X5hPHNr_m"
   },
   "outputs": [],
   "source": [
    "# 2차 함수의 계산\n",
    "# 계산 그래프는 내부에서 자동 생성됨\n",
    "\n",
    "y = 2 * x**2 + 2"
   ]
  },
  {
   "cell_type": "markdown",
   "metadata": {
    "id": "iiL8-98INr_m"
   },
   "source": [
    "$ y = 2x^2 + 2$를 의미한다."
   ]
  },
  {
   "cell_type": "code",
   "execution_count": 124,
   "metadata": {
    "colab": {
     "base_uri": "https://localhost:8080/"
    },
    "executionInfo": {
     "elapsed": 2,
     "status": "ok",
     "timestamp": 1648787816330,
     "user": {
      "displayName": "Seungmin Ha",
      "userId": "04860775544158746732"
     },
     "user_tz": -540
    },
    "id": "m0Pwm9jUNr_m",
    "outputId": "26da6b91-a4e0-45eb-bcd2-9f485bbe26a9"
   },
   "outputs": [
    {
     "name": "stdout",
     "output_type": "stream",
     "text": [
      "tensor([10.0000,  8.1250,  6.5000,  5.1250,  4.0000,  3.1250,  2.5000,  2.1250,\n",
      "         2.0000,  2.1250,  2.5000,  3.1250,  4.0000,  5.1250,  6.5000,  8.1250,\n",
      "        10.0000], grad_fn=<AddBackward0>)\n"
     ]
    }
   ],
   "source": [
    "# y의 계산 결과 확인\n",
    "\n",
    "print(y)"
   ]
  },
  {
   "cell_type": "code",
   "execution_count": 125,
   "metadata": {
    "colab": {
     "base_uri": "https://localhost:8080/",
     "height": 377
    },
    "executionInfo": {
     "elapsed": 621,
     "status": "ok",
     "timestamp": 1648787830594,
     "user": {
      "displayName": "Seungmin Ha",
      "userId": "04860775544158746732"
     },
     "user_tz": -540
    },
    "id": "-ONyC7tSNr_m",
    "outputId": "2840ae04-622f-44a2-d802-094bc8ec542c"
   },
   "outputs": [
    {
     "data": {
      "image/png": "[encoded data removed]",
      "text/plain": [
       "<Figure size 600x600 with 1 Axes>"
      ]
     },
     "metadata": {},
     "output_type": "display_data"
    }
   ],
   "source": [
    "# 그래프(산포도) 출력\n",
    "\n",
    "plt.plot(x.data, y.data)\n",
    "plt.title(\"Y=2X^2+2\")\n",
    "plt.show()"
   ]
  },
  {
   "cell_type": "code",
   "execution_count": 126,
   "metadata": {
    "id": "L9S2STdKNr_n"
   },
   "outputs": [],
   "source": [
    "# 경사 계산을 위해 최종 값은 스칼라일 필요가 있으므로, 더미로 sum 함수를 붙임\n",
    "\n",
    "z = y.sum()"
   ]
  },
  {
   "cell_type": "code",
   "execution_count": 114,
   "metadata": {
    "colab": {
     "base_uri": "https://localhost:8080/",
     "height": 526
    },
    "executionInfo": {
     "elapsed": 3,
     "status": "ok",
     "timestamp": 1648787932482,
     "user": {
      "displayName": "Seungmin Ha",
      "userId": "04860775544158746732"
     },
     "user_tz": -540
    },
    "id": "HcLI2RtkNr_n",
    "outputId": "a1cf2a42-ad01-4abf-8521-5a92da1cb051"
   },
   "outputs": [
    {
     "data": {
      "image/svg+xml": [
       "<?xml version=\"1.0\" encoding=\"UTF-8\" standalone=\"no\"?>\n",
       "<!DOCTYPE svg PUBLIC \"-//W3C//DTD SVG 1.1//EN\"\n",
       " \"http://www.w3.org/Graphics/SVG/1.1/DTD/svg11.dtd\">\n",
       "<!-- Generated by graphviz version 12.1.0 (20240811.2233)\n",
       " -->\n",
       "<!-- Pages: 1 -->\n",
       "<svg width=\"108pt\" height=\"394pt\"\n",
       " viewBox=\"0.00 0.00 108.00 394.00\" xmlns=\"http://www.w3.org/2000/svg\" xmlns:xlink=\"http://www.w3.org/1999/xlink\">\n",
       "<g id=\"graph0\" class=\"graph\" transform=\"scale(1 1) rotate(0) translate(4 390)\">\n",
       "<polygon fill=\"white\" stroke=\"none\" points=\"-4,4 -4,-390 104,-390 104,4 -4,4\"/>\n",
       "<!-- 2979404577584 -->\n",
       "<g id=\"node1\" class=\"node\">\n",
       "<title>2979404577584</title>\n",
       "<polygon fill=\"#caff70\" stroke=\"black\" points=\"77,-32.75 23,-32.75 23,0 77,0 77,-32.75\"/>\n",
       "<text text-anchor=\"middle\" x=\"50\" y=\"-7.25\" font-family=\"monospace\" font-size=\"10.00\"> ()</text>\n",
       "</g>\n",
       "<!-- 2979605388784 -->\n",
       "<g id=\"node2\" class=\"node\">\n",
       "<title>2979605388784</title>\n",
       "<polygon fill=\"lightgrey\" stroke=\"black\" points=\"94,-89.5 6,-89.5 6,-68.75 94,-68.75 94,-89.5\"/>\n",
       "<text text-anchor=\"middle\" x=\"50\" y=\"-76\" font-family=\"monospace\" font-size=\"10.00\">SumBackward0</text>\n",
       "</g>\n",
       "<!-- 2979605388784&#45;&gt;2979404577584 -->\n",
       "<g id=\"edge6\" class=\"edge\">\n",
       "<title>2979605388784&#45;&gt;2979404577584</title>\n",
       "<path fill=\"none\" stroke=\"black\" d=\"M50,-68.36C50,-61.89 50,-53.05 50,-44.55\"/>\n",
       "<polygon fill=\"black\" stroke=\"black\" points=\"53.5,-44.55 50,-34.55 46.5,-44.55 53.5,-44.55\"/>\n",
       "</g>\n",
       "<!-- 2979605387152 -->\n",
       "<g id=\"node3\" class=\"node\">\n",
       "<title>2979605387152</title>\n",
       "<polygon fill=\"lightgrey\" stroke=\"black\" points=\"94,-146.25 6,-146.25 6,-125.5 94,-125.5 94,-146.25\"/>\n",
       "<text text-anchor=\"middle\" x=\"50\" y=\"-132.75\" font-family=\"monospace\" font-size=\"10.00\">AddBackward0</text>\n",
       "</g>\n",
       "<!-- 2979605387152&#45;&gt;2979605388784 -->\n",
       "<g id=\"edge1\" class=\"edge\">\n",
       "<title>2979605387152&#45;&gt;2979605388784</title>\n",
       "<path fill=\"none\" stroke=\"black\" d=\"M50,-125.09C50,-118.47 50,-109.47 50,-101.27\"/>\n",
       "<polygon fill=\"black\" stroke=\"black\" points=\"53.5,-101.34 50,-91.34 46.5,-101.34 53.5,-101.34\"/>\n",
       "</g>\n",
       "<!-- 2979605387824 -->\n",
       "<g id=\"node4\" class=\"node\">\n",
       "<title>2979605387824</title>\n",
       "<polygon fill=\"lightgrey\" stroke=\"black\" points=\"94,-203 6,-203 6,-182.25 94,-182.25 94,-203\"/>\n",
       "<text text-anchor=\"middle\" x=\"50\" y=\"-189.5\" font-family=\"monospace\" font-size=\"10.00\">MulBackward0</text>\n",
       "</g>\n",
       "<!-- 2979605387824&#45;&gt;2979605387152 -->\n",
       "<g id=\"edge2\" class=\"edge\">\n",
       "<title>2979605387824&#45;&gt;2979605387152</title>\n",
       "<path fill=\"none\" stroke=\"black\" d=\"M50,-181.84C50,-175.22 50,-166.22 50,-158.02\"/>\n",
       "<polygon fill=\"black\" stroke=\"black\" points=\"53.5,-158.09 50,-148.09 46.5,-158.09 53.5,-158.09\"/>\n",
       "</g>\n",
       "<!-- 2979605388976 -->\n",
       "<g id=\"node5\" class=\"node\">\n",
       "<title>2979605388976</title>\n",
       "<polygon fill=\"lightgrey\" stroke=\"black\" points=\"94,-259.75 6,-259.75 6,-239 94,-239 94,-259.75\"/>\n",
       "<text text-anchor=\"middle\" x=\"50\" y=\"-246.25\" font-family=\"monospace\" font-size=\"10.00\">PowBackward0</text>\n",
       "</g>\n",
       "<!-- 2979605388976&#45;&gt;2979605387824 -->\n",
       "<g id=\"edge3\" class=\"edge\">\n",
       "<title>2979605388976&#45;&gt;2979605387824</title>\n",
       "<path fill=\"none\" stroke=\"black\" d=\"M50,-238.59C50,-231.97 50,-222.97 50,-214.77\"/>\n",
       "<polygon fill=\"black\" stroke=\"black\" points=\"53.5,-214.84 50,-204.84 46.5,-214.84 53.5,-214.84\"/>\n",
       "</g>\n",
       "<!-- 2979605388352 -->\n",
       "<g id=\"node6\" class=\"node\">\n",
       "<title>2979605388352</title>\n",
       "<polygon fill=\"lightgrey\" stroke=\"black\" points=\"100,-316.5 0,-316.5 0,-295.75 100,-295.75 100,-316.5\"/>\n",
       "<text text-anchor=\"middle\" x=\"50\" y=\"-303\" font-family=\"monospace\" font-size=\"10.00\">AccumulateGrad</text>\n",
       "</g>\n",
       "<!-- 2979605388352&#45;&gt;2979605388976 -->\n",
       "<g id=\"edge4\" class=\"edge\">\n",
       "<title>2979605388352&#45;&gt;2979605388976</title>\n",
       "<path fill=\"none\" stroke=\"black\" d=\"M50,-295.34C50,-288.72 50,-279.72 50,-271.52\"/>\n",
       "<polygon fill=\"black\" stroke=\"black\" points=\"53.5,-271.59 50,-261.59 46.5,-271.59 53.5,-271.59\"/>\n",
       "</g>\n",
       "<!-- 2979377214304 -->\n",
       "<g id=\"node7\" class=\"node\">\n",
       "<title>2979377214304</title>\n",
       "<polygon fill=\"lightblue\" stroke=\"black\" points=\"77,-386 23,-386 23,-352.5 77,-352.5 77,-386\"/>\n",
       "<text text-anchor=\"middle\" x=\"50\" y=\"-372.5\" font-family=\"monospace\" font-size=\"10.00\">x</text>\n",
       "<text text-anchor=\"middle\" x=\"50\" y=\"-359.75\" font-family=\"monospace\" font-size=\"10.00\"> (17)</text>\n",
       "</g>\n",
       "<!-- 2979377214304&#45;&gt;2979605388352 -->\n",
       "<g id=\"edge5\" class=\"edge\">\n",
       "<title>2979377214304&#45;&gt;2979605388352</title>\n",
       "<path fill=\"none\" stroke=\"black\" d=\"M50,-352.19C50,-344.85 50,-336.07 50,-328.21\"/>\n",
       "<polygon fill=\"black\" stroke=\"black\" points=\"53.5,-328.48 50,-318.48 46.5,-328.48 53.5,-328.48\"/>\n",
       "</g>\n",
       "</g>\n",
       "</svg>\n"
      ],
      "text/plain": [
       "<graphviz.graphs.Digraph at 0x2b5be521a00>"
      ]
     },
     "metadata": {},
     "output_type": "display_data"
    }
   ],
   "source": [
    "# (3) 계산 그래프 시각화\n",
    "\n",
    "# 필요한 라이브러리 임포트\n",
    "from torchviz import make_dot\n",
    "\n",
    "# 시각화 함수 호출\n",
    "g = make_dot(z, params={'x': x})\n",
    "display(g)"
   ]
  },
  {
   "cell_type": "code",
   "execution_count": 127,
   "metadata": {
    "id": "Cugbjt5WNr_n"
   },
   "outputs": [],
   "source": [
    "# (4) 경사 계산\n",
    "\n",
    "z.backward()"
   ]
  },
  {
   "cell_type": "code",
   "execution_count": 119,
   "metadata": {
    "colab": {
     "base_uri": "https://localhost:8080/"
    },
    "executionInfo": {
     "elapsed": 3,
     "status": "ok",
     "timestamp": 1648788399204,
     "user": {
      "displayName": "Seungmin Ha",
      "userId": "04860775544158746732"
     },
     "user_tz": -540
    },
    "id": "Po4-vTPPNr_n",
    "outputId": "f2811716-e310-41b2-aec3-28986aa10612"
   },
   "outputs": [
    {
     "name": "stdout",
     "output_type": "stream",
     "text": [
      "tensor([-16., -14., -12., -10.,  -8.,  -6.,  -4.,  -2.,   0.,   2.,   4.,   6.,\n",
      "          8.,  10.,  12.,  14.,  16.])\n"
     ]
    }
   ],
   "source": [
    "# (5) 경삿값 가져오기\n",
    "\n",
    "print(x.grad)"
   ]
  },
  {
   "cell_type": "code",
   "execution_count": 128,
   "metadata": {
    "colab": {
     "base_uri": "https://localhost:8080/",
     "height": 377
    },
    "executionInfo": {
     "elapsed": 3,
     "status": "ok",
     "timestamp": 1648788409605,
     "user": {
      "displayName": "Seungmin Ha",
      "userId": "04860775544158746732"
     },
     "user_tz": -540
    },
    "id": "ZaZ5KFSINr_o",
    "outputId": "485b5327-5a18-464a-f8cb-b0b26d132010"
   },
   "outputs": [
    {
     "data": {
      "image/png": "[encoded data removed]",
      "text/plain": [
       "<Figure size 600x600 with 1 Axes>"
      ]
     },
     "metadata": {},
     "output_type": "display_data"
    }
   ],
   "source": [
    "# 원래 함수와 경사 그래프\n",
    "\n",
    "plt.plot(x.data, y.data, c='b', label='y')\n",
    "plt.plot(x.data, x.grad.data, c='k', label='y.grad')\n",
    "plt.legend()\n",
    "plt.show()"
   ]
  },
  {
   "cell_type": "markdown",
   "metadata": {
    "id": "m5VKJUI0Nr_o"
   },
   "source": [
    "원래 함수가 2차 함수이기 때문에 경사 계산의 결과가 직선인 것은 타당한 결과"
   ]
  },
  {
   "cell_type": "markdown",
   "metadata": {
    "id": "nrBbdRIvNr_o"
   },
   "source": [
    "경사 계산을 한번 더 해보자."
   ]
  },
  {
   "cell_type": "code",
   "execution_count": null,
   "metadata": {
    "colab": {
     "base_uri": "https://localhost:8080/"
    },
    "executionInfo": {
     "elapsed": 4,
     "status": "ok",
     "timestamp": 1648788608419,
     "user": {
      "displayName": "Seungmin Ha",
      "userId": "04860775544158746732"
     },
     "user_tz": -540
    },
    "id": "dOHxzxi0Nr_o",
    "outputId": "8d507964-92d5-4ac5-976b-ff72a1124cd6"
   },
   "outputs": [
    {
     "name": "stdout",
     "output_type": "stream",
     "text": [
      "tensor([-16., -14., -12., -10.,  -8.,  -6.,  -4.,  -2.,   0.,   2.,   4.,   6.,\n",
      "          8.,  10.,  12.,  14.,  16.])\n"
     ]
    }
   ],
   "source": [
    "# 경사를 초기화하지 않고 두번째 경사를 계산\n",
    "\n",
    "y = 2 * x**2 + 2\n",
    "z = y.sum()\n",
    "z.backward()\n",
    "\n",
    "# x의 경사 확인\n",
    "print(x.grad)"
   ]
  },
  {
   "cell_type": "markdown",
   "metadata": {
    "id": "MFsyjUPXNr_o"
   },
   "source": [
    "경삿값은 경사 계산의 값이 점차 합해진 결과다. 새로운 값을 계산하기 위해서 경삿값을 조기화 해야한다."
   ]
  },
  {
   "cell_type": "code",
   "execution_count": 129,
   "metadata": {
    "colab": {
     "base_uri": "https://localhost:8080/"
    },
    "executionInfo": {
     "elapsed": 3,
     "status": "ok",
     "timestamp": 1648788700715,
     "user": {
      "displayName": "Seungmin Ha",
      "userId": "04860775544158746732"
     },
     "user_tz": -540
    },
    "id": "FURKt3aENr_p",
    "outputId": "7677181a-4752-466d-afbc-5af653867d1c"
   },
   "outputs": [
    {
     "name": "stdout",
     "output_type": "stream",
     "text": [
      "tensor([0., 0., 0., 0., 0., 0., 0., 0., 0., 0., 0., 0., 0., 0., 0., 0., 0.])\n"
     ]
    }
   ],
   "source": [
    "# (6) 경삿값의 초기화는 zero_() 함수를 사용함\n",
    "\n",
    "x.grad.zero_()\n",
    "print(x.grad)"
   ]
  },
  {
   "cell_type": "markdown",
   "metadata": {
    "id": "F-TnTbjtNr_p"
   },
   "source": [
    "## 시그모이드 함수의 경사 계산"
   ]
  },
  {
   "cell_type": "markdown",
   "metadata": {
    "id": "rCQYN3jGNr_p"
   },
   "source": [
    "시그모이드 함수는 수식으로 나타내면 다음과 같지만, 여기서는 파이토치에서 제공하는 함수를 사용한다.\n",
    "\n",
    "$ y = \\dfrac{1}{1 + \\exp{(-x)}} $"
   ]
  },
  {
   "cell_type": "code",
   "execution_count": 130,
   "metadata": {
    "id": "sl8mxsr7Nr_p"
   },
   "outputs": [],
   "source": [
    "# 시그모이드 함수의 정의\n",
    "\n",
    "sigmoid = torch.nn.Sigmoid()"
   ]
  },
  {
   "cell_type": "code",
   "execution_count": 131,
   "metadata": {
    "id": "tT7wMVDuNr_p"
   },
   "outputs": [],
   "source": [
    "# (2) y값의 계산\n",
    "\n",
    "y = sigmoid(x)"
   ]
  },
  {
   "cell_type": "code",
   "execution_count": 132,
   "metadata": {
    "colab": {
     "base_uri": "https://localhost:8080/",
     "height": 377
    },
    "executionInfo": {
     "elapsed": 601,
     "status": "ok",
     "timestamp": 1648789131298,
     "user": {
      "displayName": "Seungmin Ha",
      "userId": "04860775544158746732"
     },
     "user_tz": -540
    },
    "id": "ssP2qjhGNr_p",
    "outputId": "ebd7a0eb-f587-42ee-b8ee-33c682966a8d"
   },
   "outputs": [
    {
     "data": {
      "image/png": "[encoded data removed]",
      "text/plain": [
       "<Figure size 600x600 with 1 Axes>"
      ]
     },
     "metadata": {},
     "output_type": "display_data"
    }
   ],
   "source": [
    "# 그래프(산포도) 출력\n",
    "\n",
    "plt.plot(x.data, y.data)\n",
    "plt.show()"
   ]
  },
  {
   "cell_type": "code",
   "execution_count": 133,
   "metadata": {
    "id": "XMXYmt8WNr_q"
   },
   "outputs": [],
   "source": [
    "# 경사 계산을 위해 최종 값은 스칼라일 필요가 있으므로, 더미로 sum 함수를 붙임\n",
    "\n",
    "z = y.sum()"
   ]
  },
  {
   "cell_type": "code",
   "execution_count": 134,
   "metadata": {
    "colab": {
     "base_uri": "https://localhost:8080/",
     "height": 380
    },
    "executionInfo": {
     "elapsed": 4,
     "status": "ok",
     "timestamp": 1648789191285,
     "user": {
      "displayName": "Seungmin Ha",
      "userId": "04860775544158746732"
     },
     "user_tz": -540
    },
    "id": "w3H-6V13Nr_q",
    "outputId": "a5c8facf-93b3-4f02-c0bd-4230c08e7eec"
   },
   "outputs": [
    {
     "data": {
      "image/svg+xml": [
       "<?xml version=\"1.0\" encoding=\"UTF-8\" standalone=\"no\"?>\n",
       "<!DOCTYPE svg PUBLIC \"-//W3C//DTD SVG 1.1//EN\"\n",
       " \"http://www.w3.org/Graphics/SVG/1.1/DTD/svg11.dtd\">\n",
       "<!-- Generated by graphviz version 12.1.0 (20240811.2233)\n",
       " -->\n",
       "<!-- Pages: 1 -->\n",
       "<svg width=\"120pt\" height=\"281pt\"\n",
       " viewBox=\"0.00 0.00 120.00 280.50\" xmlns=\"http://www.w3.org/2000/svg\" xmlns:xlink=\"http://www.w3.org/1999/xlink\">\n",
       "<g id=\"graph0\" class=\"graph\" transform=\"scale(1 1) rotate(0) translate(4 276.5)\">\n",
       "<polygon fill=\"white\" stroke=\"none\" points=\"-4,4 -4,-276.5 116,-276.5 116,4 -4,4\"/>\n",
       "<!-- 2979603453168 -->\n",
       "<g id=\"node1\" class=\"node\">\n",
       "<title>2979603453168</title>\n",
       "<polygon fill=\"#caff70\" stroke=\"black\" points=\"83,-32.75 29,-32.75 29,0 83,0 83,-32.75\"/>\n",
       "<text text-anchor=\"middle\" x=\"56\" y=\"-7.25\" font-family=\"monospace\" font-size=\"10.00\"> ()</text>\n",
       "</g>\n",
       "<!-- 2979607282304 -->\n",
       "<g id=\"node2\" class=\"node\">\n",
       "<title>2979607282304</title>\n",
       "<polygon fill=\"lightgrey\" stroke=\"black\" points=\"100,-89.5 12,-89.5 12,-68.75 100,-68.75 100,-89.5\"/>\n",
       "<text text-anchor=\"middle\" x=\"56\" y=\"-76\" font-family=\"monospace\" font-size=\"10.00\">SumBackward0</text>\n",
       "</g>\n",
       "<!-- 2979607282304&#45;&gt;2979603453168 -->\n",
       "<g id=\"edge4\" class=\"edge\">\n",
       "<title>2979607282304&#45;&gt;2979603453168</title>\n",
       "<path fill=\"none\" stroke=\"black\" d=\"M56,-68.36C56,-61.89 56,-53.05 56,-44.55\"/>\n",
       "<polygon fill=\"black\" stroke=\"black\" points=\"59.5,-44.55 56,-34.55 52.5,-44.55 59.5,-44.55\"/>\n",
       "</g>\n",
       "<!-- 2979607283360 -->\n",
       "<g id=\"node3\" class=\"node\">\n",
       "<title>2979607283360</title>\n",
       "<polygon fill=\"lightgrey\" stroke=\"black\" points=\"112,-146.25 0,-146.25 0,-125.5 112,-125.5 112,-146.25\"/>\n",
       "<text text-anchor=\"middle\" x=\"56\" y=\"-132.75\" font-family=\"monospace\" font-size=\"10.00\">SigmoidBackward0</text>\n",
       "</g>\n",
       "<!-- 2979607283360&#45;&gt;2979607282304 -->\n",
       "<g id=\"edge1\" class=\"edge\">\n",
       "<title>2979607283360&#45;&gt;2979607282304</title>\n",
       "<path fill=\"none\" stroke=\"black\" d=\"M56,-125.09C56,-118.47 56,-109.47 56,-101.27\"/>\n",
       "<polygon fill=\"black\" stroke=\"black\" points=\"59.5,-101.34 56,-91.34 52.5,-101.34 59.5,-101.34\"/>\n",
       "</g>\n",
       "<!-- 2979607283216 -->\n",
       "<g id=\"node4\" class=\"node\">\n",
       "<title>2979607283216</title>\n",
       "<polygon fill=\"lightgrey\" stroke=\"black\" points=\"106,-203 6,-203 6,-182.25 106,-182.25 106,-203\"/>\n",
       "<text text-anchor=\"middle\" x=\"56\" y=\"-189.5\" font-family=\"monospace\" font-size=\"10.00\">AccumulateGrad</text>\n",
       "</g>\n",
       "<!-- 2979607283216&#45;&gt;2979607283360 -->\n",
       "<g id=\"edge2\" class=\"edge\">\n",
       "<title>2979607283216&#45;&gt;2979607283360</title>\n",
       "<path fill=\"none\" stroke=\"black\" d=\"M56,-181.84C56,-175.22 56,-166.22 56,-158.02\"/>\n",
       "<polygon fill=\"black\" stroke=\"black\" points=\"59.5,-158.09 56,-148.09 52.5,-158.09 59.5,-158.09\"/>\n",
       "</g>\n",
       "<!-- 2979597048544 -->\n",
       "<g id=\"node5\" class=\"node\">\n",
       "<title>2979597048544</title>\n",
       "<polygon fill=\"lightblue\" stroke=\"black\" points=\"83,-272.5 29,-272.5 29,-239 83,-239 83,-272.5\"/>\n",
       "<text text-anchor=\"middle\" x=\"56\" y=\"-259\" font-family=\"monospace\" font-size=\"10.00\">x</text>\n",
       "<text text-anchor=\"middle\" x=\"56\" y=\"-246.25\" font-family=\"monospace\" font-size=\"10.00\"> (17)</text>\n",
       "</g>\n",
       "<!-- 2979597048544&#45;&gt;2979607283216 -->\n",
       "<g id=\"edge3\" class=\"edge\">\n",
       "<title>2979597048544&#45;&gt;2979607283216</title>\n",
       "<path fill=\"none\" stroke=\"black\" d=\"M56,-238.69C56,-231.35 56,-222.57 56,-214.71\"/>\n",
       "<polygon fill=\"black\" stroke=\"black\" points=\"59.5,-214.98 56,-204.98 52.5,-214.98 59.5,-214.98\"/>\n",
       "</g>\n",
       "</g>\n",
       "</svg>\n"
      ],
      "text/plain": [
       "<graphviz.graphs.Digraph at 0x2b5be6f0400>"
      ]
     },
     "metadata": {},
     "output_type": "display_data"
    }
   ],
   "source": [
    "# (3) 계산 그래프 시각화\n",
    "\n",
    "g = make_dot(z, params={'x': x})\n",
    "display(g)"
   ]
  },
  {
   "cell_type": "code",
   "execution_count": 135,
   "metadata": {
    "colab": {
     "base_uri": "https://localhost:8080/"
    },
    "executionInfo": {
     "elapsed": 2,
     "status": "ok",
     "timestamp": 1648789208473,
     "user": {
      "displayName": "Seungmin Ha",
      "userId": "04860775544158746732"
     },
     "user_tz": -540
    },
    "id": "zNpm70XeNr_q",
    "outputId": "6c41eb69-0bd9-40a9-c0fc-b6d635e9387d"
   },
   "outputs": [
    {
     "name": "stdout",
     "output_type": "stream",
     "text": [
      "tensor([0.1050, 0.1261, 0.1491, 0.1731, 0.1966, 0.2179, 0.2350, 0.2461, 0.2500,\n",
      "        0.2461, 0.2350, 0.2179, 0.1966, 0.1731, 0.1491, 0.1261, 0.1050])\n"
     ]
    }
   ],
   "source": [
    "# (4) 경사 계산\n",
    "z.backward()\n",
    "\n",
    "# (5) 경삿값 확인\n",
    "print(x.grad)"
   ]
  },
  {
   "cell_type": "code",
   "execution_count": 136,
   "metadata": {
    "colab": {
     "base_uri": "https://localhost:8080/",
     "height": 377
    },
    "executionInfo": {
     "elapsed": 2,
     "status": "ok",
     "timestamp": 1648789221824,
     "user": {
      "displayName": "Seungmin Ha",
      "userId": "04860775544158746732"
     },
     "user_tz": -540
    },
    "id": "cyt_foUvNr_q",
    "outputId": "17986df7-db19-433b-d9b5-13b7e5c63b55"
   },
   "outputs": [
    {
     "data": {
      "image/png": "[encoded data removed]",
      "text/plain": [
       "<Figure size 600x600 with 1 Axes>"
      ]
     },
     "metadata": {},
     "output_type": "display_data"
    }
   ],
   "source": [
    "# 원래 함수와 경사 그래프\n",
    "\n",
    "plt.plot(x.data, y.data, c='b', label='y')\n",
    "plt.plot(x.data, x.grad.data, c='k', label='y.grad')\n",
    "plt.legend()\n",
    "plt.show()"
   ]
  },
  {
   "cell_type": "markdown",
   "metadata": {
    "id": "0kLX9BV9Nr_q"
   },
   "source": [
    "시그모이드 함수의 경사는 $y(1-y)$ 이다.  \n",
    "2차 함수이므로, $y=\\dfrac{1}{2}$(x=0일때) 최댓값 $\\dfrac{1}{4}$을 얻는다. 위의 그래프는 이 계산 결과와 일치한다."
   ]
  },
  {
   "cell_type": "code",
   "execution_count": 137,
   "metadata": {
    "id": "d6lbqTXUNr_q"
   },
   "outputs": [
    {
     "name": "stdout",
     "output_type": "stream",
     "text": [
      "tensor([0., 0., 0., 0., 0., 0., 0., 0., 0., 0., 0., 0., 0., 0., 0., 0., 0.])\n"
     ]
    }
   ],
   "source": [
    "# (6) 경사 초기화는 zero_() 함수를 사용\n",
    "\n",
    "x.grad.zero_()\n",
    "print(x.grad)"
   ]
  },
  {
   "cell_type": "markdown",
   "metadata": {
    "id": "7tGBthh4Nr_r"
   },
   "source": [
    "### (참고) 시그모이드 함수를 직접 구현한 경우"
   ]
  },
  {
   "cell_type": "code",
   "execution_count": 138,
   "metadata": {
    "id": "Uofxv02YNr_r"
   },
   "outputs": [],
   "source": [
    "# 시그모이드 함수의 정의\n",
    "\n",
    "def sigmoid(x):\n",
    "    return(1/(1 + torch.exp(-x)))"
   ]
  },
  {
   "cell_type": "code",
   "execution_count": 139,
   "metadata": {
    "id": "1A2ozRy4Nr_r"
   },
   "outputs": [],
   "source": [
    "# (2) y값의 계산\n",
    "\n",
    "y = sigmoid(x)"
   ]
  },
  {
   "cell_type": "code",
   "execution_count": 140,
   "metadata": {
    "id": "vaCaLvR5Nr_r"
   },
   "outputs": [
    {
     "data": {
      "image/png": "[encoded data removed]",
      "text/plain": [
       "<Figure size 600x600 with 1 Axes>"
      ]
     },
     "metadata": {},
     "output_type": "display_data"
    }
   ],
   "source": [
    "# 그래프(산포도) 출력\n",
    "\n",
    "plt.plot(x.data, y.data)\n",
    "plt.xlabel('x')\n",
    "plt.ylabel('y')\n",
    "plt.title('시그모이드 함수 그래프')\n",
    "plt.show()"
   ]
  },
  {
   "cell_type": "code",
   "execution_count": 141,
   "metadata": {
    "id": "8HAx2pNbNr_r"
   },
   "outputs": [],
   "source": [
    "# 경사 계산을 위해 최종 값은 스칼라일 필요가 있으므로, 더미로 sum 함수를 붙임\n",
    "\n",
    "z = y.sum()"
   ]
  },
  {
   "cell_type": "code",
   "execution_count": 142,
   "metadata": {
    "id": "m6FR7tA1Nr_r"
   },
   "outputs": [
    {
     "data": {
      "image/svg+xml": [
       "<?xml version=\"1.0\" encoding=\"UTF-8\" standalone=\"no\"?>\n",
       "<!DOCTYPE svg PUBLIC \"-//W3C//DTD SVG 1.1//EN\"\n",
       " \"http://www.w3.org/Graphics/SVG/1.1/DTD/svg11.dtd\">\n",
       "<!-- Generated by graphviz version 12.1.0 (20240811.2233)\n",
       " -->\n",
       "<!-- Pages: 1 -->\n",
       "<svg width=\"138pt\" height=\"508pt\"\n",
       " viewBox=\"0.00 0.00 138.00 507.50\" xmlns=\"http://www.w3.org/2000/svg\" xmlns:xlink=\"http://www.w3.org/1999/xlink\">\n",
       "<g id=\"graph0\" class=\"graph\" transform=\"scale(1 1) rotate(0) translate(4 503.5)\">\n",
       "<polygon fill=\"white\" stroke=\"none\" points=\"-4,4 -4,-503.5 134,-503.5 134,4 -4,4\"/>\n",
       "<!-- 2979400968608 -->\n",
       "<g id=\"node1\" class=\"node\">\n",
       "<title>2979400968608</title>\n",
       "<polygon fill=\"#caff70\" stroke=\"black\" points=\"92,-32.75 38,-32.75 38,0 92,0 92,-32.75\"/>\n",
       "<text text-anchor=\"middle\" x=\"65\" y=\"-7.25\" font-family=\"monospace\" font-size=\"10.00\"> ()</text>\n",
       "</g>\n",
       "<!-- 2979611561888 -->\n",
       "<g id=\"node2\" class=\"node\">\n",
       "<title>2979611561888</title>\n",
       "<polygon fill=\"lightgrey\" stroke=\"black\" points=\"109,-89.5 21,-89.5 21,-68.75 109,-68.75 109,-89.5\"/>\n",
       "<text text-anchor=\"middle\" x=\"65\" y=\"-76\" font-family=\"monospace\" font-size=\"10.00\">SumBackward0</text>\n",
       "</g>\n",
       "<!-- 2979611561888&#45;&gt;2979400968608 -->\n",
       "<g id=\"edge8\" class=\"edge\">\n",
       "<title>2979611561888&#45;&gt;2979400968608</title>\n",
       "<path fill=\"none\" stroke=\"black\" d=\"M65,-68.36C65,-61.89 65,-53.05 65,-44.55\"/>\n",
       "<polygon fill=\"black\" stroke=\"black\" points=\"68.5,-44.55 65,-34.55 61.5,-44.55 68.5,-44.55\"/>\n",
       "</g>\n",
       "<!-- 2979611559584 -->\n",
       "<g id=\"node3\" class=\"node\">\n",
       "<title>2979611559584</title>\n",
       "<polygon fill=\"lightgrey\" stroke=\"black\" points=\"109,-146.25 21,-146.25 21,-125.5 109,-125.5 109,-146.25\"/>\n",
       "<text text-anchor=\"middle\" x=\"65\" y=\"-132.75\" font-family=\"monospace\" font-size=\"10.00\">MulBackward0</text>\n",
       "</g>\n",
       "<!-- 2979611559584&#45;&gt;2979611561888 -->\n",
       "<g id=\"edge1\" class=\"edge\">\n",
       "<title>2979611559584&#45;&gt;2979611561888</title>\n",
       "<path fill=\"none\" stroke=\"black\" d=\"M65,-125.09C65,-118.47 65,-109.47 65,-101.27\"/>\n",
       "<polygon fill=\"black\" stroke=\"black\" points=\"68.5,-101.34 65,-91.34 61.5,-101.34 68.5,-101.34\"/>\n",
       "</g>\n",
       "<!-- 2979611560496 -->\n",
       "<g id=\"node4\" class=\"node\">\n",
       "<title>2979611560496</title>\n",
       "<polygon fill=\"lightgrey\" stroke=\"black\" points=\"130,-203 0,-203 0,-182.25 130,-182.25 130,-203\"/>\n",
       "<text text-anchor=\"middle\" x=\"65\" y=\"-189.5\" font-family=\"monospace\" font-size=\"10.00\">ReciprocalBackward0</text>\n",
       "</g>\n",
       "<!-- 2979611560496&#45;&gt;2979611559584 -->\n",
       "<g id=\"edge2\" class=\"edge\">\n",
       "<title>2979611560496&#45;&gt;2979611559584</title>\n",
       "<path fill=\"none\" stroke=\"black\" d=\"M65,-181.84C65,-175.22 65,-166.22 65,-158.02\"/>\n",
       "<polygon fill=\"black\" stroke=\"black\" points=\"68.5,-158.09 65,-148.09 61.5,-158.09 68.5,-158.09\"/>\n",
       "</g>\n",
       "<!-- 2979611558336 -->\n",
       "<g id=\"node5\" class=\"node\">\n",
       "<title>2979611558336</title>\n",
       "<polygon fill=\"lightgrey\" stroke=\"black\" points=\"109,-259.75 21,-259.75 21,-239 109,-239 109,-259.75\"/>\n",
       "<text text-anchor=\"middle\" x=\"65\" y=\"-246.25\" font-family=\"monospace\" font-size=\"10.00\">AddBackward0</text>\n",
       "</g>\n",
       "<!-- 2979611558336&#45;&gt;2979611560496 -->\n",
       "<g id=\"edge3\" class=\"edge\">\n",
       "<title>2979611558336&#45;&gt;2979611560496</title>\n",
       "<path fill=\"none\" stroke=\"black\" d=\"M65,-238.59C65,-231.97 65,-222.97 65,-214.77\"/>\n",
       "<polygon fill=\"black\" stroke=\"black\" points=\"68.5,-214.84 65,-204.84 61.5,-214.84 68.5,-214.84\"/>\n",
       "</g>\n",
       "<!-- 2979611560976 -->\n",
       "<g id=\"node6\" class=\"node\">\n",
       "<title>2979611560976</title>\n",
       "<polygon fill=\"lightgrey\" stroke=\"black\" points=\"109,-316.5 21,-316.5 21,-295.75 109,-295.75 109,-316.5\"/>\n",
       "<text text-anchor=\"middle\" x=\"65\" y=\"-303\" font-family=\"monospace\" font-size=\"10.00\">ExpBackward0</text>\n",
       "</g>\n",
       "<!-- 2979611560976&#45;&gt;2979611558336 -->\n",
       "<g id=\"edge4\" class=\"edge\">\n",
       "<title>2979611560976&#45;&gt;2979611558336</title>\n",
       "<path fill=\"none\" stroke=\"black\" d=\"M65,-295.34C65,-288.72 65,-279.72 65,-271.52\"/>\n",
       "<polygon fill=\"black\" stroke=\"black\" points=\"68.5,-271.59 65,-261.59 61.5,-271.59 68.5,-271.59\"/>\n",
       "</g>\n",
       "<!-- 2979611559824 -->\n",
       "<g id=\"node7\" class=\"node\">\n",
       "<title>2979611559824</title>\n",
       "<polygon fill=\"lightgrey\" stroke=\"black\" points=\"109,-373.25 21,-373.25 21,-352.5 109,-352.5 109,-373.25\"/>\n",
       "<text text-anchor=\"middle\" x=\"65\" y=\"-359.75\" font-family=\"monospace\" font-size=\"10.00\">NegBackward0</text>\n",
       "</g>\n",
       "<!-- 2979611559824&#45;&gt;2979611560976 -->\n",
       "<g id=\"edge5\" class=\"edge\">\n",
       "<title>2979611559824&#45;&gt;2979611560976</title>\n",
       "<path fill=\"none\" stroke=\"black\" d=\"M65,-352.09C65,-345.47 65,-336.47 65,-328.27\"/>\n",
       "<polygon fill=\"black\" stroke=\"black\" points=\"68.5,-328.34 65,-318.34 61.5,-328.34 68.5,-328.34\"/>\n",
       "</g>\n",
       "<!-- 2979606569888 -->\n",
       "<g id=\"node8\" class=\"node\">\n",
       "<title>2979606569888</title>\n",
       "<polygon fill=\"lightgrey\" stroke=\"black\" points=\"115,-430 15,-430 15,-409.25 115,-409.25 115,-430\"/>\n",
       "<text text-anchor=\"middle\" x=\"65\" y=\"-416.5\" font-family=\"monospace\" font-size=\"10.00\">AccumulateGrad</text>\n",
       "</g>\n",
       "<!-- 2979606569888&#45;&gt;2979611559824 -->\n",
       "<g id=\"edge6\" class=\"edge\">\n",
       "<title>2979606569888&#45;&gt;2979611559824</title>\n",
       "<path fill=\"none\" stroke=\"black\" d=\"M65,-408.84C65,-402.22 65,-393.22 65,-385.02\"/>\n",
       "<polygon fill=\"black\" stroke=\"black\" points=\"68.5,-385.09 65,-375.09 61.5,-385.09 68.5,-385.09\"/>\n",
       "</g>\n",
       "<!-- 2979597048544 -->\n",
       "<g id=\"node9\" class=\"node\">\n",
       "<title>2979597048544</title>\n",
       "<polygon fill=\"lightblue\" stroke=\"black\" points=\"92,-499.5 38,-499.5 38,-466 92,-466 92,-499.5\"/>\n",
       "<text text-anchor=\"middle\" x=\"65\" y=\"-486\" font-family=\"monospace\" font-size=\"10.00\">x</text>\n",
       "<text text-anchor=\"middle\" x=\"65\" y=\"-473.25\" font-family=\"monospace\" font-size=\"10.00\"> (17)</text>\n",
       "</g>\n",
       "<!-- 2979597048544&#45;&gt;2979606569888 -->\n",
       "<g id=\"edge7\" class=\"edge\">\n",
       "<title>2979597048544&#45;&gt;2979606569888</title>\n",
       "<path fill=\"none\" stroke=\"black\" d=\"M65,-465.69C65,-458.35 65,-449.57 65,-441.71\"/>\n",
       "<polygon fill=\"black\" stroke=\"black\" points=\"68.5,-441.98 65,-431.98 61.5,-441.98 68.5,-441.98\"/>\n",
       "</g>\n",
       "</g>\n",
       "</svg>\n"
      ],
      "text/plain": [
       "<graphviz.graphs.Digraph at 0x2b5beb04220>"
      ]
     },
     "metadata": {},
     "output_type": "display_data"
    }
   ],
   "source": [
    "# (3) 계산 그래프 시각화\n",
    "\n",
    "params = {'x': x}\n",
    "g = make_dot(z, params=params)\n",
    "display(g)"
   ]
  },
  {
   "cell_type": "code",
   "execution_count": 143,
   "metadata": {
    "id": "9nHpZIC3Nr_s"
   },
   "outputs": [
    {
     "name": "stdout",
     "output_type": "stream",
     "text": [
      "tensor([0.1050, 0.1261, 0.1491, 0.1731, 0.1966, 0.2179, 0.2350, 0.2461, 0.2500,\n",
      "        0.2461, 0.2350, 0.2179, 0.1966, 0.1731, 0.1491, 0.1261, 0.1050])\n"
     ]
    }
   ],
   "source": [
    "# (4) 경사 계산\n",
    "z.backward()\n",
    "\n",
    "# (5) 경삿값 확인\n",
    "print(x.grad)"
   ]
  },
  {
   "cell_type": "code",
   "execution_count": 144,
   "metadata": {
    "id": "ip_6cFLmNr_s"
   },
   "outputs": [
    {
     "data": {
      "image/png": "[encoded data removed]",
      "text/plain": [
       "<Figure size 600x600 with 1 Axes>"
      ]
     },
     "metadata": {},
     "output_type": "display_data"
    }
   ],
   "source": [
    "# 원래 함수와 경사 그래프\n",
    "\n",
    "plt.plot(x.data, y.data, c='b', label='y')\n",
    "plt.plot(x.data, x.grad.data, c='k', label='y.grad')\n",
    "plt.legend()\n",
    "plt.show()"
   ]
  }
 ],
 "metadata": {
  "colab": {
   "collapsed_sections": [],
   "name": "ch02_pytorch.ipynb",
   "provenance": [],
   "toc_visible": true
  },
  "kernelspec": {
   "display_name": "torchgpu_py3.9",
   "language": "python",
   "name": "python3"
  },
  "language_info": {
   "codemirror_mode": {
    "name": "ipython",
    "version": 3
   },
   "file_extension": ".py",
   "mimetype": "text/x-python",
   "name": "python",
   "nbconvert_exporter": "python",
   "pygments_lexer": "ipython3",
   "version": "3.9.19"
  }
 },
 "nbformat": 4,
 "nbformat_minor": 0
}
