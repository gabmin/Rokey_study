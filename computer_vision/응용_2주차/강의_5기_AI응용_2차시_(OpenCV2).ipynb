{
 "cells": [
  {
   "cell_type": "markdown",
   "metadata": {},
   "source": [
    "# 2장 OpenCV를 이용한 기하학적 변환"
   ]
  },
  {
   "cell_type": "code",
   "metadata": {
    "ExecuteTime": {
     "end_time": "2025-09-24T03:06:14.183162Z",
     "start_time": "2025-09-24T03:06:13.095723Z"
    }
   },
   "source": [
    "import numpy as np\n",
    "import cv2\n",
    "import sys\n",
    "import matplotlib.pyplot as plt\n",
    "from pathlib import Path"
   ],
   "outputs": [],
   "execution_count": 1
  },
  {
   "cell_type": "markdown",
   "metadata": {},
   "source": [
    "## 영상 필터링 (Filtering)"
   ]
  },
  {
   "cell_type": "markdown",
   "metadata": {},
   "source": [
    "### 2D Convolution"
   ]
  },
  {
   "cell_type": "code",
   "metadata": {
    "ExecuteTime": {
     "end_time": "2025-09-16T01:50:54.762128Z",
     "start_time": "2025-09-16T01:50:54.759547Z"
    }
   },
   "source": [
    "# cv2.filter2D(src, ddepth, kernel[, dst[, anchor[, delta[, borderType]]]]) -> dst\n",
    "# src: 입력영상\n",
    "# ddepth: 출력영상의 타입 (cv2.CV_8U, cv2.CV_32F, cv2.CV_64F), \n",
    "#     -1 => 입력영상과 같은 타입\n",
    "# kernel: filter 행렬, 실수형\n",
    "# anchor: (-1, -1)  필터의 중앙점\n",
    "# delta:   더할 값\n",
    "# borderType: 가장자리 픽셀확장 방식\n",
    "# dst: 출력영상\n",
    "\n",
    "# blur(src, ksize[, dst[, anchor[, borderType]]]) -> dst\n",
    "# src: 입력영상\n",
    "# ksize: mean filter kernel size"
   ],
   "outputs": [],
   "execution_count": 2
  },
  {
   "cell_type": "code",
   "metadata": {
    "ExecuteTime": {
     "end_time": "2025-09-24T03:06:17.356655Z",
     "start_time": "2025-09-24T03:06:17.353471Z"
    }
   },
   "source": "folder = \"fig2\"",
   "outputs": [],
   "execution_count": 2
  },
  {
   "cell_type": "code",
   "metadata": {
    "ExecuteTime": {
     "end_time": "2025-09-16T01:52:00.967240Z",
     "start_time": "2025-09-16T01:51:57.599333Z"
    }
   },
   "source": [
    "## 영역처리, 영상 필터링, Convolution\n",
    "\n",
    "# src = cv2.imread(\"./fig/blue_eyes.png\", cv2.IMREAD_REDUCED_COLOR_2)\n",
    "src = cv2.imread(Path(folder, \"blue_eyes.png\"), cv2.IMREAD_REDUCED_COLOR_2)\n",
    "\n",
    "# cv2.blur 를 메뉴얼로 사용하는 방법\n",
    "# kernel_3 = np.ones((3, 3), dtype = np.float64)/9.\n",
    "# kernel_5 = np.ones((5, 5), dtype = np.float64)/25.\n",
    "# kernel_7 = np.ones((7, 7), dtype = np.float64)/49.\n",
    "# dst_kernel = cv2.filter2D(src, -1, kernel_3) # -1 => uint 타입 (cv2.CV_8U)\n",
    "\n",
    "dst_blur = cv2.blur(src, (3, 3))\n",
    "\n",
    "cv2.imshow('src', src)\n",
    "# cv2.imshow('dst_kernel', dst_kernel)\n",
    "cv2.imshow(\"dst_blur\", dst_blur)\n",
    "\n",
    "cv2.waitKey()\n",
    "cv2.destroyAllWindows()"
   ],
   "outputs": [],
   "execution_count": 8
  },
  {
   "cell_type": "code",
   "metadata": {
    "ExecuteTime": {
     "end_time": "2025-09-24T06:59:59.792089Z",
     "start_time": "2025-09-24T06:59:55.068195Z"
    }
   },
   "source": [
    "src = cv2.imread(Path(folder, \"blue_eyes.png\"), cv2.IMREAD_REDUCED_COLOR_2)\n",
    "cv2.imshow(\"src\", src)\n",
    "\n",
    "for ksize in (3, 5, 7, 9, 12, 15, 23):\n",
    "    dst = cv2.blur(src, (ksize, ksize))\n",
    "    text = '{} x {}'.format(ksize, ksize)\n",
    "    cv2.putText(dst, text, (20, 30), cv2.FONT_HERSHEY_COMPLEX, 1, (0, 0, 255), 2, cv2.LINE_AA)\n",
    "\n",
    "    cv2.imshow('mean filter', dst)\n",
    "    cv2.waitKey()\n",
    "\n",
    "cv2.destroyAllWindows()"
   ],
   "outputs": [],
   "execution_count": 5
  },
  {
   "cell_type": "markdown",
   "metadata": {},
   "source": [
    "### 가우시안 필터"
   ]
  },
  {
   "cell_type": "code",
   "execution_count": null,
   "metadata": {},
   "outputs": [],
   "source": [
    "# GaussianBlur(src, (ksize), sigmaX[, dst[, sigmaY[, borderType]]]) -> dst\n",
    "# src: 입력영상\n",
    "# ksize: mean filter kernel size, (0, 0) 자동으로 결정\n",
    "# sigmaX:  gaussian x 방향의 sigma\n",
    "# sigmaY:  gaussian y 방향의 sigma"
   ]
  },
  {
   "cell_type": "code",
   "metadata": {
    "ExecuteTime": {
     "end_time": "2025-09-24T06:59:41.568582Z",
     "start_time": "2025-09-24T06:59:38.777724Z"
    }
   },
   "source": [
    "## 가우시안 필터\n",
    "\n",
    "src = cv2.imread(Path(folder, \"blue_eyes.png\"), cv2.IMREAD_COLOR)\n",
    "\n",
    "dst_Gaussian1 = cv2.GaussianBlur(src, (0, 0), 1)\n",
    "dst_mean = cv2.blur(src, (5,5))\n",
    "# dst_Gaussian2 = cv2.GaussianBlur(src, (0, 0), 2)\n",
    "# dst_Gaussian3 = cv2.GaussianBlur(src, (0, 0), 3)\n",
    "\n",
    "cv2.imshow('src', src)\n",
    "cv2.imshow(\"Gaussian1\", dst_Gaussian1)\n",
    "cv2.imshow(\"dst_mean\", dst_mean)\n",
    "# cv2.imshow(\"Gaussian2\", dst_Gaussian2)\n",
    "# cv2.imshow(\"Gaussian3\", dst_Gaussian3)\n",
    "\n",
    "cv2.waitKey()\n",
    "cv2.destroyAllWindows()"
   ],
   "outputs": [],
   "execution_count": 4
  },
  {
   "cell_type": "markdown",
   "metadata": {},
   "source": [
    "### 사프닝 필터링"
   ]
  },
  {
   "cell_type": "code",
   "metadata": {
    "ExecuteTime": {
     "end_time": "2025-09-16T01:53:29.788328Z",
     "start_time": "2025-09-16T01:53:25.678961Z"
    }
   },
   "source": [
    "## Sharpening filter\n",
    "\n",
    "src = cv2.imread(Path(folder, \"blue_eyes.png\"), cv2.IMREAD_REDUCED_COLOR_2)\n",
    "\n",
    "blr = cv2.GaussianBlur(src, (0, 0), 1)\n",
    "blr2 = cv2.GaussianBlur(src, (0, 0), 2)\n",
    "blr3 = cv2.GaussianBlur(src, (0, 0), 3)\n",
    "\n",
    "dst = cv2.addWeighted(src, 2, blr, -1, 0.0)\n",
    "dst2 = cv2.addWeighted(src, 2, blr2, -1, 0.0)\n",
    "dst3 = cv2.addWeighted(src, 2, blr3, -1, 0.0)\n",
    "\n",
    "cv2.imshow('src', src)\n",
    "cv2.imshow(\"blr\", blr)\n",
    "cv2.imshow(\"sharpening1\", dst)\n",
    "cv2.imshow(\"sharpening2\", dst2)\n",
    "cv2.imshow(\"sharpening3\", dst3)\n",
    "\n",
    "cv2.waitKey()\n",
    "cv2.destroyAllWindows()\n",
    "\n",
    "# [[ 0. -1.  0.]\n",
    "#  [-1.  5. -1.]\n",
    "#  [ 0. -1.  0.]]\n",
    "\n",
    "# [[-0.2 -0.8 -0.2]\n",
    "#  [-0.8  5.  -0.8]\n",
    "#  [-0.2 -0.8 -0.2]]\n",
    "\n",
    "# src = cv2.imread('blue_eyes.png', cv2.IMREAD_REDUCED_COLOR_2)\n",
    "# kernel = np.ones((3, 3), dtype = np.float64)*-1\n",
    "# kernel[1,1] = 9\n",
    "# #print(kernel)\n",
    "# dst = cv2.filter2D(src, -1, kernel)\n",
    "# cv2_imshow(src)\n",
    "# cv2_imshow(dst)"
   ],
   "outputs": [],
   "execution_count": 10
  },
  {
   "cell_type": "code",
   "execution_count": 7,
   "metadata": {},
   "outputs": [
    {
     "data": {
      "image/png": "[encoded data removed]",
      "text/plain": [
       "<Figure size 640x480 with 2 Axes>"
      ]
     },
     "metadata": {},
     "output_type": "display_data"
    },
    {
     "name": "stdout",
     "output_type": "stream",
     "text": [
      "[[-0.5 -0.5 -0.5]\n",
      " [-0.5  5.  -0.5]\n",
      " [-0.5 -0.5 -0.5]]\n"
     ]
    }
   ],
   "source": [
    "## sharpen filter\n",
    "src = cv2.imread(Path(folder, \"blue_eyes.png\"))\n",
    "\n",
    "kernel_3 = np.ones((3, 3), dtype = np.float64)*-.5\n",
    "kernel_3[1, 1] = 5\n",
    "\n",
    "dst_kernel = cv2.filter2D(src, -1, kernel_3)\n",
    "\n",
    "cv2.imshow('src', src)\n",
    "cv2.imshow('dst_kernel', dst_kernel)\n",
    "\n",
    "plt.imshow(kernel_3, cmap=\"seismic\")\n",
    "plt.colorbar()\n",
    "plt.show()\n",
    "# cv2.imshow(\"dst_blur\", dst_blur)\n",
    "\n",
    "cv2.waitKey()\n",
    "cv2.destroyAllWindows()\n",
    "print(kernel_3)"
   ]
  },
  {
   "cell_type": "markdown",
   "metadata": {},
   "source": [
    "### 중앙값 필터링"
   ]
  },
  {
   "cell_type": "code",
   "metadata": {
    "ExecuteTime": {
     "end_time": "2025-09-16T02:15:29.409461Z",
     "start_time": "2025-09-16T02:15:18.201699Z"
    }
   },
   "source": [
    "## median filter\n",
    "src = cv2.imread(Path(folder, \"blue_eyes.png\"), cv2.IMREAD_GRAYSCALE)\n",
    "salt_noise = np.random.choice((0, 255), src.shape, p = (0.99, 0.01)).astype(np.uint8)\n",
    "pepper_noise = np.random.choice((0, 255), src.shape, p = (0.99, 0.01)).astype(np.uint8)\n",
    "dst = cv2.add(src, salt_noise)\n",
    "dst = cv2.subtract(dst, pepper_noise)\n",
    "\n",
    "dst_median = cv2.medianBlur(dst, 3)\n",
    "# dst_Gaussian = cv2.GaussianBlur(dst, (0, 0), 1)\n",
    "\n",
    "cv2.imshow(\"src\", src)\n",
    "# cv2.imshow(\"salt_noise\", salt_noise)\n",
    "# cv2.imshow(\"pepper_noise\", pepper_noise)\n",
    "cv2.imshow(\"dst\", dst)\n",
    "cv2.imshow(\"dst_median\", dst_median)\n",
    "# cv2.imshow(\"dst_Gaussian\", dst_Gaussian)\n",
    "\n",
    "\n",
    "while True:\n",
    "    if cv2.waitKey() == ord(\"q\"):\n",
    "        break\n",
    "    \n",
    "cv2.destroyAllWindows()"
   ],
   "outputs": [],
   "execution_count": 11
  },
  {
   "cell_type": "markdown",
   "metadata": {},
   "source": [
    "### 양방향 필터 (Bilateral filter)"
   ]
  },
  {
   "cell_type": "code",
   "execution_count": 32,
   "metadata": {},
   "outputs": [],
   "source": [
    "# bilateralFilter(src, d, sigmaColor, sigmaSpace[, dst[, borderType]]) -> dst\n",
    "# src: 입력영상\n",
    "# d: -1로 설정 (output 이미지 사이즈 / -1이면 input 사이즈와 동일하게 출력됨)\n",
    "# sigmaColor: 색공간의 표준편차\n",
    "# sigmaSpace: 좌표공간의표준편차\n",
    "# dst:\n",
    "# borderType: 가장자리 픽셀확장 방식"
   ]
  },
  {
   "cell_type": "code",
   "metadata": {
    "ExecuteTime": {
     "end_time": "2025-09-16T02:23:08.891082Z",
     "start_time": "2025-09-16T02:22:52.196453Z"
    }
   },
   "source": [
    "src = cv2.imread(Path(folder, \"blue_eyes.png\"), cv2.IMREAD_GRAYSCALE)\n",
    "\n",
    "dst_Gaussian = cv2.GaussianBlur(src, (0, 0), 1. )\n",
    "dst_Bilateral_5 = cv2.bilateralFilter(src, -1, 5, 10)\n",
    "dst_Bilateral_20 = cv2.bilateralFilter(src, -1, 20, 10)\n",
    "\n",
    "cv2.imshow(\"src\", src)\n",
    "cv2.imshow(\"Gaussian\", dst_Gaussian)\n",
    "cv2.imshow(\"Bilateral_5\", dst_Bilateral_5)\n",
    "cv2.imshow(\"Bilateral_20\", dst_Bilateral_20)\n",
    "\n",
    "\n",
    "cv2.waitKey()\n",
    "cv2.destroyAllWindows()"
   ],
   "outputs": [],
   "execution_count": 12
  },
  {
   "cell_type": "markdown",
   "metadata": {},
   "source": [
    "### 카툰 필터"
   ]
  },
  {
   "cell_type": "code",
   "metadata": {
    "ExecuteTime": {
     "end_time": "2025-09-24T03:07:17.933848Z",
     "start_time": "2025-09-24T03:06:30.714074Z"
    }
   },
   "source": [
    "## bitwise operator\n",
    "src1 = np.zeros((256, 256), np.uint8)\n",
    "cv2.rectangle(src1, (10, 10), (127, 245), 255, -1)\n",
    "src2 = np.zeros((256, 256), np.uint8)\n",
    "cv2.circle(src2, (127, 127), 100, 128, -1)\n",
    "\n",
    "dst1 = cv2.bitwise_and(src1, src2)\n",
    "dst2 = cv2.bitwise_or(src1, src2)\n",
    "dst3 = cv2.bitwise_xor(src1, src2)\n",
    "dst4 = cv2.bitwise_not(src2)\n",
    "\n",
    "cv2.imshow(\"src1\", src1)\n",
    "cv2.imshow('src2', src2)\n",
    "cv2.imshow(\"AND\", dst1)\n",
    "cv2.imshow(\"OR\", dst2)\n",
    "cv2.imshow(\"XOR\", dst3)\n",
    "cv2.imshow(\"NOT\", dst4)\n",
    "\n",
    "cv2.waitKey()\n",
    "cv2.destroyAllWindows()"
   ],
   "outputs": [],
   "execution_count": 3
  },
  {
   "cell_type": "code",
   "metadata": {
    "ExecuteTime": {
     "end_time": "2025-09-16T02:55:58.044847Z",
     "start_time": "2025-09-16T02:55:48.303386Z"
    }
   },
   "source": [
    "## Cartoon 필터\n",
    "\n",
    "time = cv2.TickMeter()\n",
    "\n",
    "# src = cv2.imread(\"./fig/son.jpg\")\n",
    "src = cv2.imread(Path(folder, \"son.jpg\"))\n",
    "\n",
    "time.start()\n",
    "\n",
    "### 연산 구간\n",
    "for i in range(100):\n",
    "    blr = cv2.GaussianBlur(src, (0, 0), 2)\n",
    "    edge = 255 - cv2.Canny(src, 100, 200)\n",
    "    edge = cv2.cvtColor(edge, cv2.COLOR_GRAY2BGR)\n",
    "    dst = cv2.bitwise_and(blr, edge)\n",
    "###\n",
    "\n",
    "time.stop()\n",
    "\n",
    "cv2.imshow(\"son\", src)\n",
    "cv2.imshow(\"blr\", blr)\n",
    "cv2.imshow(\"edge\", edge)\n",
    "cv2.imshow(\"dst\", dst)\n",
    "print(time.getTimeMilli(), \"ms\")\n",
    "time.reset()\n",
    "\n",
    "cv2.waitKey()\n",
    "cv2.destroyAllWindows()"
   ],
   "outputs": [
    {
     "name": "stdout",
     "output_type": "stream",
     "text": [
      "120.2041 ms\n"
     ]
    }
   ],
   "execution_count": 14
  },
  {
   "cell_type": "markdown",
   "metadata": {},
   "source": [
    "## 기하학적 변환 (Geometric transform)"
   ]
  },
  {
   "cell_type": "markdown",
   "metadata": {},
   "source": [
    "### 영상 이동 (Translation)"
   ]
  },
  {
   "cell_type": "code",
   "execution_count": null,
   "metadata": {},
   "outputs": [],
   "source": [
    "# warpAffine(src, M, dsize[, dst[, flags[, borderMode[, borderValue]]]]) -> dst\n",
    "# src: 입력영상\n",
    "# M: affine transform matrix (size: 2 x 3)\n",
    "# dsize: 출력영상 크기, (0, 0) = 입력영상크기로 출력\n",
    "# borderValue: 값이 없는 영역을 채우는 값, default  = 0"
   ]
  },
  {
   "cell_type": "code",
   "metadata": {
    "ExecuteTime": {
     "end_time": "2025-09-16T03:29:39.615832Z",
     "start_time": "2025-09-16T03:29:37.429807Z"
    }
   },
   "source": [
    "## 영상 이동 (Translation)\n",
    "\n",
    "# src = cv2.imread(\"./fig/dog.bmp\")\n",
    "src = cv2.imread(Path(folder, \"dog.bmp\"))\n",
    "\n",
    "\n",
    "## affine matrix\n",
    "affine = np.array([[1, 0, 50],\n",
    "                   [0, 1, 200]], np.float32)\n",
    "\n",
    "print(\"affine matrix: \\n\", affine)\n",
    "# print(affine.dtype)\n",
    "\n",
    "dst = cv2.warpAffine(src, affine, (0, 0), \n",
    "                     borderMode = cv2.BORDER_CONSTANT, \n",
    "                     borderValue=(255, 255, 255))\n",
    "\n",
    "# dst = cv2.warpAffine(src, affine, (0, 0))\n",
    "\n",
    "cv2.imshow(\"src\", src)\n",
    "cv2.imshow(\"dst\", dst)\n",
    "\n",
    "cv2.waitKey()\n",
    "cv2.destroyAllWindows()"
   ],
   "outputs": [
    {
     "name": "stdout",
     "output_type": "stream",
     "text": [
      "affine matrix: \n",
      " [[  1.   0.  50.]\n",
      " [  0.   1. 200.]]\n"
     ]
    }
   ],
   "execution_count": 15
  },
  {
   "cell_type": "markdown",
   "metadata": {},
   "source": [
    "### 영상 회전 (Rotation)"
   ]
  },
  {
   "cell_type": "code",
   "execution_count": null,
   "metadata": {},
   "outputs": [],
   "source": [
    "# warpAffine(src, M, dsize[, dst[, flags[, borderMode[, borderValue]]]]) -> dst\n",
    "# src: 입력영상\n",
    "# M: affine transform matrix (size: 2 x 3)\n",
    "# dsize: 출력영상 크기, (0, 0) = 입력영상크기로 출력\n",
    "# borderValue: 값이 없는 영역을 채우는 값, default  = 0\n",
    "\n",
    "# getRotationMatrix2D(center, angle, scale) -> retval\n",
    "# center: 영상의 center\n",
    "# angle: 회전각도\n",
    "# scale: 확대율"
   ]
  },
  {
   "cell_type": "code",
   "execution_count": 13,
   "metadata": {},
   "outputs": [],
   "source": [
    "## 회전 변환 (Rotation)\n",
    "\n",
    "src = cv2.imread(Path(folder, \"dog.bmp\"))\n",
    "\n",
    "h, w = src.shape[:2]\n",
    "\n",
    "cp = (w//2, h//2)\n",
    "affine = cv2.getRotationMatrix2D(cp, 30, 1.)\n",
    "dst = cv2.warpAffine(src, affine, (0, 0))\n",
    "\n",
    "cv2.imshow(\"src\", src)\n",
    "cv2.imshow(\"dst\", dst)\n",
    "\n",
    "cv2.waitKey()\n",
    "cv2.destroyAllWindows()"
   ]
  },
  {
   "cell_type": "markdown",
   "metadata": {},
   "source": [
    "### 영상 확대 (Scaling)"
   ]
  },
  {
   "cell_type": "code",
   "execution_count": 3,
   "metadata": {},
   "outputs": [
    {
     "ename": "NameError",
     "evalue": "name 'folder' is not defined",
     "output_type": "error",
     "traceback": [
      "\u001B[1;31m---------------------------------------------------------------------------\u001B[0m",
      "\u001B[1;31mNameError\u001B[0m                                 Traceback (most recent call last)",
      "Cell \u001B[1;32mIn[3], line 3\u001B[0m\n\u001B[0;32m      1\u001B[0m \u001B[38;5;66;03m## 영상 확대 (Scaling)\u001B[39;00m\n\u001B[0;32m      2\u001B[0m \u001B[38;5;66;03m# src = cv2.imread(\"./fig/rose.jpg\")\u001B[39;00m\n\u001B[1;32m----> 3\u001B[0m src \u001B[38;5;241m=\u001B[39m cv2\u001B[38;5;241m.\u001B[39mimread(Path(\u001B[43mfolder\u001B[49m, \u001B[38;5;124m\"\u001B[39m\u001B[38;5;124mrose.jpg\u001B[39m\u001B[38;5;124m\"\u001B[39m))\n\u001B[0;32m      5\u001B[0m \u001B[38;5;28mprint\u001B[39m(\u001B[38;5;124m\"\u001B[39m\u001B[38;5;124msrc shape : \u001B[39m\u001B[38;5;124m\"\u001B[39m, src\u001B[38;5;241m.\u001B[39mshape)\n\u001B[0;32m      7\u001B[0m dst1 \u001B[38;5;241m=\u001B[39m cv2\u001B[38;5;241m.\u001B[39mresize(src, (\u001B[38;5;241m1900\u001B[39m, \u001B[38;5;241m1300\u001B[39m), interpolation\u001B[38;5;241m=\u001B[39mcv2\u001B[38;5;241m.\u001B[39mINTER_NEAREST)\n",
      "\u001B[1;31mNameError\u001B[0m: name 'folder' is not defined"
     ]
    }
   ],
   "source": [
    "## 영상 확대 (Scaling)\n",
    "# src = cv2.imread(\"./fig/rose.jpg\")\n",
    "src = cv2.imread(Path(folder, \"rose.jpg\"))\n",
    "\n",
    "print(\"src shape : \", src.shape)\n",
    "\n",
    "dst1 = cv2.resize(src, (1900, 1300), interpolation=cv2.INTER_NEAREST)\n",
    "dst2 = cv2.resize(src, (1900, 1300), interpolation=cv2.INTER_LINEAR)\n",
    "dst3 = cv2.resize(src, (1900, 1300), interpolation=cv2.INTER_CUBIC)\n",
    "\n",
    "cv2.imshow(\"src\", src)\n",
    "cv2.imshow('INTER_NEAREST', dst1[800:1600, 800:1200])\n",
    "cv2.imshow('INTER_LINEAR', dst2[800:1600, 800:1200])\n",
    "cv2.imshow('INTER_CUBIC', dst3[800:1600, 800:1200])\n",
    "\n",
    "\n",
    "cv2.waitKey()\n",
    "cv2.destroyAllWindows()"
   ]
  },
  {
   "cell_type": "markdown",
   "metadata": {},
   "source": [
    "### 영상 전단 (Shearing)"
   ]
  },
  {
   "cell_type": "code",
   "metadata": {
    "ExecuteTime": {
     "end_time": "2025-09-16T05:46:34.160523Z",
     "start_time": "2025-09-16T05:46:23.805137Z"
    }
   },
   "source": [
    "## Shearing\n",
    "src = cv2.imread(Path(folder, \"dog.bmp\"))\n",
    "\n",
    "affine  = np.array([[1, 0.2, 0],\n",
    "                    [0.2, 1, 0 ]], np.float32)\n",
    "\n",
    "h, w = src.shape[:2]\n",
    "\n",
    "dst = cv2.warpAffine(src, affine, (int(w + 0.2 * h), int(h + 0.2 * w)))\n",
    "\n",
    "cv2.imshow(\"src\", src)\n",
    "cv2.imshow(\"dst\", dst)\n",
    "\n",
    "cv2.waitKey()\n",
    "cv2.destroyAllWindows()"
   ],
   "outputs": [],
   "execution_count": 39
  },
  {
   "cell_type": "markdown",
   "metadata": {},
   "source": [
    "### 비선형 변환 (Perspective transform)"
   ]
  },
  {
   "cell_type": "code",
   "execution_count": null,
   "metadata": {},
   "outputs": [],
   "source": [
    "# getPerspectiveTransform(src, dst[, solveMethod]) -> retval\n",
    "# src: 입력영상의 4개 좌표점, numpy array shape(4,2)\n",
    "# dst: 출력영상의 4개 좌표점, numpy array shape(4,2)"
   ]
  },
  {
   "cell_type": "code",
   "metadata": {
    "ExecuteTime": {
     "end_time": "2025-09-24T07:02:43.497241Z",
     "start_time": "2025-09-24T07:02:41.668856Z"
    }
   },
   "source": [
    "## Non linear warping\n",
    "\n",
    "# src = cv2.imread(\"./fig/checkerboard.png\")\n",
    "src = cv2.imread(Path(folder, \"checkerboard.png\"))\n",
    "\n",
    "\n",
    "h, w = src.shape[:2]\n",
    "\n",
    "# a, b, c, d = cv2.selectROI(src)  # 꼭지점 좌표 찾기 => 화면에서 클릭하면 좌표값을 반환함\n",
    "# print(a, b, c, d)\n",
    "\n",
    "srcPoint = np.array([[218, 48], [691, 47], [830, 518], [67, 527]], np.float32)\n",
    "dstPoint = np.array([[0, 0], [w-1, 0], [w-1, h-1], [0, h-1]], np.float32)\n",
    "\n",
    "pers = cv2.getPerspectiveTransform(srcPoint, dstPoint)\n",
    "# array([[ 2.13264257e+00,  6.72294421e-01, -4.97186212e+02],\n",
    "#        [ 4.08735101e-03,  1.93331703e+00, -9.36902599e+01],\n",
    "#        [-1.86504523e-05,  1.36282733e-03,  1.00000000e+00]])\n",
    "\n",
    "dst = cv2.warpPerspective(src, pers, (w, h))\n",
    "\n",
    "print(\"width = \", w, \"height = \", h)\n",
    "cv2.imshow(\"src\", src)\n",
    "cv2.imshow(\"dst\", dst)\n",
    "\n",
    "cv2.waitKey()\n",
    "cv2.destroyAllWindows()"
   ],
   "outputs": [
    {
     "name": "stdout",
     "output_type": "stream",
     "text": [
      "width =  960 height =  540\n"
     ]
    }
   ],
   "execution_count": 6
  },
  {
   "metadata": {},
   "cell_type": "code",
   "outputs": [],
   "execution_count": null,
   "source": ""
  },
  {
   "cell_type": "markdown",
   "metadata": {},
   "source": [
    "### 비선형 리매핑"
   ]
  },
  {
   "cell_type": "code",
   "execution_count": null,
   "metadata": {},
   "outputs": [],
   "source": [
    "# remap(src, map1, map2, interpolation[, dst[, borderMode[, borderValue]]]) -> dst"
   ]
  },
  {
   "cell_type": "code",
   "execution_count": 9,
   "metadata": {},
   "outputs": [
    {
     "name": "stdout",
     "output_type": "stream",
     "text": [
      "\n",
      "[[  0.   0.   0. ...   0.   0.   0.]\n",
      " [  1.   1.   1. ...   1.   1.   1.]\n",
      " [  2.   2.   2. ...   2.   2.   2.]\n",
      " ...\n",
      " [597. 597. 597. ... 597. 597. 597.]\n",
      " [598. 598. 598. ... 598. 598. 598.]\n",
      " [599. 599. 599. ... 599. 599. 599.]]\n"
     ]
    }
   ],
   "source": [
    "## remapping\n",
    "# src = cv2.imread(\"./fig/bamboo.jpg\")\n",
    "src = cv2.imread(Path(folder, \"bamboo.jpg\"))\n",
    "\n",
    "\n",
    "h, w = src.shape[:2]\n",
    "\n",
    "map2, map1 = np.indices((h, w), np.float32)\n",
    "# print(map1)\n",
    "print(\"\")\n",
    "print(map2)\n",
    "\n",
    "map1 = map1 + 10*np.sin(map2/32)\n",
    "\n",
    "dst = cv2.remap(src, map1, map2, cv2.INTER_CUBIC)\n",
    "\n",
    "cv2.imshow('src', src)\n",
    "cv2.imshow('dst', dst)\n",
    "\n",
    "cv2.waitKey()\n",
    "cv2.destroyAllWindows()"
   ]
  }
 ],
 "metadata": {
  "kernelspec": {
   "display_name": "torchgpu_py3.12",
   "language": "python",
   "name": "python3"
  },
  "language_info": {
   "codemirror_mode": {
    "name": "ipython",
    "version": 3
   },
   "file_extension": ".py",
   "mimetype": "text/x-python",
   "name": "python",
   "nbconvert_exporter": "python",
   "pygments_lexer": "ipython3",
   "version": "3.12.9"
  }
 },
 "nbformat": 4,
 "nbformat_minor": 2
}
