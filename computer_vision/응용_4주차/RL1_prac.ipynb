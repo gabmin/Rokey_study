{
 "cells": [
  {
   "cell_type": "code",
   "id": "initial_id",
   "metadata": {
    "collapsed": true,
    "ExecuteTime": {
     "end_time": "2025-09-29T02:52:08.844654Z",
     "start_time": "2025-09-29T02:52:08.107524Z"
    }
   },
   "source": "!pip install gymnasium keyboard",
   "outputs": [
    {
     "name": "stdout",
     "output_type": "stream",
     "text": [
      "Requirement already satisfied: gymnasium in c:\\users\\rlark\\appdata\\local\\programs\\python\\python310\\lib\\site-packages (1.2.1)\n",
      "Requirement already satisfied: keyboard in c:\\users\\rlark\\appdata\\local\\programs\\python\\python310\\lib\\site-packages (0.13.5)\n",
      "Requirement already satisfied: numpy>=1.21.0 in c:\\users\\rlark\\appdata\\local\\programs\\python\\python310\\lib\\site-packages (from gymnasium) (2.2.6)\n",
      "Requirement already satisfied: cloudpickle>=1.2.0 in c:\\users\\rlark\\appdata\\local\\programs\\python\\python310\\lib\\site-packages (from gymnasium) (3.1.1)\n",
      "Requirement already satisfied: typing-extensions>=4.3.0 in c:\\users\\rlark\\appdata\\local\\programs\\python\\python310\\lib\\site-packages (from gymnasium) (4.14.1)\n",
      "Requirement already satisfied: farama-notifications>=0.0.1 in c:\\users\\rlark\\appdata\\local\\programs\\python\\python310\\lib\\site-packages (from gymnasium) (0.0.4)\n"
     ]
    }
   ],
   "execution_count": 6
  },
  {
   "metadata": {
    "ExecuteTime": {
     "end_time": "2025-09-29T02:53:23.346583Z",
     "start_time": "2025-09-29T02:53:22.622999Z"
    }
   },
   "cell_type": "code",
   "source": "!pip install pygame",
   "id": "11bc19b483c60966",
   "outputs": [
    {
     "name": "stdout",
     "output_type": "stream",
     "text": [
      "Requirement already satisfied: pygame in c:\\users\\rlark\\appdata\\local\\programs\\python\\python310\\lib\\site-packages (2.6.1)\n"
     ]
    }
   ],
   "execution_count": 4
  },
  {
   "metadata": {
    "ExecuteTime": {
     "end_time": "2025-09-29T04:44:08.459342Z",
     "start_time": "2025-09-29T04:44:08.456563Z"
    }
   },
   "cell_type": "code",
   "source": [
    "import numpy as np\n",
    "import pandas as pd\n",
    "import matplotlib.pyplot as plt\n",
    "import seaborn as sns\n",
    "import keyboard\n",
    "\n",
    "import pygame\n",
    "import gymnasium as gym\n"
   ],
   "id": "c9c5131e4b569823",
   "outputs": [],
   "execution_count": 4
  },
  {
   "metadata": {
    "ExecuteTime": {
     "end_time": "2025-09-29T02:57:14.662325Z",
     "start_time": "2025-09-29T02:57:14.649998Z"
    }
   },
   "cell_type": "code",
   "source": [
    "env = gym.make(\n",
    "    'FrozenLake-v1',\n",
    "    desc=None,\n",
    "    map_name=\"4x4\",\n",
    "    is_slippery=False,\n",
    ")"
   ],
   "id": "841978a0e9c0247d",
   "outputs": [],
   "execution_count": 9
  },
  {
   "metadata": {
    "ExecuteTime": {
     "end_time": "2025-09-29T03:06:52.354314Z",
     "start_time": "2025-09-29T03:06:52.350869Z"
    }
   },
   "cell_type": "code",
   "source": [
    "env.reset()\n",
    "env.action_space.n\n",
    "env.observation_space.n\n",
    "transitions = env.unwrapped.P\n",
    "print(transitions)"
   ],
   "id": "d9aba4a3acda0c41",
   "outputs": [
    {
     "name": "stdout",
     "output_type": "stream",
     "text": [
      "{0: {0: [(1.0, 0, 0, False)], 1: [(1.0, 4, 0, False)], 2: [(1.0, 1, 0, False)], 3: [(1.0, 0, 0, False)]}, 1: {0: [(1.0, 0, 0, False)], 1: [(1.0, 5, 0, True)], 2: [(1.0, 2, 0, False)], 3: [(1.0, 1, 0, False)]}, 2: {0: [(1.0, 1, 0, False)], 1: [(1.0, 6, 0, False)], 2: [(1.0, 3, 0, False)], 3: [(1.0, 2, 0, False)]}, 3: {0: [(1.0, 2, 0, False)], 1: [(1.0, 7, 0, True)], 2: [(1.0, 3, 0, False)], 3: [(1.0, 3, 0, False)]}, 4: {0: [(1.0, 4, 0, False)], 1: [(1.0, 8, 0, False)], 2: [(1.0, 5, 0, True)], 3: [(1.0, 0, 0, False)]}, 5: {0: [(1.0, 5, 0, True)], 1: [(1.0, 5, 0, True)], 2: [(1.0, 5, 0, True)], 3: [(1.0, 5, 0, True)]}, 6: {0: [(1.0, 5, 0, True)], 1: [(1.0, 10, 0, False)], 2: [(1.0, 7, 0, True)], 3: [(1.0, 2, 0, False)]}, 7: {0: [(1.0, 7, 0, True)], 1: [(1.0, 7, 0, True)], 2: [(1.0, 7, 0, True)], 3: [(1.0, 7, 0, True)]}, 8: {0: [(1.0, 8, 0, False)], 1: [(1.0, 12, 0, True)], 2: [(1.0, 9, 0, False)], 3: [(1.0, 4, 0, False)]}, 9: {0: [(1.0, 8, 0, False)], 1: [(1.0, 13, 0, False)], 2: [(1.0, 10, 0, False)], 3: [(1.0, 5, 0, True)]}, 10: {0: [(1.0, 9, 0, False)], 1: [(1.0, 14, 0, False)], 2: [(1.0, 11, 0, True)], 3: [(1.0, 6, 0, False)]}, 11: {0: [(1.0, 11, 0, True)], 1: [(1.0, 11, 0, True)], 2: [(1.0, 11, 0, True)], 3: [(1.0, 11, 0, True)]}, 12: {0: [(1.0, 12, 0, True)], 1: [(1.0, 12, 0, True)], 2: [(1.0, 12, 0, True)], 3: [(1.0, 12, 0, True)]}, 13: {0: [(1.0, 12, 0, True)], 1: [(1.0, 13, 0, False)], 2: [(1.0, 14, 0, False)], 3: [(1.0, 9, 0, False)]}, 14: {0: [(1.0, 13, 0, False)], 1: [(1.0, 14, 0, False)], 2: [(1.0, 15, 1, True)], 3: [(1.0, 10, 0, False)]}, 15: {0: [(1.0, 15, 0, True)], 1: [(1.0, 15, 0, True)], 2: [(1.0, 15, 0, True)], 3: [(1.0, 15, 0, True)]}}\n"
     ]
    }
   ],
   "execution_count": 17
  },
  {
   "metadata": {
    "ExecuteTime": {
     "end_time": "2025-09-29T03:21:11.812756Z",
     "start_time": "2025-09-29T03:21:11.809140Z"
    }
   },
   "cell_type": "code",
   "source": [
    "action = env.action_space.sample()\n",
    "print(\"action = {}\".format(action))\n",
    "\n",
    "obs, reward, terminated, truncated, _ = env.step(action)\n",
    "print(obs, reward, terminated, truncated)\n",
    "\n",
    "env.close()"
   ],
   "id": "da6627e3eba5aec8",
   "outputs": [
    {
     "name": "stdout",
     "output_type": "stream",
     "text": [
      "action = 1\n",
      "4 0 False False\n"
     ]
    }
   ],
   "execution_count": 18
  },
  {
   "metadata": {
    "ExecuteTime": {
     "end_time": "2025-09-29T04:42:03.298904Z",
     "start_time": "2025-09-29T04:41:25.219864Z"
    }
   },
   "cell_type": "code",
   "source": [
    "env = gym.make(\"FrozenLake-v1\", desc = None, render_mode='human',\n",
    "               map_name = \"4x4\", is_slippery = False)\n",
    "\n",
    "obs, _ = env.reset()\n",
    "print('obs = ', obs)\n",
    "\n",
    "print(\"env.action_space =\", env.action_space.n)\n",
    "print(\"env.observation_space =\", env.observation_space.n)\n",
    "\n",
    "for episode in range(1000):\n",
    "    if keyboard.is_pressed('q'):\n",
    "        break\n",
    "        \n",
    "    action = env.action_space.sample()\n",
    "    obs, reward, terminated, truncated, _ = env.step(action)\n",
    "\n",
    "    if terminated or truncated:\n",
    "        obx, _ = env.reset()\n",
    "\n",
    "env.close()\n"
   ],
   "id": "720d7f84ee78eb87",
   "outputs": [
    {
     "name": "stdout",
     "output_type": "stream",
     "text": [
      "obs =  0\n",
      "env.action_space = 4\n",
      "env.observation_space = 16\n"
     ]
    },
    {
     "ename": "KeyboardInterrupt",
     "evalue": "",
     "output_type": "error",
     "traceback": [
      "\u001B[31m---------------------------------------------------------------------------\u001B[39m",
      "\u001B[31mKeyboardInterrupt\u001B[39m                         Traceback (most recent call last)",
      "\u001B[36mCell\u001B[39m\u001B[36m \u001B[39m\u001B[32mIn[20]\u001B[39m\u001B[32m, line 12\u001B[39m\n\u001B[32m     10\u001B[39m \u001B[38;5;28;01mfor\u001B[39;00m episode \u001B[38;5;129;01min\u001B[39;00m \u001B[38;5;28mrange\u001B[39m(\u001B[32m1000\u001B[39m):\n\u001B[32m     11\u001B[39m     action = env.action_space.sample()\n\u001B[32m---> \u001B[39m\u001B[32m12\u001B[39m     obs, reward, terminated, truncated, _ = \u001B[43menv\u001B[49m\u001B[43m.\u001B[49m\u001B[43mstep\u001B[49m\u001B[43m(\u001B[49m\u001B[43maction\u001B[49m\u001B[43m)\u001B[49m\n\u001B[32m     14\u001B[39m     \u001B[38;5;28;01mif\u001B[39;00m terminated \u001B[38;5;129;01mor\u001B[39;00m truncated:\n\u001B[32m     15\u001B[39m         obx, _ = env.reset()\n",
      "\u001B[36mFile \u001B[39m\u001B[32m~\\AppData\\Local\\Programs\\Python\\Python313\\Lib\\site-packages\\gymnasium\\wrappers\\common.py:125\u001B[39m, in \u001B[36mTimeLimit.step\u001B[39m\u001B[34m(self, action)\u001B[39m\n\u001B[32m    112\u001B[39m \u001B[38;5;28;01mdef\u001B[39;00m\u001B[38;5;250m \u001B[39m\u001B[34mstep\u001B[39m(\n\u001B[32m    113\u001B[39m     \u001B[38;5;28mself\u001B[39m, action: ActType\n\u001B[32m    114\u001B[39m ) -> \u001B[38;5;28mtuple\u001B[39m[ObsType, SupportsFloat, \u001B[38;5;28mbool\u001B[39m, \u001B[38;5;28mbool\u001B[39m, \u001B[38;5;28mdict\u001B[39m[\u001B[38;5;28mstr\u001B[39m, Any]]:\n\u001B[32m    115\u001B[39m \u001B[38;5;250m    \u001B[39m\u001B[33;03m\"\"\"Steps through the environment and if the number of steps elapsed exceeds ``max_episode_steps`` then truncate.\u001B[39;00m\n\u001B[32m    116\u001B[39m \n\u001B[32m    117\u001B[39m \u001B[33;03m    Args:\u001B[39;00m\n\u001B[32m   (...)\u001B[39m\u001B[32m    123\u001B[39m \n\u001B[32m    124\u001B[39m \u001B[33;03m    \"\"\"\u001B[39;00m\n\u001B[32m--> \u001B[39m\u001B[32m125\u001B[39m     observation, reward, terminated, truncated, info = \u001B[38;5;28;43mself\u001B[39;49m\u001B[43m.\u001B[49m\u001B[43menv\u001B[49m\u001B[43m.\u001B[49m\u001B[43mstep\u001B[49m\u001B[43m(\u001B[49m\u001B[43maction\u001B[49m\u001B[43m)\u001B[49m\n\u001B[32m    126\u001B[39m     \u001B[38;5;28mself\u001B[39m._elapsed_steps += \u001B[32m1\u001B[39m\n\u001B[32m    128\u001B[39m     \u001B[38;5;28;01mif\u001B[39;00m \u001B[38;5;28mself\u001B[39m._elapsed_steps >= \u001B[38;5;28mself\u001B[39m._max_episode_steps:\n",
      "\u001B[36mFile \u001B[39m\u001B[32m~\\AppData\\Local\\Programs\\Python\\Python313\\Lib\\site-packages\\gymnasium\\wrappers\\common.py:393\u001B[39m, in \u001B[36mOrderEnforcing.step\u001B[39m\u001B[34m(self, action)\u001B[39m\n\u001B[32m    391\u001B[39m \u001B[38;5;28;01mif\u001B[39;00m \u001B[38;5;129;01mnot\u001B[39;00m \u001B[38;5;28mself\u001B[39m._has_reset:\n\u001B[32m    392\u001B[39m     \u001B[38;5;28;01mraise\u001B[39;00m ResetNeeded(\u001B[33m\"\u001B[39m\u001B[33mCannot call env.step() before calling env.reset()\u001B[39m\u001B[33m\"\u001B[39m)\n\u001B[32m--> \u001B[39m\u001B[32m393\u001B[39m \u001B[38;5;28;01mreturn\u001B[39;00m \u001B[38;5;28;43msuper\u001B[39;49m\u001B[43m(\u001B[49m\u001B[43m)\u001B[49m\u001B[43m.\u001B[49m\u001B[43mstep\u001B[49m\u001B[43m(\u001B[49m\u001B[43maction\u001B[49m\u001B[43m)\u001B[49m\n",
      "\u001B[36mFile \u001B[39m\u001B[32m~\\AppData\\Local\\Programs\\Python\\Python313\\Lib\\site-packages\\gymnasium\\core.py:327\u001B[39m, in \u001B[36mWrapper.step\u001B[39m\u001B[34m(self, action)\u001B[39m\n\u001B[32m    323\u001B[39m \u001B[38;5;28;01mdef\u001B[39;00m\u001B[38;5;250m \u001B[39m\u001B[34mstep\u001B[39m(\n\u001B[32m    324\u001B[39m     \u001B[38;5;28mself\u001B[39m, action: WrapperActType\n\u001B[32m    325\u001B[39m ) -> \u001B[38;5;28mtuple\u001B[39m[WrapperObsType, SupportsFloat, \u001B[38;5;28mbool\u001B[39m, \u001B[38;5;28mbool\u001B[39m, \u001B[38;5;28mdict\u001B[39m[\u001B[38;5;28mstr\u001B[39m, Any]]:\n\u001B[32m    326\u001B[39m \u001B[38;5;250m    \u001B[39m\u001B[33;03m\"\"\"Uses the :meth:`step` of the :attr:`env` that can be overwritten to change the returned data.\"\"\"\u001B[39;00m\n\u001B[32m--> \u001B[39m\u001B[32m327\u001B[39m     \u001B[38;5;28;01mreturn\u001B[39;00m \u001B[38;5;28;43mself\u001B[39;49m\u001B[43m.\u001B[49m\u001B[43menv\u001B[49m\u001B[43m.\u001B[49m\u001B[43mstep\u001B[49m\u001B[43m(\u001B[49m\u001B[43maction\u001B[49m\u001B[43m)\u001B[49m\n",
      "\u001B[36mFile \u001B[39m\u001B[32m~\\AppData\\Local\\Programs\\Python\\Python313\\Lib\\site-packages\\gymnasium\\wrappers\\common.py:285\u001B[39m, in \u001B[36mPassiveEnvChecker.step\u001B[39m\u001B[34m(self, action)\u001B[39m\n\u001B[32m    283\u001B[39m     \u001B[38;5;28;01mreturn\u001B[39;00m env_step_passive_checker(\u001B[38;5;28mself\u001B[39m.env, action)\n\u001B[32m    284\u001B[39m \u001B[38;5;28;01melse\u001B[39;00m:\n\u001B[32m--> \u001B[39m\u001B[32m285\u001B[39m     \u001B[38;5;28;01mreturn\u001B[39;00m \u001B[38;5;28;43mself\u001B[39;49m\u001B[43m.\u001B[49m\u001B[43menv\u001B[49m\u001B[43m.\u001B[49m\u001B[43mstep\u001B[49m\u001B[43m(\u001B[49m\u001B[43maction\u001B[49m\u001B[43m)\u001B[49m\n",
      "\u001B[36mFile \u001B[39m\u001B[32m~\\AppData\\Local\\Programs\\Python\\Python313\\Lib\\site-packages\\gymnasium\\envs\\toy_text\\frozen_lake.py:332\u001B[39m, in \u001B[36mFrozenLakeEnv.step\u001B[39m\u001B[34m(self, a)\u001B[39m\n\u001B[32m    329\u001B[39m \u001B[38;5;28mself\u001B[39m.lastaction = a\n\u001B[32m    331\u001B[39m \u001B[38;5;28;01mif\u001B[39;00m \u001B[38;5;28mself\u001B[39m.render_mode == \u001B[33m\"\u001B[39m\u001B[33mhuman\u001B[39m\u001B[33m\"\u001B[39m:\n\u001B[32m--> \u001B[39m\u001B[32m332\u001B[39m     \u001B[38;5;28;43mself\u001B[39;49m\u001B[43m.\u001B[49m\u001B[43mrender\u001B[49m\u001B[43m(\u001B[49m\u001B[43m)\u001B[49m\n\u001B[32m    333\u001B[39m \u001B[38;5;66;03m# truncation=False as the time limit is handled by the `TimeLimit` wrapper added during `make`\u001B[39;00m\n\u001B[32m    334\u001B[39m \u001B[38;5;28;01mreturn\u001B[39;00m \u001B[38;5;28mint\u001B[39m(s), r, t, \u001B[38;5;28;01mFalse\u001B[39;00m, {\u001B[33m\"\u001B[39m\u001B[33mprob\u001B[39m\u001B[33m\"\u001B[39m: p}\n",
      "\u001B[36mFile \u001B[39m\u001B[32m~\\AppData\\Local\\Programs\\Python\\Python313\\Lib\\site-packages\\gymnasium\\envs\\toy_text\\frozen_lake.py:363\u001B[39m, in \u001B[36mFrozenLakeEnv.render\u001B[39m\u001B[34m(self)\u001B[39m\n\u001B[32m    361\u001B[39m     \u001B[38;5;28;01mreturn\u001B[39;00m \u001B[38;5;28mself\u001B[39m._render_text()\n\u001B[32m    362\u001B[39m \u001B[38;5;28;01melse\u001B[39;00m:  \u001B[38;5;66;03m# self.render_mode in {\"human\", \"rgb_array\"}:\u001B[39;00m\n\u001B[32m--> \u001B[39m\u001B[32m363\u001B[39m     \u001B[38;5;28;01mreturn\u001B[39;00m \u001B[38;5;28;43mself\u001B[39;49m\u001B[43m.\u001B[49m\u001B[43m_render_gui\u001B[49m\u001B[43m(\u001B[49m\u001B[38;5;28;43mself\u001B[39;49m\u001B[43m.\u001B[49m\u001B[43mrender_mode\u001B[49m\u001B[43m)\u001B[49m\n",
      "\u001B[36mFile \u001B[39m\u001B[32m~\\AppData\\Local\\Programs\\Python\\Python313\\Lib\\site-packages\\gymnasium\\envs\\toy_text\\frozen_lake.py:457\u001B[39m, in \u001B[36mFrozenLakeEnv._render_gui\u001B[39m\u001B[34m(self, mode)\u001B[39m\n\u001B[32m    455\u001B[39m     pygame.event.pump()\n\u001B[32m    456\u001B[39m     pygame.display.update()\n\u001B[32m--> \u001B[39m\u001B[32m457\u001B[39m     \u001B[38;5;28;43mself\u001B[39;49m\u001B[43m.\u001B[49m\u001B[43mclock\u001B[49m\u001B[43m.\u001B[49m\u001B[43mtick\u001B[49m\u001B[43m(\u001B[49m\u001B[38;5;28;43mself\u001B[39;49m\u001B[43m.\u001B[49m\u001B[43mmetadata\u001B[49m\u001B[43m[\u001B[49m\u001B[33;43m\"\u001B[39;49m\u001B[33;43mrender_fps\u001B[39;49m\u001B[33;43m\"\u001B[39;49m\u001B[43m]\u001B[49m\u001B[43m)\u001B[49m\n\u001B[32m    458\u001B[39m \u001B[38;5;28;01melif\u001B[39;00m mode == \u001B[33m\"\u001B[39m\u001B[33mrgb_array\u001B[39m\u001B[33m\"\u001B[39m:\n\u001B[32m    459\u001B[39m     \u001B[38;5;28;01mreturn\u001B[39;00m np.transpose(\n\u001B[32m    460\u001B[39m         np.array(pygame.surfarray.pixels3d(\u001B[38;5;28mself\u001B[39m.window_surface)), axes=(\u001B[32m1\u001B[39m, \u001B[32m0\u001B[39m, \u001B[32m2\u001B[39m)\n\u001B[32m    461\u001B[39m     )\n",
      "\u001B[31mKeyboardInterrupt\u001B[39m: "
     ]
    }
   ],
   "execution_count": 20
  }
 ],
 "metadata": {
  "kernelspec": {
   "display_name": "Python 3",
   "language": "python",
   "name": "python3"
  },
  "language_info": {
   "codemirror_mode": {
    "name": "ipython",
    "version": 2
   },
   "file_extension": ".py",
   "mimetype": "text/x-python",
   "name": "python",
   "nbconvert_exporter": "python",
   "pygments_lexer": "ipython2",
   "version": "2.7.6"
  }
 },
 "nbformat": 4,
 "nbformat_minor": 5
}
