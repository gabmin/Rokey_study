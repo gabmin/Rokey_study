{
 "cells": [
  {
   "cell_type": "markdown",
   "metadata": {},
   "source": [
    "# 강화 학습 (Reinforcement learning) 1"
   ]
  },
  {
   "cell_type": "markdown",
   "metadata": {},
   "source": [
    "## OpenAI gym 환경"
   ]
  },
  {
   "cell_type": "code",
   "execution_count": 1,
   "metadata": {},
   "outputs": [
    {
     "name": "stdout",
     "output_type": "stream",
     "text": [
      "Requirement already satisfied: gymnasium in c:\\users\\user\\anaconda3\\envs\\torchgpu_py3.12\\lib\\site-packages (1.1.1)\n",
      "Collecting keyboard\n",
      "  Using cached keyboard-0.13.5-py3-none-any.whl.metadata (4.0 kB)\n",
      "Requirement already satisfied: numpy>=1.21.0 in c:\\users\\user\\anaconda3\\envs\\torchgpu_py3.12\\lib\\site-packages (from gymnasium) (2.1.2)\n",
      "Requirement already satisfied: cloudpickle>=1.2.0 in c:\\users\\user\\anaconda3\\envs\\torchgpu_py3.12\\lib\\site-packages (from gymnasium) (3.1.1)\n",
      "Requirement already satisfied: typing-extensions>=4.3.0 in c:\\users\\user\\anaconda3\\envs\\torchgpu_py3.12\\lib\\site-packages (from gymnasium) (4.12.2)\n",
      "Requirement already satisfied: farama-notifications>=0.0.1 in c:\\users\\user\\anaconda3\\envs\\torchgpu_py3.12\\lib\\site-packages (from gymnasium) (0.0.4)\n",
      "Requirement already satisfied: pygame>=2.1.3 in c:\\users\\user\\anaconda3\\envs\\torchgpu_py3.12\\lib\\site-packages (from gymnasium[toy-text]) (2.6.1)\n",
      "Using cached keyboard-0.13.5-py3-none-any.whl (58 kB)\n",
      "Installing collected packages: keyboard\n",
      "Successfully installed keyboard-0.13.5\n"
     ]
    }
   ],
   "source": [
    "!pip install gymnasium \"gymnasium[toy-text]\" keyboard"
   ]
  },
  {
   "cell_type": "code",
   "execution_count": 12,
   "metadata": {},
   "outputs": [],
   "source": [
    "import time\n",
    "import random\n",
    "import keyboard\n",
    "import pygame\n",
    "\n",
    "import numpy as np\n",
    "import pandas as pd\n",
    "import matplotlib.pyplot as plt\n",
    "import seaborn as sns\n",
    "\n",
    "import gymnasium as gym"
   ]
  },
  {
   "cell_type": "markdown",
   "metadata": {},
   "source": [
    "### Frozen Lake environment"
   ]
  },
  {
   "cell_type": "code",
   "execution_count": null,
   "metadata": {},
   "outputs": [],
   "source": [
    "## env import\n",
    "env = gym.make(\"FrozenLake-v1\", \n",
    "               desc = None, map_name = \"4x4\", is_slippery = False)\n",
    "# env = gym.make('CartPole-v1')\n",
    "\n",
    "## First state return\n"
   ]
  },
  {
   "cell_type": "code",
   "execution_count": null,
   "metadata": {},
   "outputs": [],
   "source": [
    "env.reset()\n",
    "# (0, {'prob': 1})\n",
    "\n",
    "## action space return\n",
    "env.action_space.n\n",
    "# 4\n",
    "\n",
    "## state space return\n",
    "env.observation_space.n\n",
    "# 16\n",
    "\n",
    "# new_state, reward, terminated, truncated, info = env.step(action) \n",
    "# env.step(0)\n",
    "# (0, 0.0, False, False, {'prob': 1.0})\n",
    "\n",
    "# env.step(2)\n",
    "# (1, 0.0, False, False, {'prob': 1.0})\n",
    "\n",
    "env.step(3)"
   ]
  },
  {
   "cell_type": "code",
   "execution_count": null,
   "metadata": {},
   "outputs": [],
   "source": [
    "## init env\n",
    "env = gym.make(\"FrozenLake-v1\", \n",
    "               desc = None, \n",
    "               map_name = \"4x4\", \n",
    "               is_slippery = False)\n",
    "\n",
    "## init state\n",
    "s, _ = env.reset()\n",
    "print(\"inital state = {}\".format(s))\n",
    "\n",
    "env.action_space.n # range(4) = [0, 1, 2, 3]\n",
    "print(\"action space = {}\".format(env.action_space.n))\n",
    "\n",
    "env.observation_space.n\n",
    "print(\"observation space = {}\".format(env.observation_space.n))\n",
    "\n",
    "transitions = env.unwrapped.P\n",
    "# display(\"transition = \\n\", transitions)\n",
    "\n",
    "## action\n",
    "action = env.action_space.sample()\n",
    "print(\"action = {}\".format(action))\n",
    "\n",
    "obs, reward, terminated, truncated, _ = env.step(action)\n",
    "print(obs, reward, terminated, truncated)\n",
    "\n",
    "env.close()"
   ]
  },
  {
   "cell_type": "markdown",
   "metadata": {},
   "source": [
    "### Frozen lake map"
   ]
  },
  {
   "cell_type": "code",
   "execution_count": 5,
   "metadata": {},
   "outputs": [
    {
     "name": "stdout",
     "output_type": "stream",
     "text": [
      "obs =  0\n",
      "env.action_space = 4\n",
      "env.observation_space = 16\n",
      "action =  1\n"
     ]
    },
    {
     "data": {
      "text/plain": [
       "(4, 0.0, False, False, {'prob': 1.0})"
      ]
     },
     "execution_count": 5,
     "metadata": {},
     "output_type": "execute_result"
    }
   ],
   "source": [
    "env = gym.make(\"FrozenLake-v1\", desc = None,  \n",
    "               map_name = \"4x4\", is_slippery = False) # instance\n",
    " \n",
    "##\n",
    "obs, _ = env.reset() # initial state\n",
    "print('obs = ', obs)\n",
    "\n",
    "## action space\n",
    "print(\"env.action_space =\", env.action_space.n)\n",
    "print(\"env.observation_space =\", env.observation_space.n)\n",
    "\n",
    "## state transfer\n",
    "action = env.action_space.sample()\n",
    "print('action = ', action)\n",
    "\n",
    "obs, reward, terminated, truncated, info = env.step(action)\n",
    "(obs, reward, terminated, truncated, info)\n"
   ]
  },
  {
   "cell_type": "code",
   "execution_count": 6,
   "metadata": {},
   "outputs": [],
   "source": [
    "# from gymnasium.envs.toy_text.frozen_lake import generate_random_map\n",
    "\n",
    "# Generate a random map with a fixed seed\n",
    "# random_map = generate_random_map(size=4)\n",
    "# env = gym.make('FrozenLake-v1', render_mode = \"human\", \n",
    "#                desc=random_map) # A random generated map\n",
    "\n",
    "env = gym.make(\"FrozenLake-v1\", \n",
    "               render_mode = \"human\",\n",
    "               map_name = \"4x4\")\n",
    "\n",
    "obs, _ = env.reset() # obs = state 0\n",
    "\n",
    "try:\n",
    "    for i in range(1000):\n",
    "        if keyboard.is_pressed(\"q\"):\n",
    "            break\n",
    "        action = env.action_space.sample() # [0, 1, 2, 3]\n",
    "        obs, reward, terminated, truncated, info = env.step(action)\n",
    "\n",
    "        if terminated or truncated:\n",
    "            time.sleep(0.5)\n",
    "            obs, info = env.reset()\n",
    "finally:\n",
    "    env.close()"
   ]
  },
  {
   "cell_type": "markdown",
   "metadata": {},
   "source": [
    "## 확정적 환경 (Deterministic environment)"
   ]
  },
  {
   "cell_type": "code",
   "execution_count": 3,
   "metadata": {},
   "outputs": [
    {
     "name": "stdout",
     "output_type": "stream",
     "text": [
      "Exiting the environment.....\n"
     ]
    },
    {
     "data": {
      "image/png": "[encoded data removed]",
      "text/plain": [
       "<Figure size 640x480 with 1 Axes>"
      ]
     },
     "metadata": {},
     "output_type": "display_data"
    }
   ],
   "source": [
    "## openai gym init\n",
    "# is_slippery = True; stochastic environment\n",
    "\n",
    "# desc=[\"SFFF\", \n",
    "#       \"FHFH\", \n",
    "#       \"FFFH\", \n",
    "#       \"HFFG\"]\n",
    "\n",
    "env = gym.make(\"FrozenLake-v1\", desc=None,\n",
    "            #    render_mode = \"human\",\n",
    "               map_name = \"4x4\", is_slippery = False)\n",
    "\n",
    "## Deterministic policy dictionary\n",
    "policy = {0: 1, 1: 2, 2: 1, 3: 0, \n",
    "          4: 1, 6: 1, 8: 2, 9: 1, \n",
    "          10: 1, 13: 2, 14: 2}\n",
    "\n",
    "scores = []\n",
    "stochastic = False\n",
    "\n",
    "for i in range(1000):\n",
    "    if i >= 990:\n",
    "        env = gym.make(\"FrozenLake-v1\", desc=None,\n",
    "               render_mode = \"human\",\n",
    "               map_name = \"4x4\", is_slippery = False)\n",
    "        \n",
    "    if keyboard.is_pressed(\"q\"):\n",
    "        print(\"Exiting the environment.....\")\n",
    "        break\n",
    "\n",
    "    terminated, truncated = False, False\n",
    "    s, info = env.reset() # obs = 0\n",
    "    score = 0\n",
    "\n",
    "    while not terminated and not truncated:\n",
    "        if stochastic:\n",
    "            action = env.action_space.sample()\n",
    "        else:\n",
    "            action = policy[s]\n",
    "\n",
    "        s_, reward, terminated, truncated, info = env.step(action)\n",
    "        score += reward\n",
    "        s = s_\n",
    "\n",
    "    scores.append(score)\n",
    "    # time.sleep(0.5)\n",
    "\n",
    "pygame.quit()   \n",
    "env.close()\n",
    "\n",
    "plt.bar(np.arange(len(scores)), scores)\n",
    "plt.xlabel(\"Episode\")\n",
    "plt.ylabel(\"Sucesss = 1, Fail = 0\")\n",
    "plt.show()"
   ]
  },
  {
   "cell_type": "markdown",
   "metadata": {},
   "source": [
    "## 가치 평가 (Policy evaluation)"
   ]
  },
  {
   "cell_type": "code",
   "execution_count": 5,
   "metadata": {},
   "outputs": [
    {
     "name": "stdout",
     "output_type": "stream",
     "text": [
      "num_states =  16\n",
      "num_actions =  4\n",
      "==================================================\n",
      "transitions = \n",
      "\n"
     ]
    },
    {
     "data": {
      "text/plain": [
       "{0: {0: [(1.0, 0, 0.0, False)],\n",
       "  1: [(1.0, 4, 0.0, False)],\n",
       "  2: [(1.0, 1, 0.0, False)],\n",
       "  3: [(1.0, 0, 0.0, False)]},\n",
       " 1: {0: [(1.0, 0, 0.0, False)],\n",
       "  1: [(1.0, 5, 0.0, True)],\n",
       "  2: [(1.0, 2, 0.0, False)],\n",
       "  3: [(1.0, 1, 0.0, False)]},\n",
       " 2: {0: [(1.0, 1, 0.0, False)],\n",
       "  1: [(1.0, 6, 0.0, False)],\n",
       "  2: [(1.0, 3, 0.0, False)],\n",
       "  3: [(1.0, 2, 0.0, False)]},\n",
       " 3: {0: [(1.0, 2, 0.0, False)],\n",
       "  1: [(1.0, 7, 0.0, True)],\n",
       "  2: [(1.0, 3, 0.0, False)],\n",
       "  3: [(1.0, 3, 0.0, False)]},\n",
       " 4: {0: [(1.0, 4, 0.0, False)],\n",
       "  1: [(1.0, 8, 0.0, False)],\n",
       "  2: [(1.0, 5, 0.0, True)],\n",
       "  3: [(1.0, 0, 0.0, False)]},\n",
       " 5: {0: [(1.0, 5, 0, True)],\n",
       "  1: [(1.0, 5, 0, True)],\n",
       "  2: [(1.0, 5, 0, True)],\n",
       "  3: [(1.0, 5, 0, True)]},\n",
       " 6: {0: [(1.0, 5, 0.0, True)],\n",
       "  1: [(1.0, 10, 0.0, False)],\n",
       "  2: [(1.0, 7, 0.0, True)],\n",
       "  3: [(1.0, 2, 0.0, False)]},\n",
       " 7: {0: [(1.0, 7, 0, True)],\n",
       "  1: [(1.0, 7, 0, True)],\n",
       "  2: [(1.0, 7, 0, True)],\n",
       "  3: [(1.0, 7, 0, True)]},\n",
       " 8: {0: [(1.0, 8, 0.0, False)],\n",
       "  1: [(1.0, 12, 0.0, True)],\n",
       "  2: [(1.0, 9, 0.0, False)],\n",
       "  3: [(1.0, 4, 0.0, False)]},\n",
       " 9: {0: [(1.0, 8, 0.0, False)],\n",
       "  1: [(1.0, 13, 0.0, False)],\n",
       "  2: [(1.0, 10, 0.0, False)],\n",
       "  3: [(1.0, 5, 0.0, True)]},\n",
       " 10: {0: [(1.0, 9, 0.0, False)],\n",
       "  1: [(1.0, 14, 0.0, False)],\n",
       "  2: [(1.0, 11, 0.0, True)],\n",
       "  3: [(1.0, 6, 0.0, False)]},\n",
       " 11: {0: [(1.0, 11, 0, True)],\n",
       "  1: [(1.0, 11, 0, True)],\n",
       "  2: [(1.0, 11, 0, True)],\n",
       "  3: [(1.0, 11, 0, True)]},\n",
       " 12: {0: [(1.0, 12, 0, True)],\n",
       "  1: [(1.0, 12, 0, True)],\n",
       "  2: [(1.0, 12, 0, True)],\n",
       "  3: [(1.0, 12, 0, True)]},\n",
       " 13: {0: [(1.0, 12, 0.0, True)],\n",
       "  1: [(1.0, 13, 0.0, False)],\n",
       "  2: [(1.0, 14, 0.0, False)],\n",
       "  3: [(1.0, 9, 0.0, False)]},\n",
       " 14: {0: [(1.0, 13, 0.0, False)],\n",
       "  1: [(1.0, 14, 0.0, False)],\n",
       "  2: [(1.0, 15, 1.0, True)],\n",
       "  3: [(1.0, 10, 0.0, False)]},\n",
       " 15: {0: [(1.0, 15, 0, True)],\n",
       "  1: [(1.0, 15, 0, True)],\n",
       "  2: [(1.0, 15, 0, True)],\n",
       "  3: [(1.0, 15, 0, True)]}}"
      ]
     },
     "execution_count": 5,
     "metadata": {},
     "output_type": "execute_result"
    }
   ],
   "source": [
    "## Policy evaluation\n",
    "## deterministic world : is_slippery =  False\n",
    "env = gym.make(\"FrozenLake-v1\", desc = None,\n",
    "               map_name=\"4x4\", is_slippery = False)\n",
    "\n",
    "num_states = env.observation_space.n # 16\n",
    "num_actions = env.action_space.n\n",
    "transitions = env.unwrapped.P # (probability_1, next_state_1, reward_1, is_terminal_1)\n",
    "print(\"num_states = \", num_states)\n",
    "print(\"num_actions = \", num_actions)\n",
    "print(\"=\"*50)\n",
    "print('transitions = \\n' )\n",
    "transitions "
   ]
  },
  {
   "cell_type": "code",
   "execution_count": 6,
   "metadata": {},
   "outputs": [],
   "source": [
    "V = np.zeros(num_states)\n",
    "pi = np.ones([num_states, num_actions])*0.25\n",
    "# print(pi[0])\n",
    "# list(enumerate(pi[0]))\n",
    "# [0.25 0.25 0.25 0.25]\n",
    "# [(0, 0.25), (1, 0.25), (2, 0.25), (3, 0.25)]"
   ]
  },
  {
   "cell_type": "code",
   "execution_count": 10,
   "metadata": {},
   "outputs": [],
   "source": [
    "gamma = 0.95\n",
    "theta = 1e-3\n",
    "count = 0\n",
    "\n",
    "while True:\n",
    "    delta = 0\n",
    "    count += 1\n",
    "    for s in range(num_states):\n",
    "        old_value = V[s]\n",
    "        new_value = 0\n",
    "\n",
    "        for a, prob_action in enumerate(pi[s]): # [(0, 0.25), (1, 0.25), (2, 0.25), (3, 0.25)]\n",
    "            for prob_environ, s_, reward, terminated in transitions[s][a]:\n",
    "                new_value += prob_action*prob_environ*(reward + gamma*V[s_])\n",
    "        V[s] = new_value\n",
    "\n",
    "        delta = max(delta, np.abs(old_value - V[s]))\n",
    "        # print(f\"V({count}) = \", V)\n",
    "        # time.sleep(0.5)\n",
    "\n",
    "    if delta <= theta: # 수렴조건\n",
    "        break \n"
   ]
  },
  {
   "cell_type": "code",
   "execution_count": 13,
   "metadata": {},
   "outputs": [
    {
     "name": "stdout",
     "output_type": "stream",
     "text": [
      "Optimal Value = \n",
      "         0       1       2       3\n",
      "0  0.0055  0.0056  0.0133  0.0058\n",
      "1  0.0091  0.0000  0.0322  0.0000\n",
      "2  0.0246  0.0705  0.1224  0.0000\n",
      "3  0.0000  0.1504  0.4128  0.0000\n"
     ]
    },
    {
     "data": {
      "image/png": "[encoded data removed]",
      "text/plain": [
       "<Figure size 640x480 with 2 Axes>"
      ]
     },
     "metadata": {},
     "output_type": "display_data"
    }
   ],
   "source": [
    "df = pd.DataFrame(V.round(4).reshape(4, 4))\n",
    "# df = (pd.DataFrame(V.reshape(8, 8))*1000).round(2)\n",
    "\n",
    "print(\"Optimal Value = \\n\", df)\n",
    "\n",
    "sns.heatmap(df, annot=True, fmt = \".3f\")\n",
    "plt.title(\"Optimal value\")\n",
    "plt.show()"
   ]
  },
  {
   "cell_type": "markdown",
   "metadata": {},
   "source": [
    "## 정책 반복 (Policy iteration)"
   ]
  },
  {
   "cell_type": "code",
   "execution_count": 14,
   "metadata": {},
   "outputs": [
    {
     "name": "stdout",
     "output_type": "stream",
     "text": [
      "num_states =  16\n",
      "num_actions =  4\n",
      "==================================================\n",
      "transitions = \n"
     ]
    },
    {
     "data": {
      "text/plain": [
       "{0: {0: [(1.0, 0, 0.0, False)],\n",
       "  1: [(1.0, 4, 0.0, False)],\n",
       "  2: [(1.0, 1, 0.0, False)],\n",
       "  3: [(1.0, 0, 0.0, False)]},\n",
       " 1: {0: [(1.0, 0, 0.0, False)],\n",
       "  1: [(1.0, 5, 0.0, True)],\n",
       "  2: [(1.0, 2, 0.0, False)],\n",
       "  3: [(1.0, 1, 0.0, False)]},\n",
       " 2: {0: [(1.0, 1, 0.0, False)],\n",
       "  1: [(1.0, 6, 0.0, False)],\n",
       "  2: [(1.0, 3, 0.0, False)],\n",
       "  3: [(1.0, 2, 0.0, False)]},\n",
       " 3: {0: [(1.0, 2, 0.0, False)],\n",
       "  1: [(1.0, 7, 0.0, True)],\n",
       "  2: [(1.0, 3, 0.0, False)],\n",
       "  3: [(1.0, 3, 0.0, False)]},\n",
       " 4: {0: [(1.0, 4, 0.0, False)],\n",
       "  1: [(1.0, 8, 0.0, False)],\n",
       "  2: [(1.0, 5, 0.0, True)],\n",
       "  3: [(1.0, 0, 0.0, False)]},\n",
       " 5: {0: [(1.0, 5, 0, True)],\n",
       "  1: [(1.0, 5, 0, True)],\n",
       "  2: [(1.0, 5, 0, True)],\n",
       "  3: [(1.0, 5, 0, True)]},\n",
       " 6: {0: [(1.0, 5, 0.0, True)],\n",
       "  1: [(1.0, 10, 0.0, False)],\n",
       "  2: [(1.0, 7, 0.0, True)],\n",
       "  3: [(1.0, 2, 0.0, False)]},\n",
       " 7: {0: [(1.0, 7, 0, True)],\n",
       "  1: [(1.0, 7, 0, True)],\n",
       "  2: [(1.0, 7, 0, True)],\n",
       "  3: [(1.0, 7, 0, True)]},\n",
       " 8: {0: [(1.0, 8, 0.0, False)],\n",
       "  1: [(1.0, 12, 0.0, True)],\n",
       "  2: [(1.0, 9, 0.0, False)],\n",
       "  3: [(1.0, 4, 0.0, False)]},\n",
       " 9: {0: [(1.0, 8, 0.0, False)],\n",
       "  1: [(1.0, 13, 0.0, False)],\n",
       "  2: [(1.0, 10, 0.0, False)],\n",
       "  3: [(1.0, 5, 0.0, True)]},\n",
       " 10: {0: [(1.0, 9, 0.0, False)],\n",
       "  1: [(1.0, 14, 0.0, False)],\n",
       "  2: [(1.0, 11, 0.0, True)],\n",
       "  3: [(1.0, 6, 0.0, False)]},\n",
       " 11: {0: [(1.0, 11, 0, True)],\n",
       "  1: [(1.0, 11, 0, True)],\n",
       "  2: [(1.0, 11, 0, True)],\n",
       "  3: [(1.0, 11, 0, True)]},\n",
       " 12: {0: [(1.0, 12, 0, True)],\n",
       "  1: [(1.0, 12, 0, True)],\n",
       "  2: [(1.0, 12, 0, True)],\n",
       "  3: [(1.0, 12, 0, True)]},\n",
       " 13: {0: [(1.0, 12, 0.0, True)],\n",
       "  1: [(1.0, 13, 0.0, False)],\n",
       "  2: [(1.0, 14, 0.0, False)],\n",
       "  3: [(1.0, 9, 0.0, False)]},\n",
       " 14: {0: [(1.0, 13, 0.0, False)],\n",
       "  1: [(1.0, 14, 0.0, False)],\n",
       "  2: [(1.0, 15, 1.0, True)],\n",
       "  3: [(1.0, 10, 0.0, False)]},\n",
       " 15: {0: [(1.0, 15, 0, True)],\n",
       "  1: [(1.0, 15, 0, True)],\n",
       "  2: [(1.0, 15, 0, True)],\n",
       "  3: [(1.0, 15, 0, True)]}}"
      ]
     },
     "execution_count": 14,
     "metadata": {},
     "output_type": "execute_result"
    }
   ],
   "source": [
    "env = gym.make(\"FrozenLake-v1\", desc = None,\n",
    "               map_name = \"4x4\", is_slippery = False)\n",
    "\n",
    "num_states = env.observation_space.n\n",
    "num_actions = env.action_space.n\n",
    "transitions = env.unwrapped.P\n",
    "\n",
    "\n",
    "print(\"num_states = \", num_states)\n",
    "print(\"num_actions = \", num_actions) \n",
    "print(\"=\"*50)\n",
    "print(\"transitions = \")\n",
    "transitions"
   ]
  },
  {
   "cell_type": "code",
   "execution_count": 15,
   "metadata": {},
   "outputs": [
    {
     "name": "stdout",
     "output_type": "stream",
     "text": [
      "V =  [0. 0. 0. 0. 0. 0. 0. 0. 0. 0. 0. 0. 0. 0. 0. 0.]\n",
      "\n",
      "pi = \n",
      " [[0.25 0.25 0.25 0.25]\n",
      " [0.25 0.25 0.25 0.25]\n",
      " [0.25 0.25 0.25 0.25]\n",
      " [0.25 0.25 0.25 0.25]\n",
      " [0.25 0.25 0.25 0.25]\n",
      " [0.25 0.25 0.25 0.25]\n",
      " [0.25 0.25 0.25 0.25]\n",
      " [0.25 0.25 0.25 0.25]\n",
      " [0.25 0.25 0.25 0.25]\n",
      " [0.25 0.25 0.25 0.25]\n",
      " [0.25 0.25 0.25 0.25]\n",
      " [0.25 0.25 0.25 0.25]\n",
      " [0.25 0.25 0.25 0.25]\n",
      " [0.25 0.25 0.25 0.25]\n",
      " [0.25 0.25 0.25 0.25]\n",
      " [0.25 0.25 0.25 0.25]]\n"
     ]
    }
   ],
   "source": [
    "V = np.zeros(num_states)\n",
    "pi = np.ones([num_states, num_actions])*0.25\n",
    "print('V = ', V)\n",
    "print()\n",
    "print(\"pi = \\n\", pi)"
   ]
  },
  {
   "cell_type": "code",
   "execution_count": 16,
   "metadata": {},
   "outputs": [
    {
     "name": "stdout",
     "output_type": "stream",
     "text": [
      "iteration = 1\n",
      "iteration = 2\n",
      "converge = True\n",
      "Optimal State value = \n",
      "           0         1         2         3\n",
      "0  0.773781  0.814506  0.857375  0.814506\n",
      "1  0.814506  0.000000  0.902500  0.000000\n",
      "2  0.857375  0.902500  0.950000  0.000000\n",
      "3  0.000000  0.950000  1.000000  0.000000\n"
     ]
    },
    {
     "data": {
      "image/png": "[encoded data removed]",
      "text/plain": [
       "<Figure size 640x480 with 2 Axes>"
      ]
     },
     "metadata": {},
     "output_type": "display_data"
    },
    {
     "name": "stdout",
     "output_type": "stream",
     "text": [
      "\n",
      "Optimal Action = \n",
      " [[1 2 1 0]\n",
      " [1 0 1 0]\n",
      " [2 1 1 0]\n",
      " [0 2 2 0]]\n"
     ]
    }
   ],
   "source": [
    "V = np.zeros(num_states)\n",
    "pi = np.ones([num_states, num_actions])*0.25\n",
    "\n",
    "gamma = 0.95\n",
    "theta = 1e-5 #0.00001\n",
    "policy_converge = False\n",
    "\n",
    "count = 0\n",
    "while not policy_converge:\n",
    "    count += 1\n",
    "    # V(s) evaluation converge\n",
    "    while True:\n",
    "        delta = 0\n",
    "        for s in range(num_states):\n",
    "            old_value  = V[s]\n",
    "            new_value = 0\n",
    "\n",
    "            for a, prob_action in enumerate(pi[s]):\n",
    "\n",
    "                for prob_environ, s_, reward, terminated_ in transitions[s][a]:\n",
    "                    new_value += prob_action*prob_environ*(reward + gamma*V[s_])\n",
    "            V[s] = new_value\n",
    "            \n",
    "            delta = max(delta, np.abs(old_value - V[s]))\n",
    "\n",
    "        if delta < theta:\n",
    "            break\n",
    "\n",
    "\n",
    "    ## pi(a|s) update, \n",
    "    old_pi = np.copy(pi) ## 주소값\n",
    "    # old_pi = pi ## 주소값\n",
    "\n",
    "    for s in range(num_states):\n",
    "\n",
    "        new_action_values = np.zeros(num_actions) # []\n",
    "\n",
    "        for a in range(num_actions):\n",
    "            for prob_environ, s_, reward, _ in transitions[s][a]:\n",
    "                new_action_values[a] += prob_environ*(reward + gamma* V[s_])\n",
    "\n",
    "        new_action = np.argmax(new_action_values) # 2\n",
    "      \n",
    "        pi[s] = np.eye(num_actions)[new_action]\n",
    "\n",
    "    print(\"iteration = {}\".format(count))    \n",
    "    # print(pi)\n",
    "    # time.sleep(0.5)\n",
    "\n",
    "    if (old_pi == pi).all():\n",
    "        print(\"converge = True\")\n",
    "        policy_converge = True\n",
    "\n",
    "\n",
    "## Value\n",
    "df = pd.DataFrame(V.reshape(4, 4))\n",
    "print(\"Optimal State value = \\n\", df)\n",
    "sns.heatmap(df, annot=True, fmt = \".3f\")\n",
    "plt.title(\"Optimal value\")\n",
    "plt.show()\n",
    "\n",
    "## Policy\n",
    "# print(\"Optimal policy = \\n\", pi)\n",
    "print()\n",
    "print(\"Optimal Action = \\n\", np.argmax(pi, axis = 1).reshape(4, 4))\n",
    "\n"
   ]
  },
  {
   "cell_type": "markdown",
   "metadata": {},
   "source": [
    "## 가치 반복 (Valu iteration)"
   ]
  },
  {
   "cell_type": "code",
   "execution_count": 17,
   "metadata": {},
   "outputs": [],
   "source": [
    "env = gym.make('FrozenLake-v1', desc = None,\n",
    "               map_name = \"4x4\", is_slippery = False)\n",
    "\n",
    "num_states = env.observation_space.n #16\n",
    "num_actions = env.action_space.n # 4\n",
    "transitions = env.unwrapped.P"
   ]
  },
  {
   "cell_type": "code",
   "execution_count": 18,
   "metadata": {},
   "outputs": [
    {
     "name": "stdout",
     "output_type": "stream",
     "text": [
      "Optimal Value = \n",
      " [0.77378094 0.81450625 0.857375   0.81450625 0.81450625 0.\n",
      " 0.9025     0.         0.857375   0.9025     0.95       0.\n",
      " 0.         0.95       1.         0.        ]\n",
      "Optimal Policy = \n",
      " [[0. 1. 0. 0.]\n",
      " [0. 0. 1. 0.]\n",
      " [0. 1. 0. 0.]\n",
      " [1. 0. 0. 0.]\n",
      " [0. 1. 0. 0.]\n",
      " [1. 0. 0. 0.]\n",
      " [0. 1. 0. 0.]\n",
      " [1. 0. 0. 0.]\n",
      " [0. 0. 1. 0.]\n",
      " [0. 1. 0. 0.]\n",
      " [0. 1. 0. 0.]\n",
      " [1. 0. 0. 0.]\n",
      " [1. 0. 0. 0.]\n",
      " [0. 0. 1. 0.]\n",
      " [0. 0. 1. 0.]\n",
      " [1. 0. 0. 0.]]\n",
      "Optimal Action = \n",
      " [[1 2 1 0]\n",
      " [1 0 1 0]\n",
      " [2 1 1 0]\n",
      " [0 2 2 0]]\n"
     ]
    },
    {
     "data": {
      "image/png": "[encoded data removed]",
      "text/plain": [
       "<Figure size 640x480 with 2 Axes>"
      ]
     },
     "metadata": {},
     "output_type": "display_data"
    }
   ],
   "source": [
    "## State value function\n",
    "V = np.zeros(num_states) \n",
    "\n",
    "gamma = 0.95\n",
    "theta = 1e-3\n",
    "\n",
    "\n",
    "while True:\n",
    "    delta = 0\n",
    "\n",
    "    for s in range(num_states):\n",
    "        old_value = V[s]\n",
    "        new_action_values = np.zeros(num_actions)\n",
    "\n",
    "        for a in range(num_actions):\n",
    "            \n",
    "            for prob_environ, s_, reward, _ in transitions[s][a]:\n",
    "                new_action_values[a] += prob_environ*(reward + gamma*V[s_])\n",
    "\n",
    "        v_max = max(new_action_values)\n",
    "        V[s] = v_max        \n",
    "        delta = max(delta, np.abs(old_value - v_max))\n",
    "\n",
    "    if delta < theta:\n",
    "        break\n",
    "\n",
    "\n",
    "\n",
    "# pi control\n",
    "pi = np.ones([num_states, num_actions])\n",
    "\n",
    "for s in range(num_states):\n",
    "\n",
    "    action_values = np.zeros(num_actions)\n",
    "\n",
    "    for a in range(num_actions):\n",
    "        for prob_environ, s_, reward, _ in transitions[s][a]:\n",
    "            action_values[a] += prob_environ*(reward + gamma*V[s_])\n",
    "\n",
    "    new_action = np.argmax(action_values)\n",
    "    pi[s] = np.eye(num_actions)[new_action]\n",
    "\n",
    "\n",
    "\n",
    "## value\n",
    "df = pd.DataFrame(V.reshape(4, 4))\n",
    "print(\"Optimal Value = \\n\", V)\n",
    "\n",
    "## Policy\n",
    "print(\"Optimal Policy = \\n\", pi)\n",
    "print(\"Optimal Action = \\n\", np.argmax(pi, axis = 1).reshape(4, 4))\n",
    "\n",
    "## heatmap\n",
    "sns.heatmap(df, annot=True, fmt = \"f\")\n",
    "plt.title(\"Otptimal Value\")\n",
    "plt.show()"
   ]
  }
 ],
 "metadata": {
  "kernelspec": {
   "display_name": "torchgpu_py3.12",
   "language": "python",
   "name": "python3"
  },
  "language_info": {
   "codemirror_mode": {
    "name": "ipython",
    "version": 3
   },
   "file_extension": ".py",
   "mimetype": "text/x-python",
   "name": "python",
   "nbconvert_exporter": "python",
   "pygments_lexer": "ipython3",
   "version": "3.12.9"
  }
 },
 "nbformat": 4,
 "nbformat_minor": 2
}
